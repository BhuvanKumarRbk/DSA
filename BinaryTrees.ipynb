{
 "cells": [
  {
   "cell_type": "code",
   "execution_count": 15,
   "id": "0f1b8105-14d0-4b0b-b12a-0f19ae00df21",
   "metadata": {},
   "outputs": [],
   "source": [
    "class BinaryTree:\n",
    "    def __init__(self, val):\n",
    "        self.left = None\n",
    "        self.right = None\n",
    "        self.data = val\n",
    "        \n",
    "tree = BinaryTree(1)\n",
    "\n",
    "tree.left = BinaryTree(2)\n",
    "tree.right = BinaryTree(3)\n",
    "\n",
    "tree.left.left = BinaryTree(4)\n",
    "tree.left.right = BinaryTree(5)\n",
    "\n",
    "tree.right.left = BinaryTree(6)\n",
    "tree.right.right = BinaryTree(7)\n",
    "\n",
    " #       1\n",
    " #    2     3\n",
    " # 4    5  6   7"
   ]
  },
  {
   "cell_type": "code",
   "execution_count": 13,
   "id": "c8e7a7d7-cc20-4a6e-bb26-0da9b189abc0",
   "metadata": {},
   "outputs": [
    {
     "data": {
      "text/plain": [
       "[4, 2, 1, 3, 7]"
      ]
     },
     "execution_count": 13,
     "metadata": {},
     "output_type": "execute_result"
    }
   ],
   "source": [
    "def getTopView(root):\n",
    "    if not root: return []\n",
    "    \n",
    "    q = [(root, 0)]\n",
    "    mp = {0: root.data}\n",
    "    \n",
    "    while q:\n",
    "        \n",
    "        q_len = len(q)\n",
    "        for i in range(q_len):\n",
    "            \n",
    "            item = q.pop(-1)\n",
    "            node = item[0]\n",
    "            val = item[1]\n",
    "            \n",
    "            if node.left:\n",
    "                q.insert(0, (node.left, val - 1))\n",
    "                if val-1 not in mp:\n",
    "                    mp[val-1] = node.left.data\n",
    "                \n",
    "            if node.right:\n",
    "                q.insert(0, (node.right, val + 1))\n",
    "                if val+1 not in mp:\n",
    "                    mp[val+1] = node.right.data\n",
    "                    \n",
    "    top_view = []\n",
    "    for key in sorted(mp.keys()):\n",
    "        top_view.append(mp[key])\n",
    "    \n",
    "    return top_view\n",
    "\n",
    "getTopView(tree)"
   ]
  },
  {
   "cell_type": "code",
   "execution_count": 14,
   "id": "1d11982a-c0bb-4e79-a8b6-c89c9356c4e1",
   "metadata": {},
   "outputs": [
    {
     "data": {
      "text/plain": [
       "[4, 2, 6, 3, 7]"
      ]
     },
     "execution_count": 14,
     "metadata": {},
     "output_type": "execute_result"
    }
   ],
   "source": [
    "def bottomView(root):\n",
    "    \n",
    "    bottom_view = []\n",
    "    if not root: return bottom_view\n",
    "\n",
    "    mp = {0: root.data}\n",
    "\n",
    "    q = [(root, 0)]\n",
    "    \n",
    "    while q:\n",
    "        \n",
    "        q_len = len(q)\n",
    "        \n",
    "        for i in range(q_len):\n",
    "            node, val = q.pop(-1)\n",
    "            \n",
    "            if node.left:\n",
    "                q.insert(0, (node.left, val-1))\n",
    "                mp[val-1] = node.left.data\n",
    "                \n",
    "            if node.right:\n",
    "                q.insert(0, (node.right, val+1))\n",
    "                mp[val+1] = node.right.data\n",
    "                \n",
    "    for key in sorted(mp.keys()):\n",
    "        bottom_view.append(mp[key])\n",
    "        \n",
    "    return bottom_view\n",
    "\n",
    "bottomView(tree)"
   ]
  },
  {
   "cell_type": "code",
   "execution_count": 17,
   "id": "bdf3259c-fa99-4301-a706-2221686a152d",
   "metadata": {},
   "outputs": [
    {
     "name": "stdout",
     "output_type": "stream",
     "text": [
      "1\n",
      "2\n",
      "3\n",
      "4\n",
      "5\n",
      "6\n",
      "7\n",
      "8\n",
      "9\n",
      "10\n",
      "11\n",
      "12\n",
      "13\n",
      "14\n",
      "15\n"
     ]
    }
   ],
   "source": [
    "def print_tree(tree):\n",
    "    q = [tree]\n",
    "    while q:\n",
    "        q_len = len(q)\n",
    "        \n",
    "        for i in range(q_len):\n",
    "            item = q.pop()\n",
    "            \n",
    "            print(item.data)\n",
    "            \n",
    "            if item.left:\n",
    "                q.insert(0, item.left)\n",
    "                \n",
    "            if item.right:\n",
    "                q.insert(0, item.right)\n",
    "                \n",
    "        \n",
    "print_tree(tree)"
   ]
  },
  {
   "cell_type": "code",
   "execution_count": 23,
   "id": "e02104ff-132a-4edc-bf8a-a3b66d5cfefb",
   "metadata": {},
   "outputs": [
    {
     "name": "stdout",
     "output_type": "stream",
     "text": [
      "[5, 6, 9, 10, 11, 12, 13, 14]\n",
      "[14, 13, 12, 11, 10, 9]\n"
     ]
    },
    {
     "data": {
      "text/plain": [
       "11"
      ]
     },
     "execution_count": 23,
     "metadata": {},
     "output_type": "execute_result"
    }
   ],
   "source": [
    "def exceptBoundary(root):\n",
    "    \n",
    "    q = [root]\n",
    "    total = 0\n",
    "    \n",
    "    last_level = []\n",
    "    levels = []\n",
    "    \n",
    "    while q:\n",
    "        last_level = [n.data for n in q]        \n",
    "        q_len = len(q)\n",
    "        last_level = last_level[1:q_len-1]\n",
    "        \n",
    "        for i in range(q_len):\n",
    "            \n",
    "            node = q.pop(-1)\n",
    "            \n",
    "            if not (i == 0 or i == q_len-1):\n",
    "                total += node.data\n",
    "                levels.append(node.data)\n",
    "                \n",
    "            if node.left:\n",
    "                q.insert(0, node.left)\n",
    "                \n",
    "            if node.right:\n",
    "                q.insert(0, node.right)\n",
    "                \n",
    "    return total - sum(last_level)\n",
    "\n",
    "tree = BinaryTree(1)\n",
    "\n",
    "tree.left = BinaryTree(2)\n",
    "tree.right = BinaryTree(3)\n",
    "\n",
    "tree.left.left = BinaryTree(4)\n",
    "tree.left.right = BinaryTree(5)\n",
    "\n",
    "tree.right.left = BinaryTree(6)\n",
    "tree.right.right = BinaryTree(7)\n",
    "\n",
    "tree.left.left.left = BinaryTree(8)\n",
    "tree.left.left.right = BinaryTree(9)\n",
    "tree.left.right.left = BinaryTree(10)\n",
    "tree.left.right.right = BinaryTree(11)\n",
    "\n",
    "tree.right.left.left = BinaryTree(12)\n",
    "tree.right.left.right = BinaryTree(13)\n",
    "tree.right.right.left = BinaryTree(14)\n",
    "tree.right.right.right = BinaryTree(15)\n",
    "\n",
    "exceptBoundary(tree)"
   ]
  },
  {
   "cell_type": "code",
   "execution_count": null,
   "id": "c42bebd7-b9b9-4fcb-82ad-94ce98b1c526",
   "metadata": {},
   "outputs": [],
   "source": []
  },
  {
   "cell_type": "code",
   "execution_count": 2,
   "id": "4a014e13-a9f3-4dd9-a38f-02a27d227050",
   "metadata": {},
   "outputs": [
    {
     "data": {
      "text/plain": [
       "522"
      ]
     },
     "execution_count": 2,
     "metadata": {},
     "output_type": "execute_result"
    }
   ],
   "source": [
    "#       1\n",
    "#    2     3\n",
    "# 4    5  6   7\n",
    "        \n",
    "def dfs(root, total):\n",
    "    \n",
    "    if not root: return 0\n",
    "    \n",
    "    if not root.left and not root.right:\n",
    "        num = (total * 10) + root.data\n",
    "        return num\n",
    "    \n",
    "    val = (total * 10) + root.data\n",
    "    return dfs(root.left, val) + dfs(root.right, val)\n",
    "\n",
    "def rootToLeafSum(root):\n",
    "    total = dfs(root, 0)\n",
    "    return total\n",
    "\n",
    "t = rootToLeafSum(tree)\n",
    "t"
   ]
  },
  {
   "cell_type": "code",
   "execution_count": null,
   "id": "0a0e4a56-1756-4c10-b728-f5cee4537e0f",
   "metadata": {},
   "outputs": [],
   "source": []
  },
  {
   "cell_type": "code",
   "execution_count": 2,
   "id": "2655ebbb-1962-493e-ace8-5e5d9180b05d",
   "metadata": {},
   "outputs": [
    {
     "name": "stdout",
     "output_type": "stream",
     "text": [
      "4\n",
      "2\n",
      "5\n",
      "1\n",
      "6\n",
      "3\n",
      "7\n"
     ]
    }
   ],
   "source": [
    "def inOrder(tree):\n",
    "    if tree is None:\n",
    "        return\n",
    "    \n",
    "    inOrder(tree.left)\n",
    "    print(tree.data)\n",
    "    inOrder(tree.right)\n",
    "    \n",
    "inOrder(tree)"
   ]
  },
  {
   "cell_type": "code",
   "execution_count": 3,
   "id": "d6d5e044-c9ba-46db-bbf0-8b264d27a372",
   "metadata": {},
   "outputs": [
    {
     "name": "stdout",
     "output_type": "stream",
     "text": [
      "1\n",
      "2\n",
      "4\n",
      "5\n",
      "3\n",
      "6\n",
      "7\n"
     ]
    }
   ],
   "source": [
    "def preOrder(tree):\n",
    "    if tree is None:\n",
    "        return\n",
    "    \n",
    "    print(tree.data)\n",
    "\n",
    "    preOrder(tree.left)\n",
    "    preOrder(tree.right)\n",
    "    \n",
    "preOrder(tree)"
   ]
  },
  {
   "cell_type": "code",
   "execution_count": 12,
   "id": "5c7e1ceb-db2d-450f-9171-b1ba376dbed2",
   "metadata": {},
   "outputs": [
    {
     "data": {
      "text/plain": [
       "True"
      ]
     },
     "execution_count": 12,
     "metadata": {},
     "output_type": "execute_result"
    }
   ],
   "source": [
    "def isIdentical(root1, root2):\n",
    "        \n",
    "    if root1 is None and root2 is None: return True\n",
    "\n",
    "    if (root1 is None) or (root2 is None): return False \n",
    "    \n",
    "    if root1.data != root2.data: return False\n",
    "\n",
    "    return isIdentical(root1.left, root2.left) and isIdentical(root1.right, root2.right)\n",
    "\n",
    "isIdentical(tree, tree)"
   ]
  },
  {
   "cell_type": "code",
   "execution_count": 14,
   "id": "34b63f32-ab2e-43d6-9224-b380e2d55f45",
   "metadata": {},
   "outputs": [],
   "source": [
    "tree1 = BinaryTree(1)\n",
    "\n",
    "tree1.left = BinaryTree(3)\n",
    "tree1.right = BinaryTree(2)\n",
    "\n",
    "tree1.left.left = BinaryTree(7)\n",
    "tree1.left.right = BinaryTree(6)\n",
    "\n",
    "tree1.right.left = BinaryTree(5)\n",
    "tree1.right.right = BinaryTree(4)"
   ]
  },
  {
   "cell_type": "code",
   "execution_count": 16,
   "id": "b37aa23d-49af-4639-8f89-8f7bdd325695",
   "metadata": {},
   "outputs": [
    {
     "data": {
      "text/plain": [
       "False"
      ]
     },
     "execution_count": 16,
     "metadata": {},
     "output_type": "execute_result"
    }
   ],
   "source": [
    "def isMirror(tree1, tree2):\n",
    "    if tree1 is None and tree2 is None: \n",
    "        return True\n",
    "    \n",
    "    if tree1 is None or tree2 is None:\n",
    "        return False\n",
    "    \n",
    "    if tree1.data != tree2.data: return False\n",
    "\n",
    "    return isMirror(tree1.left, tree2.right) and isMirror(tree1.right, tree2.left)\n",
    "\n",
    "isMirror(tree, tree)"
   ]
  },
  {
   "cell_type": "code",
   "execution_count": 22,
   "id": "efc44fbf-2d8f-49ae-991f-49297f080cc5",
   "metadata": {},
   "outputs": [
    {
     "data": {
      "text/plain": [
       "True"
      ]
     },
     "execution_count": 22,
     "metadata": {},
     "output_type": "execute_result"
    }
   ],
   "source": [
    "tree2 = BinaryTree(1)\n",
    "\n",
    "tree2.left = BinaryTree(2)\n",
    "tree2.right = BinaryTree(2)\n",
    "\n",
    "tree2.left.left = BinaryTree(3)\n",
    "tree2.left.right = BinaryTree(4)\n",
    "\n",
    "tree2.right.left = BinaryTree(4)\n",
    "tree2.right.right = BinaryTree(3)\n",
    "\n",
    "def isSymmetry(left_root, right_root):\n",
    "    \n",
    "    if not right_root and not left_root: return True\n",
    "\n",
    "    if left_root.data != right_root.data: return False\n",
    "\n",
    "    return isSymmetry(left_root.left, right_root.right) and isSymmetry(left_root.right, right_root.left)\n",
    "\n",
    "isSymmetry(tree2.left, tree2.right)"
   ]
  },
  {
   "cell_type": "code",
   "execution_count": 32,
   "id": "eebed85e-4136-449a-afa5-ba7bf9e9fc34",
   "metadata": {},
   "outputs": [
    {
     "data": {
      "text/plain": [
       "True"
      ]
     },
     "execution_count": 32,
     "metadata": {},
     "output_type": "execute_result"
    }
   ],
   "source": [
    "tree = BinaryTree(5)\n",
    "\n",
    "tree.left = BinaryTree(2)\n",
    "tree.right = BinaryTree(7)\n",
    "\n",
    "tree.left.left = BinaryTree(1)\n",
    "tree.left.right = BinaryTree(3)\n",
    "\n",
    "tree.right.left = BinaryTree(6)\n",
    "tree.right.right = BinaryTree(8)\n",
    "\n",
    "def isBST(root):\n",
    "    if not root: return True\n",
    "    \n",
    "    if (root.left and root.left.data >= root.data) or (root.right and root.right.data <= root.data): return False\n",
    "\n",
    "    return isBST(root.left) and isBST(root.right)\n",
    "\n",
    "isBST(tree)"
   ]
  },
  {
   "cell_type": "code",
   "execution_count": 33,
   "id": "ac4db6b0-3bdc-4f25-a3dc-699c38876cb3",
   "metadata": {},
   "outputs": [],
   "source": [
    "def mirrorTree(root):\n",
    "    if not root: return None\n",
    "    \n",
    "    root.left, root.right = root.right, root.left\n",
    "    \n",
    "    mirrorTree(root.left)\n",
    "    mirrorTree(root.right)\n",
    "    \n",
    "    return root\n",
    "\n",
    "mirrored_tree = mirrorTree(tree)"
   ]
  },
  {
   "cell_type": "code",
   "execution_count": null,
   "id": "4f795b68-89c3-4333-8276-53ab88bc4810",
   "metadata": {},
   "outputs": [],
   "source": []
  },
  {
   "cell_type": "code",
   "execution_count": null,
   "id": "472bf141-6699-4435-8a9e-4678929dbad1",
   "metadata": {},
   "outputs": [],
   "source": []
  },
  {
   "cell_type": "code",
   "execution_count": 17,
   "id": "fd948b97-7923-4296-9e13-b13ddb28c993",
   "metadata": {},
   "outputs": [
    {
     "data": {
      "text/plain": [
       "[1, 3, 2, 4, 5, 6, 7]"
      ]
     },
     "execution_count": 17,
     "metadata": {},
     "output_type": "execute_result"
    }
   ],
   "source": [
    "tree = BinaryTree(1)\n",
    "\n",
    "tree.left = BinaryTree(2)\n",
    "tree.right = BinaryTree(3)\n",
    "\n",
    "tree.left.left = BinaryTree(4)\n",
    "tree.left.right = BinaryTree(5)\n",
    "\n",
    "tree.right.left = BinaryTree(6)\n",
    "tree.right.right = BinaryTree(7)\n",
    "\n",
    "\n",
    "def zigZagTraversal(root):\n",
    "\n",
    "    queue = [root]\n",
    "    output = []\n",
    "\n",
    "    reverse = True\n",
    "\n",
    "    while queue:\n",
    "        \n",
    "        q_len = len(queue)\n",
    "        \n",
    "        if reverse:\n",
    "            output += [q.data for q in queue][::-1]\n",
    "        else:\n",
    "            output += [q.data for q in queue]\n",
    "        \n",
    "        for i in range(q_len):\n",
    "            \n",
    "            item = queue.pop()\n",
    "            if item.left: queue.insert(0, item.left)\n",
    "            if item.right: queue.insert(0, item.right)\n",
    "            \n",
    "        reverse = not reverse\n",
    "\n",
    "    return output\n",
    "\n",
    "zigZagTraversal(tree)"
   ]
  },
  {
   "cell_type": "code",
   "execution_count": 37,
   "id": "0ee588b3-55b5-439e-87a1-6146f86c8322",
   "metadata": {},
   "outputs": [
    {
     "name": "stdout",
     "output_type": "stream",
     "text": [
      "0\n"
     ]
    }
   ],
   "source": [
    "class BinaryTreeNode():\n",
    "    def __init__(self, data):\n",
    "        self.data = data\n",
    "        self.left = None\n",
    "        self.right = None\n",
    "\n",
    "def createTree(parent): \n",
    "    \n",
    "    pointer_map = {}\n",
    "    root = None\n",
    "    \n",
    "    for i in range(len(parent)):\n",
    "        if parent[i] == -1:\n",
    "            root = BinaryTreeNode(i)\n",
    "        \n",
    "        pointer_map[i] = BinaryTreeNode(i)\n",
    "                \n",
    "    for i in range(len(parent)):\n",
    "        if parent[i] == -1: continue\n",
    "        else:\n",
    "            node = pointer_map[parent[i]]\n",
    "            if node.left != None:\n",
    "                node.left = pointer_map[i]\n",
    "            else:\n",
    "                node.right = pointer_map[i]\n",
    "                \n",
    "    return root\n",
    "\n",
    "parent = [-1, 0, 0, 1, 1, 3, 5]\n",
    "\n",
    "tree = createTree(parent)\n",
    "print_tree(tree)"
   ]
  },
  {
   "cell_type": "code",
   "execution_count": 39,
   "id": "17ef550a-2b15-4199-bc0f-fd1661aa9c87",
   "metadata": {},
   "outputs": [
    {
     "name": "stdout",
     "output_type": "stream",
     "text": [
      "0\n",
      "1\n",
      "2\n",
      "3\n",
      "4\n",
      "5\n",
      "6\n"
     ]
    }
   ],
   "source": [
    "def createTree(parent):\n",
    "    \n",
    "    n = len(parent)\n",
    " \n",
    "    # A map to keep track of all the nodes created.\n",
    "    # Key: node value; Value: Pointer to that Node\n",
    "    m = dict()\n",
    "    root = None\n",
    " \n",
    "    # Iterate for all elements of the parent array.\n",
    "    for i in range(n):\n",
    " \n",
    "        # Node i does not exist in the map\n",
    "        if i not in m:\n",
    " \n",
    "            # Create a new node for the current index\n",
    "            temp = BinaryTreeNode(i)\n",
    " \n",
    "            # Entry of the node in the map with\n",
    "            # key as i and value as temp\n",
    "            m[i] = temp\n",
    " \n",
    "        # If parent is -1\n",
    "        # Current node i is the root\n",
    "        # So mark it as the root of the tree\n",
    "        if parent[i] == -1:\n",
    "            root = m[i]\n",
    " \n",
    "        # Current node is not root and parent\n",
    "        # of that node is not created yet\n",
    "        elif parent[i] not in m:\n",
    " \n",
    "            # Create the parent\n",
    "            temp = BinaryTreeNode(parent[i])\n",
    " \n",
    "            # Assign the node as the\n",
    "            # left child of the parent\n",
    "            temp.left = m[i]\n",
    " \n",
    "            # Entry of parent in map\n",
    "            m[parent[i]] = temp\n",
    " \n",
    "        # Current node is not root and parent\n",
    "        # of that node is already created\n",
    "        else:\n",
    " \n",
    "            # Left child of the parent doesn't exist\n",
    "            if m[parent[i]].left is None:\n",
    "                m[parent[i]].left = m[i]\n",
    " \n",
    "            # Right child of the parent doesn't exist\n",
    "            else:\n",
    "                m[parent[i]].right = m[i]\n",
    "                \n",
    "    return root\n",
    " \n",
    "parent = [-1, 0, 0, 1, 1, 3, 5]\n",
    "\n",
    "tree = createTree(parent)\n",
    "print_tree(tree)"
   ]
  },
  {
   "cell_type": "code",
   "execution_count": null,
   "id": "80de8fc7-1521-44a3-aeb0-555f52a04312",
   "metadata": {},
   "outputs": [],
   "source": []
  },
  {
   "cell_type": "code",
   "execution_count": null,
   "id": "865fbfb5-3739-4324-8da7-da78c134e2ac",
   "metadata": {},
   "outputs": [],
   "source": []
  },
  {
   "cell_type": "code",
   "execution_count": 33,
   "id": "db07a746-7986-4f57-8d27-1c140f95923e",
   "metadata": {},
   "outputs": [
    {
     "name": "stdout",
     "output_type": "stream",
     "text": [
      "5\n",
      "2\n",
      "1\n",
      "3\n",
      "7\n",
      "6\n"
     ]
    },
    {
     "data": {
      "text/plain": [
       "[6]"
      ]
     },
     "execution_count": 33,
     "metadata": {},
     "output_type": "execute_result"
    }
   ],
   "source": [
    "tree = BinaryTree(5)\n",
    "\n",
    "tree.left = BinaryTree(2)\n",
    "tree.right = BinaryTree(7)\n",
    "\n",
    "tree.left.left = BinaryTree(1)\n",
    "tree.left.right = BinaryTree(3)\n",
    "\n",
    "tree.right.left = BinaryTree(6)\n",
    "tree.right.right = BinaryTree(8)\n",
    "\n",
    "#       5\n",
    "#    2     7\n",
    "# 1    3  6   8\n",
    "\n",
    "def bstQueries(root, q, queries):\n",
    "    outputs = []\n",
    "    \n",
    "    for left, right in queries:\n",
    "        out = []\n",
    "        stack = [root]\n",
    "        \n",
    "        while stack:\n",
    "            \n",
    "            item = stack.pop(0)\n",
    "            \n",
    "            if item.data <= right and item.data >= left:\n",
    "                print(item.data)\n",
    "                \n",
    "                out.append(item.data)\n",
    "                \n",
    "                if item.right:\n",
    "                    stack.insert(0, item.right)\n",
    "                if item.left: \n",
    "                    stack.insert(0, item.left)\n",
    "                \n",
    "            elif item.data > right:\n",
    "                if item.left: stack.insert(0, item.left)\n",
    "                    \n",
    "            elif item.data < left:\n",
    "                if item.right: stack.insert(0, item.right)\n",
    "            \n",
    "                \n",
    "        outputs.append(len(out))\n",
    "        \n",
    "    return outputs\n",
    "\n",
    "bstQueries(tree, 1, [(1,7)])"
   ]
  },
  {
   "cell_type": "code",
   "execution_count": null,
   "id": "84f19182-2c60-4d9c-bde0-0a2363c560c8",
   "metadata": {},
   "outputs": [],
   "source": []
  },
  {
   "cell_type": "code",
   "execution_count": 12,
   "id": "511c7721-44c5-41d0-bfa1-66a91443b143",
   "metadata": {},
   "outputs": [
    {
     "name": "stdout",
     "output_type": "stream",
     "text": [
      "3 3\n",
      "6 6\n",
      "7 7\n"
     ]
    },
    {
     "data": {
      "text/plain": [
       "True"
      ]
     },
     "execution_count": 12,
     "metadata": {},
     "output_type": "execute_result"
    }
   ],
   "source": [
    "# https://www.codingninjas.com/codestudio/problems/subtree-of-another-tree_893071\n",
    "\n",
    "def isSubtree(T, S):\n",
    "    \n",
    "    def areTreesSimilar(root1, root2):\n",
    "        \n",
    "        if not root2:\n",
    "            return True\n",
    "        \n",
    "        if not root1:\n",
    "            # print(root2.data)\n",
    "            return False\n",
    "        \n",
    "        if root1.data != root2.data:\n",
    "            # print(root1.data, root2.data)\n",
    "            return False\n",
    "                \n",
    "        left = areTreesSimilar(root1.left, root2.left)\n",
    "        right = areTreesSimilar(root1.right, root2.right)\n",
    "        return left and right\n",
    "    \n",
    "    q = [T]\n",
    "    while q:\n",
    "        item = q.pop()\n",
    "        \n",
    "        if item.data == S.data:\n",
    "            if areTreesSimilar(item, S):\n",
    "                return True\n",
    "            \n",
    "        if item.left:\n",
    "            q.insert(0, item.left)\n",
    "\n",
    "        if item.right:\n",
    "            q.insert(0, item.right)\n",
    "                \n",
    "    return False\n",
    "\n",
    "isSubtree(tree, tree.right)"
   ]
  },
  {
   "cell_type": "code",
   "execution_count": 7,
   "id": "6078b46e-4d4b-4e89-ac67-dd8359a52dec",
   "metadata": {},
   "outputs": [
    {
     "data": {
      "text/plain": [
       "[1, 2, 4, 5, 3, 6, 7]"
      ]
     },
     "execution_count": 7,
     "metadata": {},
     "output_type": "execute_result"
    }
   ],
   "source": [
    "# preorder traversal\n",
    "\n",
    "# iterative\n",
    "\n",
    "class BinaryTree:\n",
    "    def __init__(self, val):\n",
    "        self.left = None\n",
    "        self.right = None\n",
    "        self.data = val\n",
    "\n",
    "tree = BinaryTree(1)\n",
    "\n",
    "tree.left = BinaryTree(2)\n",
    "tree.right = BinaryTree(3)\n",
    "\n",
    "tree.left.left = BinaryTree(4)\n",
    "tree.left.right = BinaryTree(5)\n",
    "\n",
    "tree.right.left = BinaryTree(6)\n",
    "tree.right.right = BinaryTree(7)\n",
    "\n",
    "\n",
    "'''1 2 4 5 3 6 7 '''\n",
    "def preorder(tree):\n",
    "    \n",
    "    output = []\n",
    "    \n",
    "    stack = [tree]\n",
    "    \n",
    "    while stack:\n",
    "        \n",
    "        item = stack.pop(-1)\n",
    "        \n",
    "        output.append(item.data)\n",
    "        \n",
    "        if item.right:\n",
    "            stack.append(item.right)\n",
    "            \n",
    "        if item.left:\n",
    "            stack.append(item.left)\n",
    "            \n",
    "    return output\n",
    "\n",
    "preorder(tree)"
   ]
  },
  {
   "cell_type": "code",
   "execution_count": 5,
   "id": "4719f118-469f-4b87-a007-9922823e8f85",
   "metadata": {},
   "outputs": [
    {
     "name": "stdout",
     "output_type": "stream",
     "text": [
      "4\n",
      "2\n",
      "5\n",
      "1\n",
      "6\n",
      "3\n",
      "7\n"
     ]
    }
   ],
   "source": [
    "#       1\n",
    "#    2     3\n",
    "# 4    5  6   7\n",
    "\n",
    "\n",
    "'''4 2 5 1 6 3 7'''\n",
    "def inOrder(tree):\n",
    "    if tree is None:\n",
    "        return\n",
    "    \n",
    "    inOrder(tree.left)\n",
    "    print(tree.data)\n",
    "    inOrder(tree.right)\n",
    "    \n",
    "inOrder(tree)\n",
    "\n",
    "# def inorder(tree):\n",
    "    \n",
    "#     output = []\n",
    "    \n",
    "#     stack = [tree]\n",
    "    \n",
    "#     while stack[-1].left:\n",
    "#         stack.append(stack[-1].left)\n",
    "        \n",
    "    \n",
    "            \n",
    "#     return output"
   ]
  },
  {
   "cell_type": "code",
   "execution_count": 1,
   "id": "68895c08-3bcf-41c9-b3c8-6d9a891e0092",
   "metadata": {},
   "outputs": [
    {
     "data": {
      "text/plain": [
       "[[1, 2], [1, 2]]"
      ]
     },
     "execution_count": 1,
     "metadata": {},
     "output_type": "execute_result"
    }
   ],
   "source": [
    "class BinaryTree:\n",
    "    def __init__(self, val):\n",
    "        self.left = None\n",
    "        self.right = None\n",
    "        self.data = val\n",
    "\n",
    "tree = BinaryTree(1)\n",
    "\n",
    "tree.left = BinaryTree(2)\n",
    "tree.right = BinaryTree(3)\n",
    "\n",
    "tree.left.left = BinaryTree(4)\n",
    "tree.left.right = BinaryTree(5)\n",
    "\n",
    "tree.right.left = BinaryTree(6)\n",
    "tree.right.right = BinaryTree(7)\n",
    "\n",
    "#       1\n",
    "#    2     3\n",
    "# 4    5  6   7\n",
    "\n",
    "def kPathSum(root, k):\n",
    "    \n",
    "    if not root:\n",
    "        return []\n",
    "        \n",
    "    paths = []\n",
    "    \n",
    "    def dfs(root, path):\n",
    "        \n",
    "        if not root:\n",
    "            return\n",
    "        \n",
    "        if sum(path) == k:\n",
    "            paths.append(list(path))\n",
    "        \n",
    "        path.append(root.data)\n",
    "        dfs(root.left, path)\n",
    "        dfs(root.right, path)\n",
    "        path.pop(-1)\n",
    "        \n",
    "    dfs(root=root, path=[])\n",
    "    \n",
    "    return paths\n",
    "\n",
    "kPathSum(tree, 3)"
   ]
  },
  {
   "cell_type": "code",
   "execution_count": 4,
   "id": "75d2ac67-44ef-43fa-b292-bc4af9bd0d56",
   "metadata": {},
   "outputs": [
    {
     "name": "stdout",
     "output_type": "stream",
     "text": [
      "[[1, 3], [1, 3]]\n"
     ]
    },
    {
     "data": {
      "text/plain": [
       "3"
      ]
     },
     "execution_count": 4,
     "metadata": {},
     "output_type": "execute_result"
    }
   ],
   "source": [
    "class BinaryTreeNode:\n",
    "    def __init__(self, data):\n",
    "        self.data = data\n",
    "        self.left = None\n",
    "        self.right = None\n",
    "\n",
    "        \n",
    "def lowestCommonAncestor(root, x, y):\n",
    "    \n",
    "    lca_path = []\n",
    "    \n",
    "    def get_path(root, path, val, is_found):\n",
    "        \n",
    "        if not root or is_found:\n",
    "            return \n",
    "        \n",
    "        if root.data == val:\n",
    "            lca_path.append(list(path))\n",
    "            is_found = True\n",
    "            return\n",
    "        \n",
    "        path.append(root.data)\n",
    "        get_path(root.left, path, val, is_found)\n",
    "        get_path(root.right, path, val, is_found)\n",
    "        path.pop()\n",
    "        \n",
    "    is_found = False\n",
    "    get_path(root, [], x, is_found)\n",
    "    get_path(root, [], y, is_found)\n",
    "    \n",
    "    print(lca_path)\n",
    "    \n",
    "    if len(lca_path) != 2:\n",
    "        return -1\n",
    "        \n",
    "    p1 = lca_path[0]\n",
    "    p2 = lca_path[1]\n",
    "    \n",
    "    prev = p1[0]\n",
    "    for i in range(min(len(p1), len(p2))):\n",
    "        if p1[i] == p2[i]:\n",
    "            prev = p1[i]\n",
    "        else:\n",
    "            return prev\n",
    "        \n",
    "    return prev\n",
    "\n",
    "tree = BinaryTreeNode(1)\n",
    "tree.left = BinaryTreeNode(2)\n",
    "tree.right = BinaryTreeNode(3)\n",
    "tree.left.left = BinaryTreeNode(4)\n",
    "tree.left.right = BinaryTreeNode(5)\n",
    "tree.right.left = BinaryTreeNode(6)\n",
    "tree.right.right = BinaryTreeNode(7)\n",
    "\n",
    "lowestCommonAncestor(tree, 6, 7)"
   ]
  },
  {
   "cell_type": "code",
   "execution_count": null,
   "id": "a34c7b20-8a59-4059-a649-05c5614e12c9",
   "metadata": {},
   "outputs": [],
   "source": []
  }
 ],
 "metadata": {
  "kernelspec": {
   "display_name": "Python 3 (ipykernel)",
   "language": "python",
   "name": "python3"
  },
  "language_info": {
   "codemirror_mode": {
    "name": "ipython",
    "version": 3
   },
   "file_extension": ".py",
   "mimetype": "text/x-python",
   "name": "python",
   "nbconvert_exporter": "python",
   "pygments_lexer": "ipython3",
   "version": "3.9.12"
  }
 },
 "nbformat": 4,
 "nbformat_minor": 5
}
