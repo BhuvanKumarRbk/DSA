{
 "cells": [
  {
   "cell_type": "code",
   "execution_count": 1,
   "id": "f66927e3-d007-4db9-ae7d-46c88a95eed2",
   "metadata": {},
   "outputs": [
    {
     "name": "stdout",
     "output_type": "stream",
     "text": [
      "[11, 8, 7, 0, 6, 2, 5]\n"
     ]
    }
   ],
   "source": [
    "def max_heapify(A,i):\n",
    "    l = left(i)\n",
    "    r = right(i)\n",
    "    if l < len(A) and A[l] > A[i]:\n",
    "        largest = l\n",
    "    else:\n",
    "        largest = i\n",
    "    if r < len(A) and A[r] > A[largest]:\n",
    "        largest = r\n",
    "    if largest != i:\n",
    "        A[i], A[largest] = A[largest], A[i]\n",
    "        max_heapify(A, largest)\n",
    "\n",
    "\n",
    "def left(i):\n",
    "    return 2 * i + 1\n",
    "\n",
    "def right(i):\n",
    "    return 2 * i + 2\n",
    "\n",
    "\n",
    "def build_max_heap(A):\n",
    "    n = int((len(A) // 2)-1)\n",
    "    for i in range(n, -1,-1):\n",
    "        max_heapify(A, i)\n",
    "\n",
    "\n",
    "A = [11,6,5,0,8,2,7]\n",
    "build_max_heap(A)\n",
    "print(A)"
   ]
  },
  {
   "cell_type": "code",
   "execution_count": null,
   "id": "5194b9be-ffa5-4c43-b2d0-516c6865067a",
   "metadata": {},
   "outputs": [],
   "source": []
  },
  {
   "cell_type": "code",
   "execution_count": 54,
   "id": "a5cdb2df-10e3-453f-9436-d0226d6e59e0",
   "metadata": {},
   "outputs": [],
   "source": [
    "class BinaryTree:\n",
    "    def __init__(self, val):\n",
    "        self.left = None\n",
    "        self.right = None\n",
    "        self.data = val\n",
    "        \n",
    "tree = BinaryTree(10)\n",
    "\n",
    "tree.left = BinaryTree(9)\n",
    "tree.right = BinaryTree(8)\n",
    "\n",
    "# tree.left.left = BinaryTree(6)\n",
    "# tree.left.right = BinaryTree(5)\n",
    "\n",
    "# tree.right.left = BinaryTree(4)\n",
    "# tree.right.right = BinaryTree(3)\n",
    "\n",
    " #       1\n",
    " #    2     3\n",
    " # 4    5  6   7"
   ]
  },
  {
   "cell_type": "code",
   "execution_count": 55,
   "id": "27804a7f-160e-41a7-9918-ccade60cc58c",
   "metadata": {},
   "outputs": [
    {
     "data": {
      "text/plain": [
       "True"
      ]
     },
     "execution_count": 55,
     "metadata": {},
     "output_type": "execute_result"
    }
   ],
   "source": [
    "def notFollowsHeapify(level_order_tree):\n",
    "    level_order_tree = level_order_tree[::-1]\n",
    "            \n",
    "    if not level_order_tree: return True\n",
    "\n",
    "    prev, _ = level_order_tree[0]\n",
    "    \n",
    "    for item, root_data in level_order_tree[1:]:\n",
    "        if prev is None and item is not None:\n",
    "            return True\n",
    "        \n",
    "        if prev and item and (root_data < prev.data or root_data < item.data):\n",
    "            return True\n",
    "        \n",
    "        prev = item\n",
    "        \n",
    "    return False\n",
    "\n",
    "def isBinaryHeapTree(root):\n",
    "\n",
    "    # Write your code here.\n",
    "    q =[(root, root.data)]\n",
    "    is_last_level = False\n",
    "    \n",
    "    while q:\n",
    "        \n",
    "        if notFollowsHeapify(q):\n",
    "            print('!')\n",
    "            return False\n",
    "        \n",
    "        if is_last_level and any([i[0] for i in q]):\n",
    "            print('?')\n",
    "            return False\n",
    "        \n",
    "        if None in [i[0] for i in q]:\n",
    "            is_last_level = True\n",
    "        \n",
    "        q_len = len(q)\n",
    "        for i in range(q_len):\n",
    "            item, prev_item = q.pop()\n",
    "            \n",
    "            if item:\n",
    "                q.insert(0, (item.left, item.data))\n",
    "                q.insert(0, (item.right, item.data))\n",
    "            \n",
    "    return True\n",
    "\n",
    "isBinaryHeapTree(tree)"
   ]
  },
  {
   "cell_type": "code",
   "execution_count": null,
   "id": "75a12520-ba53-4c05-8617-315a6f7a4dfa",
   "metadata": {},
   "outputs": [],
   "source": []
  }
 ],
 "metadata": {
  "kernelspec": {
   "display_name": "Python 3 (ipykernel)",
   "language": "python",
   "name": "python3"
  },
  "language_info": {
   "codemirror_mode": {
    "name": "ipython",
    "version": 3
   },
   "file_extension": ".py",
   "mimetype": "text/x-python",
   "name": "python",
   "nbconvert_exporter": "python",
   "pygments_lexer": "ipython3",
   "version": "3.9.12"
  }
 },
 "nbformat": 4,
 "nbformat_minor": 5
}
