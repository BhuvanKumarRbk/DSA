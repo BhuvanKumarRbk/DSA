{
 "cells": [
  {
   "cell_type": "code",
   "execution_count": 6,
   "id": "c469ea10-7e56-43d1-b74f-37ca68305198",
   "metadata": {},
   "outputs": [
    {
     "data": {
      "text/plain": [
       "0"
      ]
     },
     "execution_count": 6,
     "metadata": {},
     "output_type": "execute_result"
    }
   ],
   "source": [
    "def kDiffPairs(arr, n, k):\n",
    "    # 2 2 3 5 6\n",
    "    arr.sort()\n",
    "    count = 0\n",
    "    \n",
    "    visited = set()\n",
    "    i = 0\n",
    "    j = 1\n",
    "    \n",
    "    while i < n and j < n:\n",
    "        \n",
    "        if i == j:\n",
    "            j += 1\n",
    "            continue\n",
    "                \n",
    "        if (arr[i], arr[j]) not in visited and arr[j] - arr[i] == k: \n",
    "            count += 1\n",
    "            visited.add((arr[i],arr[j]))\n",
    "            i += 1\n",
    "            j += 1\n",
    "\n",
    "        elif arr[j] - arr[i] < k:\n",
    "            j += 1\n",
    "\n",
    "        else:\n",
    "            i += 1\n",
    "            \n",
    "    return count\n",
    "\n",
    "s = '10 14 19 20 24 26 28 31 36 38 42 44 49 51 52 53 58 62 67 71 76 78 80 84'\n",
    "arr = [int(i) for i in s.split()]\n",
    "kDiffPairs(arr, len(arr), k=0)"
   ]
  },
  {
   "cell_type": "code",
   "execution_count": null,
   "id": "8e657ea5-8bf0-4bce-b61b-f9ffca2f4b7c",
   "metadata": {},
   "outputs": [],
   "source": []
  },
  {
   "cell_type": "code",
   "execution_count": null,
   "id": "a0ef4852-16a5-444e-9f57-a99463f6417b",
   "metadata": {},
   "outputs": [],
   "source": []
  },
  {
   "cell_type": "code",
   "execution_count": null,
   "id": "093bbc05-7b9a-494d-8580-00f4059108fe",
   "metadata": {},
   "outputs": [],
   "source": []
  }
 ],
 "metadata": {
  "kernelspec": {
   "display_name": "Python 3 (ipykernel)",
   "language": "python",
   "name": "python3"
  },
  "language_info": {
   "codemirror_mode": {
    "name": "ipython",
    "version": 3
   },
   "file_extension": ".py",
   "mimetype": "text/x-python",
   "name": "python",
   "nbconvert_exporter": "python",
   "pygments_lexer": "ipython3",
   "version": "3.9.12"
  }
 },
 "nbformat": 4,
 "nbformat_minor": 5
}
