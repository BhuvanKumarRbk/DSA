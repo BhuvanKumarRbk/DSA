{
 "cells": [
  {
   "cell_type": "code",
   "execution_count": 16,
   "id": "79b43ef7-c3d4-4f40-8325-90db5e4353ac",
   "metadata": {},
   "outputs": [
    {
     "data": {
      "text/plain": [
       "8"
      ]
     },
     "execution_count": 16,
     "metadata": {},
     "output_type": "execute_result"
    }
   ],
   "source": [
    "# recursive fib\n",
    "\n",
    "def fib(n):\n",
    "    if n == 0 or n == 1:\n",
    "        return 1\n",
    "    \n",
    "    return fib(n-1) + fib(n - 2)\n",
    "\n",
    "\n",
    "'''\n",
    "n = 5\n",
    "\n",
    "      fib(4)     +       fib(3)\n",
    "       /\\                  /\\\n",
    "  fib(3) fib(2)           2  1\n",
    "  /\\      /\\              /\\ /\n",
    " 2  1     1 0            1  0\n",
    " /\\ /    /\n",
    "1  0    0\n",
    "  \n",
    "'''\n",
    "# for n == 5, fib(2) is calculated thrice\n",
    "\n",
    "\n",
    "\n",
    "def fib(n):\n",
    "    memo = [0] * (n+1)  \n",
    "    memo[0], memo[1] = 0, 1  \n",
    "    \n",
    "    for i in range(2, n+1):\n",
    "        memo[i] = memo[i-1] + memo[i-2]\n",
    "                \n",
    "    return memo[n]\n",
    "\n",
    "fib(6)"
   ]
  },
  {
   "cell_type": "code",
   "execution_count": null,
   "id": "7c57678f-d0d2-4ebe-952a-83fd834541fa",
   "metadata": {},
   "outputs": [],
   "source": []
  }
 ],
 "metadata": {
  "kernelspec": {
   "display_name": "Python 3 (ipykernel)",
   "language": "python",
   "name": "python3"
  },
  "language_info": {
   "codemirror_mode": {
    "name": "ipython",
    "version": 3
   },
   "file_extension": ".py",
   "mimetype": "text/x-python",
   "name": "python",
   "nbconvert_exporter": "python",
   "pygments_lexer": "ipython3",
   "version": "3.9.12"
  }
 },
 "nbformat": 4,
 "nbformat_minor": 5
}
