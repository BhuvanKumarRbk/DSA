{
 "cells": [
  {
   "cell_type": "code",
   "execution_count": null,
   "id": "018bcb2d-a8fd-463c-ae04-ba28e9952e04",
   "metadata": {},
   "outputs": [],
   "source": [
    "# https://students.iitmandi.ac.in/moodle/login/index.php\n",
    "# http://www.cse.iitm.ac.in/~miteshk/CS7015_2018.html\n",
    "\n",
    "# https://www.youtube.com/watch?v=QVKj3LADCnA&list=PL49CF3715CB9EF31D 6,9,10"
   ]
  },
  {
   "cell_type": "code",
   "execution_count": 1,
   "id": "f9101015-b4b4-485a-beb7-988d786720df",
   "metadata": {},
   "outputs": [
    {
     "name": "stdout",
     "output_type": "stream",
     "text": [
      "1\n"
     ]
    },
    {
     "data": {
      "text/plain": [
       "36"
      ]
     },
     "execution_count": 1,
     "metadata": {},
     "output_type": "execute_result"
    }
   ],
   "source": [
    "# LCM and HCF(GCD)\n",
    "\n",
    "def GCD(x, y):\n",
    "    \n",
    "    while y:\n",
    "        x, y = y, x%y\n",
    "        \n",
    "    return x\n",
    "\n",
    "print(GCD(12, 11))\n",
    "\n",
    "# x*y = lcm(x, y) * gcd(x, y)\n",
    "# lcm = x * y // gcd(x,y)\n",
    "\n",
    "def LCM(x, y):\n",
    "    gcd = GCD(x, y)\n",
    "    return (x*y) // gcd\n",
    "\n",
    "LCM(x=12, y=18)"
   ]
  },
  {
   "cell_type": "code",
   "execution_count": null,
   "id": "b6099188-a6e4-4133-8450-a605e8c46b77",
   "metadata": {},
   "outputs": [],
   "source": []
  },
  {
   "cell_type": "code",
   "execution_count": 4,
   "id": "041f71b0-c425-451b-ae15-7444c436f572",
   "metadata": {},
   "outputs": [
    {
     "data": {
      "text/plain": [
       "[5, 8, 10, 6, 10, -1, 8, 9, 9, -1, 8, -1, 9, 9, -1]"
      ]
     },
     "execution_count": 4,
     "metadata": {},
     "output_type": "execute_result"
    }
   ],
   "source": [
    "# https://www.youtube.com/watch?v=Du881K7Jtk8\n",
    "# https://www.codingninjas.com/codestudio/guided-paths/interview-guide-for-product-based-companies/content/111328/offering/1279906?leftPanelTab=0\n",
    "\n",
    "# find next greatest element\n",
    "\n",
    "# [7, 12, 1, 20]\n",
    "# [12, 20, 20, -1]\n",
    "\n",
    "class Stack:\n",
    "    def __init__(self):\n",
    "        self.arr = []\n",
    "        \n",
    "    def push(self, data):\n",
    "        self.arr.insert(0, data)\n",
    "        \n",
    "    def peek(self):\n",
    "        if self.arr: return self.arr[0]\n",
    "        else: return None\n",
    "    \n",
    "    def pop(self):\n",
    "        if self.arr:\n",
    "            item = self.arr[0]\n",
    "            self.arr = self.arr[1:]\n",
    "            return item\n",
    "        else:\n",
    "            None\n",
    "            \n",
    "    def isEmpty(self):\n",
    "        return len(self.arr) == 0\n",
    "    \n",
    "    def printStack(self):\n",
    "        for i in self.arr:\n",
    "            print(i)\n",
    "        \n",
    "\n",
    "def nextGreaterElement(arr, n):\n",
    "    # Write your code here.\n",
    "    # https://www.youtube.com/watch?v=Du881K7Jtk8\n",
    "    \n",
    "    # [7, 12, 1, 20]\n",
    "    # [12, 20, 20, -1]\n",
    "    \n",
    "    outputs = [-1 for i in range(n)]\n",
    "    \n",
    "    stack = Stack()\n",
    "    \n",
    "    for i in range(n-1, -1, -1):\n",
    "        \n",
    "        if not stack.isEmpty():\n",
    "            while not stack.isEmpty() and arr[i] > stack.peek():\n",
    "                stack.pop()                \n",
    "                \n",
    "            if not stack.isEmpty() and arr[i] < stack.peek():\n",
    "                outputs[i] = stack.peek()\n",
    "               \n",
    "            stack.push(arr[i])\n",
    "            \n",
    "        else:\n",
    "            stack.push(arr[i])\n",
    "            \n",
    "    return outputs\n",
    "        \n",
    "arr = [2, 5, 8, 3, 6, 10, 6, 8, 1, 9, 5, 8, 8, 2, 9]\n",
    "nextGreaterElement(arr, len(arr))"
   ]
  },
  {
   "cell_type": "code",
   "execution_count": 28,
   "id": "3adfce1f-2c35-4021-9513-5bc0e48bba60",
   "metadata": {},
   "outputs": [
    {
     "data": {
      "text/plain": [
       "[5, 3, 4, 1, 2, 0, 0]"
      ]
     },
     "execution_count": 28,
     "metadata": {},
     "output_type": "execute_result"
    }
   ],
   "source": [
    "# https://leetcode.com/problems/count-of-smaller-numbers-after-self/\n",
    "# Count of Smaller Numbers After Self\n",
    "\n",
    "\n",
    "def countSmaller(nums):\n",
    "    \"\"\"\n",
    "    :type nums: List[int]\n",
    "    :rtype: List[int]\n",
    "    \"\"\"\n",
    "\n",
    "    arr = list(nums)\n",
    "\n",
    "    output_map = {}\n",
    "    def update_val(num):\n",
    "        if num in output_map:\n",
    "            output_map[num] += 1\n",
    "        else:\n",
    "            output_map[num] = 1\n",
    "\n",
    "    def merge_sort(arr):\n",
    "\n",
    "        if len(arr) > 1:\n",
    "\n",
    "            mid = len(arr) // 2\n",
    "\n",
    "            left_arr = arr[:mid]\n",
    "            right_arr = arr[mid:]\n",
    "\n",
    "            merge_sort(left_arr)\n",
    "            merge_sort(right_arr)\n",
    "\n",
    "\n",
    "            i = 0\n",
    "            j = 0\n",
    "            k = 0\n",
    "\n",
    "            '''\n",
    "                  5 2 6 1\n",
    "                 5 2 - 6 1\n",
    "               5 - 2 - 6 - 1\n",
    "                2 5  -  1 6\n",
    "                  1 2 5 6\n",
    "\n",
    "            '''\n",
    "\n",
    "            while i < len(left_arr) and j < len(right_arr):\n",
    "                \n",
    "                if left_arr[i] > right_arr[j]:\n",
    "                    arr[k] = right_arr[j]\n",
    "                    for x in range(i, len(left_arr)):\n",
    "                        update_val(num=left_arr[x])\n",
    "\n",
    "                    j += 1\n",
    "                \n",
    "                else:\n",
    "                    arr[k] = left_arr[i]\n",
    "                    i += 1\n",
    "\n",
    "                k += 1\n",
    "\n",
    "            while i < len(left_arr):\n",
    "                arr[k] = left_arr[i]\n",
    "                k += 1\n",
    "                i += 1\n",
    "\n",
    "            while j < len(right_arr):\n",
    "                arr[k] = right_arr[j]\n",
    "                k += 1\n",
    "                j += 1\n",
    "                                \n",
    "    merge_sort(arr)\n",
    "    \n",
    "    def parse_map():\n",
    "        outputs = []\n",
    "        for num in nums:\n",
    "            if num in output_map:\n",
    "                outputs.append(output_map[num])\n",
    "            else:\n",
    "                outputs.append(0)\n",
    "                \n",
    "        return outputs\n",
    "    \n",
    "    return parse_map()\n",
    "\n",
    "# countSmaller(nums=[5,2,6,1,3,0])\n",
    "\n",
    "def get_index_in_sorted_arr(arr, num):\n",
    "    \n",
    "    \n",
    "\n",
    "def countSmaller(nums):\n",
    "    res = []\n",
    "    sorted_nums = sorted(nums)\n",
    "    '''0 1 1 2 3 5 6'''\n",
    "    for num in nums:\n",
    "        idx = sorted_nums.index(num)\n",
    "        res.append(idx)\n",
    "        sorted_nums.remove(num)\n",
    "    return res\n",
    "        \n",
    "    \n",
    "countSmaller(nums=[5,2,6,1,3,0,1])\n",
    "    "
   ]
  },
  {
   "cell_type": "code",
   "execution_count": 16,
   "id": "8b280a11-9934-49e3-8dab-df88c7f7ea02",
   "metadata": {},
   "outputs": [
    {
     "name": "stdout",
     "output_type": "stream",
     "text": [
      "58.94648093841642\n",
      "58.94648093841642\n"
     ]
    }
   ],
   "source": [
    "def evaluatePostfixMy(exp):\n",
    "    # Write your code here.\n",
    "    stack = Stack()\n",
    "    \n",
    "    for i in exp:\n",
    "        \n",
    "        if i in {'+', '*', '-', '/'}:\n",
    "                \n",
    "            v1 = stack.pop()\n",
    "            v2 = stack.pop()\n",
    "            stack.push(str(eval(v2 + i + v1)))\n",
    "        \n",
    "        else:\n",
    "            stack.push(i)\n",
    "            \n",
    "    num = eval(stack.pop())\n",
    "    if num == int(num):\n",
    "        num = int(num)\n",
    "            \n",
    "    return num % 1000000007\n",
    "\n",
    "def evaluatePostfix(exp):\n",
    "    \n",
    "    stack = Stack()\n",
    "          \n",
    "    # Iterate over the expression for conversion\n",
    "    for i in exp:\n",
    "\n",
    "        # If the scanned character is an operand\n",
    "        # (number here) push it to the stack\n",
    "        if i.isdigit():\n",
    "            stack.push(i)\n",
    "\n",
    "        # If the scanned character is an operator,\n",
    "        # pop two elements from stack and apply it.\n",
    "        else:\n",
    "            val1 = stack.pop()\n",
    "            val2 = stack.pop()\n",
    "            stack.push(str(eval(val2 + i + val1)))\n",
    "\n",
    "    return stack.pop()\n",
    "\n",
    "exp = '39 15 + 49 11 / + 8 69 - 81 43 + / -'.split()\n",
    "print(evaluatePostfix(exp))\n",
    "print(evaluatePostfixMy(exp))"
   ]
  },
  {
   "cell_type": "code",
   "execution_count": 12,
   "id": "aae5e158-e0f7-4b56-af97-fe31358f3b0e",
   "metadata": {},
   "outputs": [
    {
     "data": {
      "text/plain": [
       "-47.51266766020864"
      ]
     },
     "execution_count": 12,
     "metadata": {},
     "output_type": "execute_result"
    }
   ],
   "source": [
    "(81 + 43) / (69 - 8) - (39 + 15) + (49 / 11) "
   ]
  },
  {
   "cell_type": "code",
   "execution_count": null,
   "id": "3d4534f2-9a62-4c77-afa0-7e08040ea120",
   "metadata": {},
   "outputs": [],
   "source": []
  },
  {
   "cell_type": "code",
   "execution_count": null,
   "id": "f92a22e0-9796-4ffa-b937-e23a4647d60d",
   "metadata": {},
   "outputs": [],
   "source": []
  },
  {
   "cell_type": "code",
   "execution_count": 12,
   "id": "883bc1d8-4d76-482f-ab0f-3c3107f84da8",
   "metadata": {},
   "outputs": [],
   "source": [
    "# Convert array into Zig-Zag fashion\n",
    "\n",
    "# https://practice.geeksforgeeks.org/problems/convert-array-into-zig-zag-fashion1638/1/?page=1&company[]=Amazon&company[]=Microsoft&company[]=Flipkart&company[]=Adobe&company[]=Google&company[]=Zoho&company[]=Qualcomm&curated[]=1&curated[]=6&sortBy=submissions\n",
    "\n",
    "# Input:\n",
    "# N = 7\n",
    "# Arr[] = {4, 3, 7, 8, 6, 2, 1}\n",
    "# Output: 3 7 4 8 2 6 1\n",
    "# Explanation: 3 < 7 > 4 < 8 > 2 < 6 > 1\n",
    "\n",
    "# Algorithm\n",
    "# https://www.youtube.com/watch?v=5mNTvy8Bzuc\n",
    "\n",
    "def zig_zag(arr, n):\n",
    "    \n",
    "    for i in range(n):\n",
    "        \n",
    "        if i % 2 == 1:\n",
    "            if arr[i] < arr[i-1]:\n",
    "                arr[i], arr[i - 1] = arr[i - 1], arr[i]\n",
    "            \n",
    "            if (i < n-1) and arr[i] < arr[i+1]:\n",
    "                arr[i], arr[i + 1] = arr[i + 1], arr[i]\n",
    "                        \n",
    "    return arr\n",
    "                \n",
    "arr = \"5589 5408 9576 2200 2411 3123 2052 8482 3484 2949 2855 1758 6985 3337 524 3468 5048 4818 6568 8800 6957 3083 4871 8716 3733 1140 2504 3356 3612 3076 604 279 8484 1258 2479 1974 5461 5610 455 8945 8560 4389 1781 6623 7727 3385 1169 2774 8203 7737 2652 6238 820 7523 4953 4553 8664 8536 8988 3354 1611 671 3634 1174 1929 7192 4227 7390 2802 5761 7414 2440 150 273 141 7877 4737 1311 1729 4018 126 4382 255 2025 1904 6287 7658 1646 4823 6645 5001 7513 8395 9714 9766 1403 7984 3992\".split()\n",
    "arr = [int(i) for i in arr]\n",
    "\n",
    "output = zig_zag(arr, len(arr))"
   ]
  },
  {
   "cell_type": "code",
   "execution_count": 28,
   "id": "a2ef3e4b-1317-4d18-b25c-78f16a05540e",
   "metadata": {},
   "outputs": [
    {
     "data": {
      "text/plain": [
       "[-1]"
      ]
     },
     "execution_count": 28,
     "metadata": {},
     "output_type": "execute_result"
    }
   ],
   "source": [
    "# https://www.youtube.com/watch?v=Ofl4KgFhLsM\n",
    "\n",
    "# Subarray with given sum \n",
    "\n",
    "# Input:\n",
    "# N = 5, S = 12\n",
    "# A[] = {1,2,3,7,5}\n",
    "# Output: 2 4\n",
    "# Explanation: The sum of elements \n",
    "# from 2nd position to 4th position \n",
    "# is 12.\n",
    "\n",
    "def sub_array_sum(arr, n, s):\n",
    "    \n",
    "    left, right = 0, 0\n",
    "    current_sum = arr[0]\n",
    "    \n",
    "    for _ in range(2*n):\n",
    "        \n",
    "        if current_sum == s:\n",
    "            return [left, right]\n",
    "        \n",
    "        if current_sum < s and right < n-1:\n",
    "            right += 1\n",
    "            current_sum += arr[right]\n",
    "            \n",
    "        elif left < n-1:\n",
    "            current_sum -= arr[left]\n",
    "            left += 1\n",
    "\n",
    "    return [-1]\n",
    "            \n",
    "arr  = \"142 112 54 69 148 45 63 158 38 60 124 142 130 179 117 36 191 43 89 107 41 143 65 49 47 6 91 130 171 151 7 102 194 149 30 24 85 155 157 41 167 177 132 109 145 40 27 124 138 139 119 83 130 142 34 116 40 59 105 131 178 107 74 187 22 146 125 73 71 30 178 174 98 113\".split()\n",
    "arr = [int(i) for i in arr]\n",
    "sub_array_sum(arr=arr, n=len(arr), s=665)"
   ]
  },
  {
   "cell_type": "code",
   "execution_count": null,
   "id": "6308c900-9c52-4cf4-aa9e-8de93f9bfe59",
   "metadata": {},
   "outputs": [],
   "source": [
    "# Reverse array in groups\n",
    "\n",
    "# Input:\n",
    "# N = 5, K = 3\n",
    "# arr[] = {1,2,3,4,5}\n",
    "# Output: 3 2 1 5 4\n",
    "# Explanation: First group consists of elements\n",
    "# 1, 2, 3. Second group consists of 4,5.\n",
    "\n",
    "def reverse_in_groups(arr, n, k):\n",
    "    \n",
    "    prev_next_step_tuple_array = [(i, min(i+k, n)) for i in range(0, n, k)]\n",
    "        \n",
    "    for start, end in prev_next_step_tuple_array:\n",
    "        for i in range(int(min(n, k)/2)):\n",
    "            arr[start + i], arr[end-1-i] = arr[end-1-i], arr[start+i]\n",
    "    \n",
    "    return arr\n",
    "\n",
    "def reverseInGroups(arr, N, K):\n",
    "    temp = 0\n",
    "    while(temp<=N):\n",
    "        arr[temp:temp+K]=arr[temp:temp+K][::-1]\n",
    "        temp += K\n",
    "\n",
    "    return arr\n",
    "\n",
    "string = \"36 93 64 48 96 55 70 0 82 30 16 22 38 53 19 50 91 43 70 88 10 57 14 94 13 36 59 32 54 58 18 82 67\".split()\n",
    "arr = [int(i) for i in string]\n",
    "k = 7878787\n",
    "n = len(arr)\n",
    "# reverse_in_groups(arr, n=n, k=k)\n",
    "reverseInGroups(arr, N=n, K=k)"
   ]
  },
  {
   "cell_type": "code",
   "execution_count": 12,
   "id": "9cbb210c-a193-4298-b2d3-33d74f66ea65",
   "metadata": {},
   "outputs": [
    {
     "data": {
      "text/plain": [
       "4"
      ]
     },
     "execution_count": 12,
     "metadata": {},
     "output_type": "execute_result"
    }
   ],
   "source": [
    "# https://www.youtube.com/watch?v=_yGf2rxwZlA\n",
    "\n",
    "# Largest subarray sum of 0\n",
    "\n",
    "# Input:\n",
    "# N = 8\n",
    "# A[] = {15,-2,2,-8,1,7,10,23}\n",
    "# Output: 5\n",
    "# Explanation: The largest subarray with\n",
    "# sum 0 will be -2 2 -8 1 7.\n",
    "\n",
    "\n",
    "\n",
    "def large_subarray_sum(arr, n):\n",
    "    sum_values_dictionary = dict()\n",
    "    sum_value, maximum_value = 0, 0\n",
    "    \n",
    "    for i in range(n):\n",
    "        sum_value += arr[i]\n",
    "        \n",
    "        if sum_value == 0:\n",
    "            maximum_value = max(maximum_value, i+1)\n",
    "            continue\n",
    "        \n",
    "        if sum_value not in sum_values_dictionary:\n",
    "            sum_values_dictionary[sum_value] = i\n",
    "            \n",
    "        else:\n",
    "            maximum_value = max(maximum_value, i - sum_values_dictionary[sum_value])\n",
    "            \n",
    "    return maximum_value\n",
    "        \n",
    "\n",
    "arr = [-1, 1, -1, 1]\n",
    "n = len(arr)\n",
    "\n",
    "large_subarray_sum(arr, n)"
   ]
  },
  {
   "cell_type": "code",
   "execution_count": 20,
   "id": "09663b29-5b99-4f7e-9a78-12063f5da3bb",
   "metadata": {},
   "outputs": [
    {
     "name": "stdout",
     "output_type": "stream",
     "text": [
      "1\n",
      "2\n",
      "3\n"
     ]
    },
    {
     "data": {
      "text/plain": [
       "'Yes'"
      ]
     },
     "execution_count": 20,
     "metadata": {},
     "output_type": "execute_result"
    }
   ],
   "source": [
    "# Array Subset of another array\n",
    "\n",
    "# Input:\n",
    "# a1[] = {11, 1, 13, 21, 3, 7}\n",
    "# a2[] = {11, 3, 7, 1}\n",
    "# Output:\n",
    "# Yes\n",
    "# Explanation:\n",
    "# a2[] is a subset of a1[]\n",
    "\n",
    "def isSubset(a1, a2, n, m):\n",
    "    a1 = set(a1)\n",
    "    \n",
    "    return len(a1.intersection(a2)) == m\n",
    "\n",
    "\n",
    "def isSubset(a1, a2, n, m):\n",
    "    \n",
    "    a1_set = set(a1)\n",
    "    \n",
    "    for i in a2:\n",
    "        if i not in a1_set:\n",
    "            return \"No\"\n",
    "        \n",
    "    return \"Yes\"\n",
    "\n",
    "a1  = [1,2,3,4,5,6]\n",
    "a2 = [1,2,3]\n",
    "n = len(a1)\n",
    "m = len(a2)\n",
    "\n",
    "isSubset(a1, a2, n, m)"
   ]
  },
  {
   "cell_type": "code",
   "execution_count": 23,
   "id": "f957a1ec-ee09-45a4-87b2-06760a5957e0",
   "metadata": {},
   "outputs": [
    {
     "data": {
      "text/plain": [
       "'d'"
      ]
     },
     "execution_count": 23,
     "metadata": {},
     "output_type": "execute_result"
    }
   ],
   "source": [
    "# Longest Common Prefix in an Array \n",
    "\n",
    "# Input:\n",
    "# N = 4\n",
    "# arr[] = {geeksforgeeks, geeks, geek,\n",
    "#          geezer}\n",
    "# Output: gee\n",
    "# Explanation: \"gee\" is the longest common\n",
    "# prefix in all the given strings.\n",
    "\n",
    "\n",
    "def longestCommonPrefix(arr, n):\n",
    "        longest_prefix = ''\n",
    "        smallest_str = min([len(s) for s in arr])\n",
    "        string = arr[0]\n",
    "        \n",
    "        for i in range(smallest_str):\n",
    "            i_startswith = all([arr[j].startswith(string[:i+1]) for j in range(n)])\n",
    "            if i_startswith:\n",
    "                longest_prefix = string[:i+1]\n",
    "        \n",
    "        return longest_prefix if longest_prefix else -1\n",
    "    \n",
    "arr = ['d', 'd', 'd', 'd']\n",
    "n = len(arr)\n",
    "longestCommonPrefix(arr, n)"
   ]
  },
  {
   "cell_type": "code",
   "execution_count": null,
   "id": "8033dbf7-d562-4941-884b-326aa89bd781",
   "metadata": {},
   "outputs": [],
   "source": []
  },
  {
   "cell_type": "code",
   "execution_count": null,
   "id": "e5547bb4-a37d-4c83-b259-68851dd7ea91",
   "metadata": {},
   "outputs": [],
   "source": []
  },
  {
   "cell_type": "code",
   "execution_count": 37,
   "id": "20584a46-2a93-482c-866c-e11987d4346b",
   "metadata": {},
   "outputs": [
    {
     "data": {
      "text/plain": [
       "12"
      ]
     },
     "execution_count": 37,
     "metadata": {},
     "output_type": "execute_result"
    }
   ],
   "source": [
    "def findDuplicate(arr):\n",
    "    ans = 0\n",
    "    \n",
    "    for i in range(len(arr)):\n",
    "        ans = ans ^ arr[i]\n",
    "        \n",
    "    for i in range(len(arr)):\n",
    "        ans = ans ^ i\n",
    "            \n",
    "    return ans\n",
    "\n",
    "ans = [1,2,3,4,4,5,6,7,8]\n",
    "findDuplicate(ans)"
   ]
  },
  {
   "cell_type": "code",
   "execution_count": null,
   "id": "0c07e584-0152-44a4-b782-b04a7427bfa3",
   "metadata": {},
   "outputs": [],
   "source": []
  },
  {
   "cell_type": "code",
   "execution_count": null,
   "id": "886f6983-e79d-4703-8d6c-b40c425de6b5",
   "metadata": {},
   "outputs": [],
   "source": [
    "# Minimum number of jumps\n",
    "\n",
    "# Input:\n",
    "# N = 11 \n",
    "# arr[] = {1, 3, 5, 8, 9, 2, 6, 7, 6, 8, 9} \n",
    "# Output: 3 \n",
    "# Explanation: \n",
    "# First jump from 1st element to 2nd \n",
    "# element with value 3. Now, from here \n",
    "# we jump to 5th element with value 9, \n",
    "# and from here we will jump to last."
   ]
  },
  {
   "cell_type": "code",
   "execution_count": 74,
   "id": "35c4d0d1-50c9-4d2a-819e-b4e9ec103bd0",
   "metadata": {},
   "outputs": [],
   "source": [
    "N = 11\n",
    "arr = [1, 3, 9, 9, 5, 2, 6, 7, 6, 8, 9]\n",
    "\n",
    "# [3] max = 3, idx = 1\n",
    "# [9, 9, 5] max=9, idx=2 + (prev_index)\n",
    "# [ 5, 2, 6, 7, 6, 8, 9] max=9, idx = 6 +  (prev_index)"
   ]
  },
  {
   "cell_type": "code",
   "execution_count": 81,
   "id": "36350f7a-e11d-4b25-abcc-e051ee7b6327",
   "metadata": {},
   "outputs": [],
   "source": [
    "arr = [2, 3, 1, 1, 2, 4, 2, 0, 1, 1]\n",
    "N = len(arr)\n",
    "\n",
    "# [3, 1] max-3, index=1\n",
    "# [1, 1, 2] max-2, index=4\n",
    "# [4, 2] max-4, index=5\n",
    "# [2, 0, 1, 1]"
   ]
  },
  {
   "cell_type": "code",
   "execution_count": 94,
   "id": "f7290c28-0056-4d18-a474-42853cdcbf8d",
   "metadata": {},
   "outputs": [],
   "source": [
    "arr = [9, 10, 1, 2, 3, 4, 8, 0, 0, 0, 0, 0, 0, 0, 1]\n",
    "N = len(arr)"
   ]
  },
  {
   "cell_type": "code",
   "execution_count": 96,
   "id": "cec2477b-3800-4013-8705-25ac89a53b30",
   "metadata": {},
   "outputs": [
    {
     "data": {
      "text/plain": [
       "2"
      ]
     },
     "execution_count": 96,
     "metadata": {},
     "output_type": "execute_result"
    }
   ],
   "source": [
    "def _get_max_element_and_index(arr):\n",
    "    \"\"\"max element is calculated based on index + value as big number at start will not go as long as smaller number at end of array.\n",
    "    ex: [10, 1, 2, 3, 4, 8, 0, 0, 0, 0, 0, 0, 0]\n",
    "    even though 10 is big, taking 8 will cover all array\n",
    "    \"\"\"\n",
    "    \n",
    "    if not arr: return None, None\n",
    "    max_val = arr[0]\n",
    "    index = 0\n",
    "    max_sum = 0\n",
    "    for i, val in enumerate(arr):\n",
    "        if max_sum <= val + i:\n",
    "            max_sum = val + i\n",
    "            index = i\n",
    "            max_val = val            \n",
    "        \n",
    "    return max_val, index\n",
    "\n",
    "def min_jumps(arr, n):\n",
    "    \n",
    "    if len(arr) == 1 and 0 in arr: return 0\n",
    "     \n",
    "    index = 0\n",
    "    max_val = arr[index]\n",
    "    jumps = 0\n",
    "    \n",
    "    while index <= n:\n",
    "        jumps += 1\n",
    "\n",
    "        if max_val == 0: return -1\n",
    "        \n",
    "        mod_arr = arr[index+1: index + max_val + 1]\n",
    "                \n",
    "        if not mod_arr or (max_val + index) >= n-1: return jumps\n",
    "        \n",
    "        max_val, max_index = _get_max_element_and_index(mod_arr)\n",
    "        index += max_index + 1\n",
    "                \n",
    "                        \n",
    "    return jumps\n",
    "        \n",
    "min_jumps(arr, N)"
   ]
  },
  {
   "cell_type": "code",
   "execution_count": 240,
   "id": "3490f536-a5bc-44c3-a794-8a411887a421",
   "metadata": {},
   "outputs": [],
   "source": [
    "# Swapping pairs make sum equal\n",
    "\n",
    "# Input: N = 6, M = 4\n",
    "# A[] = {4, 1, 2, 1, 1, 2}\n",
    "# B[] = (3, 6, 3, 3)\n",
    "# Output: 1\n",
    "# Explanation: Sum of elements in A[] = 11\n",
    "# Sum of elements in B[] = 15, To get same \n",
    "# sum from both arrays, we can swap following \n",
    "# values: 1 from A[] and 3 from B[]\n",
    "\n",
    "a = [1,2,3,4,3]\n",
    "b = [1,2,3,4,5,1]\n",
    "\n",
    "def findSwapValues(self, a, n, b, m):\n",
    "    a.sort()\n",
    "    b.sort()\n",
    "    "
   ]
  },
  {
   "cell_type": "code",
   "execution_count": 241,
   "id": "0c434e03-6ef1-4663-8cb1-544fe26bb552",
   "metadata": {},
   "outputs": [],
   "source": [
    "a.sort()\n",
    "b.sort()"
   ]
  },
  {
   "cell_type": "code",
   "execution_count": 242,
   "id": "5e50c125-3ba2-435c-b612-7833daf2e95b",
   "metadata": {},
   "outputs": [
    {
     "name": "stdout",
     "output_type": "stream",
     "text": [
      "13 16\n"
     ]
    }
   ],
   "source": [
    "sum_a = sum(a)\n",
    "sum_b = sum(b)\n",
    "\n",
    "print(sum_a, sum_b)"
   ]
  },
  {
   "cell_type": "code",
   "execution_count": 243,
   "id": "e294b6ff-f234-487a-86ff-9bf8fbe8b85b",
   "metadata": {},
   "outputs": [],
   "source": [
    "difference = sum_a - sum_b"
   ]
  },
  {
   "cell_type": "code",
   "execution_count": 244,
   "id": "d98fabe6-f09e-41d2-b933-4f347f12b0d5",
   "metadata": {},
   "outputs": [
    {
     "data": {
      "text/plain": [
       "-3"
      ]
     },
     "execution_count": 244,
     "metadata": {},
     "output_type": "execute_result"
    }
   ],
   "source": [
    "difference"
   ]
  },
  {
   "cell_type": "code",
   "execution_count": null,
   "id": "fc678d8a-dc5a-4a07-b712-40bc389c189b",
   "metadata": {},
   "outputs": [],
   "source": []
  },
  {
   "cell_type": "code",
   "execution_count": 246,
   "id": "8d646970-bc42-48a1-bd8c-11072a453c4d",
   "metadata": {},
   "outputs": [
    {
     "data": {
      "text/plain": [
       "[(1, 8), (4, 5), (5, 4)]"
      ]
     },
     "execution_count": 246,
     "metadata": {},
     "output_type": "execute_result"
    }
   ],
   "source": [
    "# Find all pairs with a given sum\n",
    "\n",
    "# Input:\n",
    "# A[] = {1, 2, 4, 5, 7}\n",
    "# B[] = {5, 6, 3, 4, 8} \n",
    "# X = 9 \n",
    "# Output: \n",
    "# 1 8\n",
    "# 4 5 \n",
    "# 5 4\n",
    "# Explanation:\n",
    "# (1, 8), (4, 5), (5, 4) are the\n",
    "# pairs which sum to 9.\n",
    "\n",
    "A = [1, 2, 4, 5, 7]\n",
    "B = [5, 6, 3, 4, 8]\n",
    "X = 9\n",
    "N = len(A)\n",
    "M = len(B)\n",
    "\n",
    "def allPairs(A, B, N, M, X):\n",
    "    # Your code goes here \n",
    "    b_dict = dict()\n",
    "    for i in range(M):\n",
    "        b_dict[B[i]] = i\n",
    "\n",
    "    pairs = []\n",
    "    for i in range(N):\n",
    "        if X - A[i] in b_dict:\n",
    "            pairs.append((A[i], B[b_dict[X - A[i]]]))\n",
    "\n",
    "    return pairs\n",
    "\n",
    "allPairs(A, B, N, M, X)"
   ]
  },
  {
   "cell_type": "code",
   "execution_count": 41,
   "id": "86c06869-28a8-430d-af18-2911673e08dc",
   "metadata": {},
   "outputs": [
    {
     "data": {
      "text/plain": [
       "-1"
      ]
     },
     "execution_count": 41,
     "metadata": {},
     "output_type": "execute_result"
    }
   ],
   "source": [
    "# Search in a Rotated Array\n",
    "\n",
    "# N = 9\n",
    "# A[] = {5, 6, 7, 8, 9, 10, 1, 2, 3}\n",
    "# key = 10\n",
    "# Output:\n",
    "# 5\n",
    "# Explanation: 10 is found at index 5.\n",
    "\n",
    "A = [5, 6, 7, 8, 9, 4, 10, 1, 2, 3]\n",
    "key = 10\n",
    "l = 0\n",
    "h = len(A) - 1\n",
    "\n",
    "          \n",
    "def search(A : list, l : int, h : int, key : int):\n",
    "        \n",
    "    while l <= h:\n",
    "        \n",
    "        mid = (h + l)//2\n",
    "        \n",
    "        if A[mid] == key:\n",
    "            return mid\n",
    "        \n",
    "        if A[mid] > A[l]:\n",
    "            '''left is sorted'''\n",
    "            if key < A[mid] and key >= A[l]:\n",
    "                h = mid - 1\n",
    "            else:\n",
    "                l = mid + 1\n",
    "        \n",
    "        else:\n",
    "            '''right is sorted'''\n",
    "            if key > A[mid] and key <= A[h]:\n",
    "                l = mid + 1\n",
    "            else:\n",
    "                h = mid - 1\n",
    "                \n",
    "    return -1\n",
    "\n",
    "search(A, l, h, key=11)"
   ]
  },
  {
   "cell_type": "code",
   "execution_count": 3,
   "id": "829d1990-ca02-48d8-b6dc-ea094d74574f",
   "metadata": {},
   "outputs": [
    {
     "name": "stdout",
     "output_type": "stream",
     "text": [
      "{}\n",
      "{1: 1}\n",
      "{1: 2}\n",
      "{1: 3}\n"
     ]
    },
    {
     "data": {
      "text/plain": [
       "6"
      ]
     },
     "execution_count": 3,
     "metadata": {},
     "output_type": "execute_result"
    }
   ],
   "source": [
    "# Count pairs with given sum\n",
    "\n",
    "# Input:\n",
    "# N = 4, K = 6\n",
    "# arr[] = {1, 5, 7, 1}\n",
    "# Output: 2\n",
    "# Explanation: \n",
    "# arr[0] + arr[1] = 1 + 5 = 6 \n",
    "# and arr[1] + arr[3] = 5 + 1 = 6.\n",
    "\n",
    "\n",
    "def getPairsCount(arr, n, k):\n",
    "    # code here\n",
    "    unordered_map = {}\n",
    "    count = 0\n",
    "\n",
    "    for i in range(n):\n",
    "        print(unordered_map)\n",
    "\n",
    "        if k - arr[i] in unordered_map:\n",
    "            count += unordered_map[k - arr[i]]\n",
    "\n",
    "\n",
    "        if arr[i] in unordered_map:\n",
    "            unordered_map[arr[i]] += 1\n",
    "\n",
    "        else:\n",
    "            unordered_map[arr[i]] = 1\n",
    "\n",
    "    return count\n",
    "\n",
    "getPairsCount(arr=[1,1,1,1], n=4, k=2)"
   ]
  },
  {
   "cell_type": "code",
   "execution_count": 1,
   "id": "4c0aedb6-6fac-4022-b927-ae8eb0e6d3d9",
   "metadata": {},
   "outputs": [],
   "source": [
    "class BinaryTree:\n",
    "    def __init__(self, val):\n",
    "        self.left = None\n",
    "        self.right = None\n",
    "        self.data = val\n",
    "        \n",
    "tree = BinaryTree(1)\n",
    "\n",
    "tree.left = BinaryTree(2)\n",
    "tree.right = BinaryTree(2)\n",
    "\n",
    "tree.left.left = BinaryTree(3)\n",
    "tree.right.left = BinaryTree(3)\n",
    "tree.right.right = BinaryTree(3)\n",
    "tree.left.right = BinaryTree(3)"
   ]
  },
  {
   "cell_type": "code",
   "execution_count": 5,
   "id": "4dd54b30-d2ed-49c3-8510-4ee1cae3121d",
   "metadata": {},
   "outputs": [
    {
     "data": {
      "text/plain": [
       "4"
      ]
     },
     "execution_count": 5,
     "metadata": {},
     "output_type": "execute_result"
    }
   ],
   "source": [
    "# WONDERFULL EXPLANATION\n",
    "# https://www.youtube.com/watch?v=bkxqA8Rfv04\n",
    "\n",
    "def DiameterOfBinaryTree(root):\n",
    "    \n",
    "    max_element = [0]\n",
    "    \n",
    "    def dfs(root):\n",
    "        if not root:\n",
    "            return 0\n",
    "        \n",
    "        left = dfs(root.left)\n",
    "        right = dfs(root.right)\n",
    "        \n",
    "        max_element[0] = max(max_element[0], left + right)\n",
    "        \n",
    "        return 1 + max(left, right)\n",
    "    \n",
    "    dfs(root)\n",
    "    return max_element[0]\n",
    "    \n",
    "    \n",
    "DiameterOfBinaryTree(root=tree)"
   ]
  },
  {
   "cell_type": "code",
   "execution_count": 71,
   "id": "300f20d1-0a6a-47a2-93bd-96f8b98ab176",
   "metadata": {},
   "outputs": [],
   "source": [
    "class Node:\n",
    "    def __init__(self, data):\n",
    "        self.data = data\n",
    "        self.next = None"
   ]
  },
  {
   "cell_type": "code",
   "execution_count": 117,
   "id": "14cd5dfe-581d-4bfd-aa4b-d71d902f01f0",
   "metadata": {},
   "outputs": [],
   "source": [
    "def create_linked_list(arr):\n",
    "    node = Node(arr[0])\n",
    "    curr = node\n",
    "    \n",
    "    for val in arr[1:]:\n",
    "        node.next = Node(val)\n",
    "        node = node.next\n",
    "    \n",
    "    return curr\n",
    "\n",
    "def print_ll(head):\n",
    "    curr = head\n",
    "    while curr:\n",
    "        print(curr.data)\n",
    "        curr = curr.next"
   ]
  },
  {
   "cell_type": "code",
   "execution_count": 132,
   "id": "cfa4dced-602b-4435-9340-3cf2fccc8249",
   "metadata": {},
   "outputs": [
    {
     "name": "stdout",
     "output_type": "stream",
     "text": [
      "1\n",
      "2\n",
      "3\n",
      "4\n",
      "5\n",
      "6\n"
     ]
    }
   ],
   "source": [
    "head = create_linked_list([1,2,3,4,5,6])\n",
    "print_ll(head)"
   ]
  },
  {
   "cell_type": "code",
   "execution_count": null,
   "id": "2279246a-7fb1-4160-9c6a-78183962cea2",
   "metadata": {},
   "outputs": [],
   "source": []
  },
  {
   "cell_type": "code",
   "execution_count": 133,
   "id": "c0f7cbc6-c53e-47d4-9ca0-fdd42ef94265",
   "metadata": {},
   "outputs": [
    {
     "name": "stdout",
     "output_type": "stream",
     "text": [
      "1\n",
      "2\n",
      "3\n",
      "4\n",
      "5\n",
      "6\n",
      "7\n"
     ]
    }
   ],
   "source": [
    "def insertAtEnd(head, x):\n",
    "    curr = head\n",
    "\n",
    "    while curr.next:\n",
    "        curr = curr.next\n",
    "    \n",
    "    curr.next = Node(x)\n",
    "\n",
    "    return head\n",
    "\n",
    "out = insertAtEnd(head, x=7)\n",
    "print_ll(out)"
   ]
  },
  {
   "cell_type": "code",
   "execution_count": 18,
   "id": "5f1d673d-07b9-4290-a0f3-be90f2320c33",
   "metadata": {},
   "outputs": [
    {
     "data": {
      "text/plain": [
       "[(2, 2), (2, 2), (2, 2)]"
      ]
     },
     "execution_count": 18,
     "metadata": {},
     "output_type": "execute_result"
    }
   ],
   "source": [
    "def pairSum(arr, s):\n",
    "\n",
    "    mydict = dict()\n",
    "    output = []\n",
    " \n",
    "    # Traverse through all the elements\n",
    "    for i in range(len(arr)):\n",
    "         \n",
    "        # Search if a pair can be formed with arr[i]\n",
    "        temp = s - arr[i]\n",
    "         \n",
    "        if temp in mydict:\n",
    "            count = mydict[temp]\n",
    "            for j in range(count):\n",
    "                output.append((temp, arr[i]))\n",
    "                       \n",
    "        if arr[i] in mydict:\n",
    "            mydict[arr[i]] += 1\n",
    "        else:\n",
    "            mydict[arr[i]] = 1\n",
    "                    \n",
    "    return output\n",
    "\n",
    "arr = [2, -6, 2, 5, 2]\n",
    "s = 4\n",
    "\n",
    "pairSum(arr, s)"
   ]
  },
  {
   "cell_type": "code",
   "execution_count": null,
   "id": "7733f702-ae79-4ab7-b68c-63f36b8fcaba",
   "metadata": {},
   "outputs": [],
   "source": []
  },
  {
   "cell_type": "code",
   "execution_count": 19,
   "id": "b96c052a-3f3a-41c5-aa23-ebf978bc56d0",
   "metadata": {},
   "outputs": [],
   "source": [
    "def doesOverlap(range1, range2):\n",
    "    return (range2[0] < range1[0] < range2[1]) or (range2[0] < range1[1] < range2[1]) or (range1[0] < range2[0] < range1[1]) or (range1[0] < range2[1] < range1[1])\n",
    "    \n",
    "\n",
    "def checkOverlappingIntervals(startTime, endTime, n) :\n",
    "\n",
    "    for i in range(1, n):\n",
    "        range1 = (startTime[i-1], endTime[i-1])\n",
    "        range2 = (startTime[i], endTime[i])\n",
    "        if doesOverlap(range1, range2):\n",
    "            return True\n",
    "\n",
    "    return False"
   ]
  },
  {
   "cell_type": "code",
   "execution_count": null,
   "id": "a9dc4e02-1c7e-4299-8bc6-7650bc1b4459",
   "metadata": {},
   "outputs": [],
   "source": []
  },
  {
   "cell_type": "code",
   "execution_count": 30,
   "id": "c84cdec3-1aa3-493e-a7aa-0d4e4dd505be",
   "metadata": {},
   "outputs": [
    {
     "data": {
      "text/plain": [
       "14"
      ]
     },
     "execution_count": 30,
     "metadata": {},
     "output_type": "execute_result"
    }
   ],
   "source": [
    "# KADANE'S ALGORITHM\n",
    "\n",
    "def largestSubarraySum(arr):\n",
    "    current_max, overall_maximum = arr[0], arr[0]\n",
    "    \n",
    "    for i in range(1, len(arr)):\n",
    "        current_max = max(current_max + arr[i], arr[i])\n",
    "        overall_maximum = max(current_max, overall_maximum)\n",
    "        \n",
    "    return overall_maximum\n",
    "\n",
    "largestSubarraySum([1, 4, -3, -5, 5, 6, 3])\n",
    "\n",
    "\n",
    "# def flipBits(arr):\n",
    "#     pass\n",
    "\n",
    "# flipBits([1, 0, 0, 1, 0])"
   ]
  },
  {
   "cell_type": "code",
   "execution_count": 38,
   "id": "aa3db4e9-32ed-4560-b189-f0c1e20db186",
   "metadata": {},
   "outputs": [
    {
     "name": "stdout",
     "output_type": "stream",
     "text": [
      "[10, 11, 12]\n"
     ]
    },
    {
     "data": {
      "text/plain": [
       "3"
      ]
     },
     "execution_count": 38,
     "metadata": {},
     "output_type": "execute_result"
    }
   ],
   "source": [
    "# https://www.geeksforgeeks.org/length-largest-subarray-contiguous-elements-set-1/\n",
    "\n",
    "# Length of the largest subarray with contiguous elements\n",
    "\n",
    "def findLength(arr):\n",
    "    \n",
    "    # n log(n)\n",
    "    arr.sort()\n",
    "    print(arr)\n",
    "    \n",
    "    start = 0\n",
    "    stop = 0\n",
    "    max_len = 0\n",
    "    \n",
    "    next_num = arr[0]\n",
    "    \n",
    "    for i, num in enumerate(arr[1:]):\n",
    "        \n",
    "        next_num += 1\n",
    "        if num == next_num:\n",
    "            stop = i\n",
    "        else:\n",
    "            max_len = max(max_len, (stop - start) + 1)\n",
    "            next_num = num\n",
    "            start = i\n",
    "            \n",
    "    max_len = max(max_len, (stop - start) + 1)\n",
    "    \n",
    "    return max_len + 1 if start == 0 else max_len\n",
    "        \n",
    "arr = [10, 12, 11]\n",
    "findLength(arr)"
   ]
  },
  {
   "cell_type": "code",
   "execution_count": 50,
   "id": "d7bab3e2-2e3a-45eb-afd0-c972562548bb",
   "metadata": {},
   "outputs": [
    {
     "data": {
      "text/plain": [
       "8"
      ]
     },
     "execution_count": 50,
     "metadata": {},
     "output_type": "execute_result"
    }
   ],
   "source": [
    "# https://www.geeksforgeeks.org/maximize-sum-of-an-array-by-flipping-sign-of-all-elements-of-a-single-subarray/#:~:text=Flipping%20the%20signs%20of%20subarray%20%7B-10%2C%202%2C%20-20%7D,%7BIDE%7D%20first%2C%20before%20moving%20on%20to%20the%20solution.\n",
    "\n",
    "# Maximize sum of an Array by flipping sign of all elements of a single subarray\n",
    "\n",
    "# Input: arr[] = {-2, 3, -1, -4, -2} \n",
    "# Output: 8\n",
    "# Explanation: \n",
    "# Flipping the signs of subarray {-1, -4, -2} modifies the array to {-2, 3, 1, 4, 2}. Therefore, the sum of the array = -2 + 3 + 1 + 4 + 2 = 8, which is the maximum possible.\n",
    "\n",
    "def minSubarraySum(arr):\n",
    "    current_min, min_so_far = arr[0], arr[0]\n",
    "    \n",
    "    for i in range(1, len(arr)):\n",
    "        current_min = min(arr[i], current_min + arr[i])\n",
    "        min_so_far = min(current_min, min_so_far)\n",
    "        \n",
    "    total_sum = sum(arr)\n",
    "    \n",
    "        \n",
    "    return max(total_sum, total_sum - 2 * min_so_far)\n",
    "\n",
    "arr = [-2, 3, -1, -4, -2]\n",
    "minSubarraySum(arr)"
   ]
  },
  {
   "cell_type": "code",
   "execution_count": 19,
   "id": "50c5a037-85c7-4ec3-b7ef-b0ca91795e35",
   "metadata": {},
   "outputs": [],
   "source": [
    "def minimum_subarray_sum(arr, n):\n",
    "    current_min, overall_min = arr[0], arr[0]\n",
    "    start = 0\n",
    "    end = 0\n",
    "    \n",
    "    for i in range(1, n):      \n",
    "        if current_min + arr[i] > arr[i]:\n",
    "            current_min = arr[i]\n",
    "            start = i\n",
    "        else:\n",
    "            current_min = current_min + arr[i]\n",
    "            \n",
    "        if overall_min >= current_min:\n",
    "            overall_min = current_min\n",
    "            end = i\n",
    "            \n",
    "        if start > end: end = n - 1\n",
    "            \n",
    "    return (start, end)\n",
    "    \n",
    "\n",
    "def flipBits(arr, n):\n",
    "    if sum(arr) == n: return sum(arr) \n",
    "    \n",
    "    #convert 0 to -1 to perform minimum_continous_subarray_sum\n",
    "    for i in range(n):\n",
    "        if arr[i] == 0: \n",
    "            arr[i] = -1\n",
    "        \n",
    "    start, end = minimum_subarray_sum(arr, n)\n",
    "    \n",
    "    print(start, end)\n",
    "            \n",
    "    for i in range(n):\n",
    "        if arr[i] == -1: \n",
    "            arr[i] = 0\n",
    "            \n",
    "    for i in range(start, end+1):\n",
    "        if arr[i] == 0:\n",
    "            arr[i] = 1\n",
    "        else:\n",
    "            arr[i] = 0\n",
    "                        \n",
    "    return sum(arr)\n",
    "    \n",
    "    \n",
    "arr = \"1 0 0 0 0 1 1 0 1 0 0 0 0 1 0 0 1 0 0 1 1 1 1 1 0 1 1 1 0 1 1 0 1 1 0 0 0 1 0 1 1 0 1 1 1 1 1 0 0 0 1 1 1 0 0 0 1 1 1 0\".split()\n",
    "arr = [int(i) for i in arr]\n",
    "\n",
    "n = len(arr)\n",
    "# flipBits(arr, n)"
   ]
  },
  {
   "cell_type": "code",
   "execution_count": 73,
   "id": "67ff05cb-7f3f-4829-9b50-2198d81a4d03",
   "metadata": {},
   "outputs": [
    {
     "name": "stdout",
     "output_type": "stream",
     "text": [
      "1 1\n",
      "1\n"
     ]
    },
    {
     "data": {
      "text/plain": [
       "5"
      ]
     },
     "execution_count": 73,
     "metadata": {},
     "output_type": "execute_result"
    }
   ],
   "source": [
    "def minimum_subarray_sum(arr, n):\n",
    "    current_min, overall_min = arr[0], arr[0]\n",
    "    all_starts, end = [], 0\n",
    "    start = 0\n",
    "    \n",
    "    for i in range(1, n):            \n",
    "                \n",
    "        if current_min + arr[i] > arr[i]:\n",
    "            current_min = arr[i]\n",
    "            all_starts.append(i)\n",
    "        else:\n",
    "            current_min = current_min + arr[i]\n",
    "            \n",
    "        if overall_min > current_min:\n",
    "            overall_min = current_min\n",
    "            end = i\n",
    "            \n",
    "        for i in range(len(all_starts)):\n",
    "            if all_starts[i] <= end:\n",
    "                start = all_starts[i]\n",
    "            else:\n",
    "                break\n",
    "                     \n",
    "    return (start, end)\n",
    "    \n",
    "\n",
    "def flipBits(arr, n):\n",
    "    all_sum = sum(arr)\n",
    "    if all_sum == n or all_sum == n -1: return n\n",
    "    \n",
    "    #convert 0 to -1 to perform minimum_continous_subarray_sum\n",
    "    for i in range(n):\n",
    "        if arr[i] == 0: \n",
    "            arr[i] = -1\n",
    "        \n",
    "    start, end = minimum_subarray_sum(arr, n)\n",
    "    print(start, end)\n",
    "            \n",
    "    for i in range(n):\n",
    "\n",
    "        if i >= start and i < end + 1:\n",
    "            # flip bits\n",
    "            if arr[i] == -1:\n",
    "                arr[i] = 1\n",
    "            else:\n",
    "                arr[i] = 0\n",
    "                \n",
    "        else:\n",
    "            # do not flip bits\n",
    "            if arr[i] == -1:\n",
    "                arr[i] = 0\n",
    "                        \n",
    "    return sum(arr)\n",
    "    \n",
    "\n",
    "inp = \"1 0 1 0 1 0 1 0\".split()\n",
    "inp = [int(i) for i in inp]\n",
    "\n",
    "flipBits(inp, len(inp))"
   ]
  },
  {
   "cell_type": "code",
   "execution_count": 63,
   "id": "7b7daf09-ff51-4777-a77d-d00bdba6e743",
   "metadata": {},
   "outputs": [
    {
     "data": {
      "text/plain": [
       "8"
      ]
     },
     "execution_count": 63,
     "metadata": {},
     "output_type": "execute_result"
    }
   ],
   "source": [
    "sum(inp)"
   ]
  },
  {
   "cell_type": "code",
   "execution_count": null,
   "id": "b32ff5da-601f-4557-8922-41ad218750bc",
   "metadata": {},
   "outputs": [],
   "source": []
  },
  {
   "cell_type": "code",
   "execution_count": 7,
   "id": "f48ec3ea-97e0-4ee7-914a-d3c54da0a63a",
   "metadata": {},
   "outputs": [
    {
     "data": {
      "text/plain": [
       "26"
      ]
     },
     "execution_count": 7,
     "metadata": {},
     "output_type": "execute_result"
    }
   ],
   "source": [
    "# Stickler thief\n",
    "\n",
    "def findMaxSum(arr):\n",
    "    incl = 0\n",
    "    excl = 0   \n",
    "    \n",
    "    for i in arr:\n",
    "        \n",
    "        new_excl = max(excl, incl)\n",
    "        \n",
    "        incl = excl + i\n",
    "        excl = new_excl\n",
    "            \n",
    "    return max(excl, incl)\n",
    "\n",
    "findMaxSum([12, 11, 6, 6, 3, 3, 3, 5])"
   ]
  },
  {
   "cell_type": "code",
   "execution_count": 84,
   "id": "bd985672-e04f-456f-9761-20fd4aaf9016",
   "metadata": {},
   "outputs": [],
   "source": [
    "from math import floor\n",
    "\n",
    "def findMajorityElement(arr, n):\n",
    "    # Write your code here.\n",
    "    count_dictionary = dict()\n",
    "\n",
    "    for val in arr:\n",
    "        if val in count_dictionary:\n",
    "            count_dictionary[val] += 1\n",
    "        else:\n",
    "            count_dictionary[val] = 1\n",
    "\n",
    "    majority_val = floor(n/2)\n",
    "\n",
    "    max_count, max_val = 0, -1\n",
    "    for key in count_dictionary.keys():\n",
    "        if count_dictionary[key] > max_count:\n",
    "            max_count = count_dictionary[key]\n",
    "            if max_count > majority_val:\n",
    "                return key\n",
    "\n",
    "    return -1"
   ]
  },
  {
   "cell_type": "code",
   "execution_count": 85,
   "id": "91b32ec9-bb86-49d3-925d-8bbe91f5b5b1",
   "metadata": {},
   "outputs": [
    {
     "name": "stdout",
     "output_type": "stream",
     "text": [
      "{37: 2, 89: 2, 119: 1}\n",
      "2\n"
     ]
    },
    {
     "data": {
      "text/plain": [
       "-1"
      ]
     },
     "execution_count": 85,
     "metadata": {},
     "output_type": "execute_result"
    }
   ],
   "source": [
    "arr = \"37 89 89 37 119\".split()\n",
    "arr = [int(i) for i in arr]\n",
    "\n",
    "findMajorityElement(arr, len(arr))"
   ]
  },
  {
   "cell_type": "code",
   "execution_count": 135,
   "id": "5f3a260b-4a4c-41a6-8b97-1d6872e8d6b8",
   "metadata": {},
   "outputs": [],
   "source": [
    "# https://www.codingninjas.com/codestudio/guided-paths/interview-guide-for-product-based-companies/content/110297/offering/1280150?leftPanelTab=0\n",
    "\n",
    "\n",
    "def area(width, height):\n",
    "    return width * height\n",
    "\n",
    "def maxAreaNaive(height):\n",
    "    # Write your code here.\n",
    "    max_area = 0\n",
    "    \n",
    "    n = len(height)\n",
    "    \n",
    "    for i in range(n):\n",
    "        \n",
    "        for j in range(i+1, n):\n",
    "            \n",
    "            h1 = height[i]\n",
    "            h2 = height[j]\n",
    "            \n",
    "            a = area(width=(j - i), height=min(h1, h2))\n",
    "            \n",
    "            if a > max_area:\n",
    "                \n",
    "                max_area = a\n",
    "                \n",
    "    return max_area\n",
    "\n",
    "'''Two pointera approach:\n",
    "1) set start = 0 and end = n-1\n",
    "2) if left height is lesser than right height, move start to right\n",
    "3) if right height is lesser that left height, move end to left\n",
    "4) keep track of max_area all along\n",
    "5) run until start < end\n",
    "6) return max_area\n",
    "'''\n",
    "def maxArea(height):\n",
    "    n = len(height)\n",
    "    \n",
    "    max_area = 0\n",
    "    start = 0\n",
    "    end = n - 1\n",
    "    \n",
    "    while start < end:\n",
    "        curr_area = area(width = end - start, height = min(height[start], height[end]))\n",
    "        if max_area < curr_area: max_area = curr_area\n",
    "        \n",
    "        if height[start] < height[end]:\n",
    "            start += 1\n",
    "        else:\n",
    "            end -= 1\n",
    "            \n",
    "    return max_area\n",
    "    "
   ]
  },
  {
   "cell_type": "code",
   "execution_count": 136,
   "id": "44190a60-c5f9-444f-aa71-5bf5b62bdd2e",
   "metadata": {},
   "outputs": [
    {
     "data": {
      "text/plain": [
       "28"
      ]
     },
     "execution_count": 136,
     "metadata": {},
     "output_type": "execute_result"
    }
   ],
   "source": [
    "maxArea([3, 4, 2, 2, 9, 5, 5, 9, 4])"
   ]
  },
  {
   "cell_type": "code",
   "execution_count": null,
   "id": "45c2b816-9b22-47e9-8ba5-f831ef9bbe46",
   "metadata": {},
   "outputs": [],
   "source": []
  },
  {
   "cell_type": "code",
   "execution_count": 49,
   "id": "9647f3a2-7173-4370-81f2-d8cc310824ed",
   "metadata": {},
   "outputs": [
    {
     "name": "stdout",
     "output_type": "stream",
     "text": [
      "5 3 5\n",
      "5 3 5\n",
      "11 6 1\n",
      "\n",
      "3 6 13\n",
      "7 6 11\n",
      "19 6 2\n",
      "\n"
     ]
    },
    {
     "data": {
      "text/plain": [
       "[11, 19]"
      ]
     },
     "execution_count": 49,
     "metadata": {},
     "output_type": "execute_result"
    }
   ],
   "source": [
    "def sumInRangesNaive(arr, n, queries, q):\n",
    "\n",
    "    # Write your function Here.\n",
    "    output = []\n",
    "    for left, right in queries:\n",
    "        total_sum = 0\n",
    "        for i in range(left, right+1):\n",
    "            val = (i - 1) % n\n",
    "            total_sum += arr[val]\n",
    "            \n",
    "        output.append(total_sum)\n",
    "    return output\n",
    "\n",
    "def get_index(array_len, nth_val):\n",
    "    \"\"\" returns index of cyclic array\"\"\"\n",
    "    return (nth_val) % array_len\n",
    "\n",
    "def sumInRanges(arr, n, queries, q):\n",
    "\n",
    "    output = []\n",
    "    for left, right in queries:\n",
    "        total_sum = 0\n",
    "        \n",
    "        # move left to right\n",
    "        while get_index(array_len=n, nth_val=left) != 0:\n",
    "            total_sum += arr[get_index(array_len=n, nth_val=left)]\n",
    "            left += 1            \n",
    "            \n",
    "        # move right to left\n",
    "        while left < right and get_index(array_len=n, nth_val=right) != (n-1):\n",
    "            total_sum += arr[get_index(array_len=n, nth_val=right) - 1]\n",
    "            right -= 1\n",
    "            \n",
    "        range_val = (right - left + 1) // n\n",
    "        n_sum = sum(arr)\n",
    "        total_sum += n_sum * range_val\n",
    "        \n",
    "        output.append(total_sum)\n",
    "    return output\n",
    "\n",
    "arr = [1, 2, 3]\n",
    "n = len(arr)\n",
    "\n",
    "queries = [(1,5), (5, 13)]\n",
    "q = len(queries)\n",
    "\n",
    "sumInRanges(arr, n, queries, q)"
   ]
  },
  {
   "cell_type": "code",
   "execution_count": 70,
   "id": "0b361234-4ae4-4283-8055-db9dfa9192ad",
   "metadata": {},
   "outputs": [
    {
     "data": {
      "text/plain": [
       "-1"
      ]
     },
     "execution_count": 70,
     "metadata": {},
     "output_type": "execute_result"
    }
   ],
   "source": [
    "def rotatedBinarySearch(arr, target):\n",
    "    start = 0\n",
    "    end = len(arr) - 1\n",
    "    \n",
    "    while start <= end:\n",
    "        \n",
    "        mid = (start + end) // 2\n",
    "        \n",
    "        if arr[mid] == target:\n",
    "            return mid\n",
    "        \n",
    "        if arr[mid] <= arr[end]:\n",
    "            #sorted on right\n",
    "            if target > arr[mid] and target <= arr[end]:\n",
    "                start = mid + 1\n",
    "            else:\n",
    "                end = mid - 1\n",
    "            \n",
    "        else:\n",
    "            #sorted on left\n",
    "            if target >= arr[start] and  target <= arr[mid]:\n",
    "                end = mid - 1\n",
    "            else:\n",
    "                start = mid + 1\n",
    "                \n",
    "    return -1\n",
    "\n",
    "arr = [10, 11, 12, 13, 14, 1, 2, 3, 4, 5]\n",
    "\n",
    "rotatedBinarySearch(arr, 20)"
   ]
  },
  {
   "cell_type": "code",
   "execution_count": 99,
   "id": "134a59fa-e361-42df-8981-4d1ab5266013",
   "metadata": {},
   "outputs": [
    {
     "name": "stdout",
     "output_type": "stream",
     "text": [
      "[[1, 2, 3], [2, 4, 5], [3, 5, 8]] [[1, 2, 3], [2, 4, 5], [3, 5, 8]]\n"
     ]
    },
    {
     "data": {
      "text/plain": [
       "True"
      ]
     },
     "execution_count": 99,
     "metadata": {},
     "output_type": "execute_result"
    }
   ],
   "source": [
    "def isMatrixSymmetric(matrix):\n",
    "    # Write your code here.  \n",
    "    matrix_transpose = [[0 for i in range(len(matrix))] for j in range(len(matrix[0]))]\n",
    "    \n",
    "    for i in range(len(matrix)):\n",
    "        for j in range(len(matrix[0])):\n",
    "            matrix_transpose[j][i] = matrix[i][j]\n",
    "                        \n",
    "    return matrix == matrix_transpose\n",
    "\n",
    "inp = [[1,2,3], [2,4,5], [3,5,8]]\n",
    "# inp = [[1,1,1,1], [2,2,2,2], [3,3,3,3]]\n",
    "isMatrixSymmetric(inp)"
   ]
  },
  {
   "cell_type": "code",
   "execution_count": 136,
   "id": "591e03d0-7dc1-4662-b398-e7e13f553a28",
   "metadata": {},
   "outputs": [
    {
     "data": {
      "text/plain": [
       "0"
      ]
     },
     "execution_count": 136,
     "metadata": {},
     "output_type": "execute_result"
    }
   ],
   "source": [
    "def query(n, q):\n",
    "    # Write your code here\n",
    "    # Return the number of cells having value ‘q’. \n",
    "    if q < 2: return 0\n",
    "    \n",
    "    if q <= n:\n",
    "        return q - 1\n",
    "    else:\n",
    "        top_q = n + 1\n",
    "        diff= q - top_q\n",
    "        return max(n - diff, 0)\n",
    "\n",
    "query(4, 100)"
   ]
  },
  {
   "cell_type": "code",
   "execution_count": 151,
   "id": "37496b35-53e4-4e0b-80a4-a736d0490b56",
   "metadata": {},
   "outputs": [],
   "source": []
  },
  {
   "cell_type": "code",
   "execution_count": 168,
   "id": "234ab6ea-2924-4eb5-946b-a4d8ceb3f3e7",
   "metadata": {},
   "outputs": [
    {
     "name": "stdout",
     "output_type": "stream",
     "text": [
      "2 6\n"
     ]
    },
    {
     "data": {
      "text/plain": [
       "[2, 3]"
      ]
     },
     "execution_count": 168,
     "metadata": {},
     "output_type": "execute_result"
    }
   ],
   "source": [
    "# https://www.codingninjas.com/codestudio/guided-paths/interview-guide-for-product-based-companies/content/111356/offering/1280160?leftPanelTab=0\n",
    "\n",
    "# SEARCH SORTED 2D ARRAY\n",
    "\n",
    "def binarySearch(arr, x):\n",
    "    start, end = 0, len(arr) - 1\n",
    "    \n",
    "    while start <= end:\n",
    "        mid = (start + end) // 2\n",
    "        \n",
    "        if arr[mid] == x:\n",
    "            return mid\n",
    "        \n",
    "        if arr[mid] > x:\n",
    "            end = mid - 1\n",
    "        else:\n",
    "            start = mid + 1\n",
    "            \n",
    "    return -1    \n",
    "\n",
    "def binarySearchFindStartEndRange(matrix, x):\n",
    "    start, end = 0, len(matrix) - 1\n",
    "    start_range , end_range = 0, len(matrix) - 1\n",
    "    \n",
    "    # find start_range\n",
    "    while start <= end:\n",
    "        mid = (start + end) // 2\n",
    "        \n",
    "        if matrix[mid][-1] >= x:\n",
    "            end = mid - 1\n",
    "            start_range = mid\n",
    "        else:\n",
    "            start = mid + 1\n",
    "            \n",
    "    start, end = 0, len(matrix) - 1\n",
    "    # find end_range\n",
    "    while start <= end:\n",
    "        mid = (start + end) // 2\n",
    "        \n",
    "        if matrix[mid][0] <= x:\n",
    "            start = mid + 1\n",
    "            end_range = start\n",
    "        else:\n",
    "            end = mid - 1\n",
    "            \n",
    "    return start_range, end_range\n",
    "            \n",
    "def search(matrix, x):\n",
    "    # Write your code here.\n",
    "    start_range, end_range = binarySearchFindStartEndRange(matrix, x)\n",
    "    print(start_range, end_range)\n",
    "    \n",
    "    for i, arr in enumerate(matrix[start_range: end_range]):\n",
    "            \n",
    "        j_index = binarySearch(arr, x)\n",
    "        if j_index != -1:\n",
    "            return [start_range + i, j_index]\n",
    "        \n",
    "    return [-1, -1]\n",
    "\n",
    "find = 7 \n",
    "\n",
    "inp = [ [2,3,4,5],\n",
    "        [3,4,5,6],\n",
    "        [4,5,6,7],\n",
    "        [5,6,7,8],\n",
    "        [6,7,8,9],\n",
    "        [7,8,9,10],\n",
    "        [8,9,10,11],\n",
    "        [11,12,13,14]]\n",
    "\n",
    "search(matrix=inp, x=find)"
   ]
  },
  {
   "cell_type": "code",
   "execution_count": 7,
   "id": "4111961c-983b-4b0c-baac-733b0f981c06",
   "metadata": {},
   "outputs": [
    {
     "data": {
      "text/plain": [
       "[4, 1, 1]"
      ]
     },
     "execution_count": 7,
     "metadata": {},
     "output_type": "execute_result"
    }
   ],
   "source": [
    "def emptyCells(N, K, tasks):\n",
    "    # Write your code here.\n",
    "    output = []\n",
    "    arr = [[None for _ in range(N)] for _ in range(N)]\n",
    "    total_num_of_null_elements = N * N\n",
    "\n",
    "    for row_task, col_task in tasks:\n",
    "                \n",
    "        for row in range(N):\n",
    "            if arr[row_task][row] == None:\n",
    "                total_num_of_null_elements -= 1\n",
    "                arr[row_task][row] = 0\n",
    "            \n",
    "        for col in range(N):\n",
    "            if arr[col][col_task] == None:\n",
    "                total_num_of_null_elements -= 1\n",
    "                arr[col][col_task] = 0\n",
    "                \n",
    "        output.append(total_num_of_null_elements)\n",
    "        \n",
    "    return output\n",
    "\n",
    "def emptyCells(N, K, tasks):\n",
    "    rowMap = set()\n",
    "    colMap = set()\n",
    "    rows, columns = N, N\n",
    "    output = []\n",
    "    for x,y in tasks:\n",
    "        if x not in rowMap:\n",
    "            rowMap.add(x)\n",
    "            rows -= 1\n",
    "        if y not in colMap:\n",
    "            colMap.add(y)\n",
    "            columns -= 1\n",
    "        output.append(rows*columns)\n",
    "    return output\n",
    "\n",
    "N = 3\n",
    "tasks = [(0, 0), (1,2), (0,2)]\n",
    "K = len(tasks)\n",
    "\n",
    "emptyCells(N, K, tasks)"
   ]
  },
  {
   "cell_type": "code",
   "execution_count": 34,
   "id": "7e66902b-7bb6-4a71-91f8-852b8c041d95",
   "metadata": {},
   "outputs": [
    {
     "name": "stdout",
     "output_type": "stream",
     "text": [
      "1\n",
      "2\n",
      "3\n",
      "4\n",
      "5\n"
     ]
    },
    {
     "data": {
      "text/plain": [
       "5"
      ]
     },
     "execution_count": 34,
     "metadata": {},
     "output_type": "execute_result"
    }
   ],
   "source": [
    "class Directions:\n",
    "    RIGHT = 0\n",
    "    BOTTOM = 1\n",
    "    LEFT = 2\n",
    "    TOP = 3\n",
    "\n",
    "def printMatrixSpiral(matrix, m, n, k):\n",
    "    \n",
    "    top = 0\n",
    "    left = 0\n",
    "    right = m - 1\n",
    "    bottom = n - 1\n",
    "    \n",
    "    direction = Directions.RIGHT\n",
    "    \n",
    "    counter = 0\n",
    "        \n",
    "    while left <= right and top <= bottom:\n",
    "        \n",
    "        if direction == Directions.RIGHT:\n",
    "            for i in range(left, right+1):\n",
    "                counter += 1\n",
    "                if counter == k: return matrix[top][i]\n",
    "                    \n",
    "            top += 1\n",
    "            direction = Directions.BOTTOM\n",
    "                \n",
    "        elif direction == Directions.BOTTOM:\n",
    "            for i in range(top, bottom+1):\n",
    "                counter += 1\n",
    "                if counter == k: return matrix[i][right]\n",
    "                \n",
    "            right -= 1\n",
    "            direction = Directions.LEFT\n",
    "                \n",
    "        elif direction == Directions.LEFT:\n",
    "            for i in range(right, left-1, -1):\n",
    "                counter += 1\n",
    "                if counter == k: return matrix[bottom][i]\n",
    "                \n",
    "            bottom -= 1\n",
    "            direction = Directions.TOP\n",
    "                \n",
    "        elif direction == Directions.TOP:\n",
    "            for i in range(bottom, top-1, -1):\n",
    "                counter += 1\n",
    "                if counter == k: return matrix[i][left]\n",
    "                \n",
    "            left += 1\n",
    "            direction = Directions.RIGHT\n",
    "            \n",
    "    \n",
    "    return -1\n",
    "\n",
    "matrix = [[1, 2, 3, 4],\n",
    "          [12,13,14, 5],\n",
    "          [11,16,15, 6],\n",
    "          [10, 9, 8, 7]]\n",
    "\n",
    "printMatrixSpiral(matrix, 4, 4, k=5)"
   ]
  },
  {
   "cell_type": "code",
   "execution_count": 16,
   "id": "4b7d70a0-c528-4092-a496-52627d6ac0fa",
   "metadata": {},
   "outputs": [],
   "source": [
    "s = 'aabbccbca'\n",
    "\n",
    "def satisfies_all(dictionary, dist_characters):\n",
    "    for char in dist_characters:\n",
    "        if dictionary[char] < 1:\n",
    "            return False\n",
    "        \n",
    "    return True\n",
    "\n",
    "def shortestSubString(s):\n",
    "    count_map = {}\n",
    "    dist_characters = list(set(s))\n",
    "    \n",
    "    for i in range(len(dist_characters)):\n",
    "        count_map[dist_characters[i]] = 0\n",
    "        \n",
    "    start = 0\n",
    "    end = 0\n",
    "    \n",
    "    res_idx = (0, 0)\n",
    "    res_len = len(s)\n",
    "        \n",
    "    while end < len(s):\n",
    "        count_map[s[end]] += 1\n",
    "        satisfied = satisfies_all(count_map, dist_characters)\n",
    "        \n",
    "        if satisfied:\n",
    "            if res_len > (end - start):\n",
    "                res_len = (end - start)\n",
    "                res_idx = (start + 1, end + 1)\n",
    "                \n",
    "            while satisfies_all(count_map, dist_characters):\n",
    "                start += 1\n",
    "                count_map[s[start]] -= 1\n",
    "                \n",
    "        end += 1\n",
    "               \n",
    "    \n",
    "    return res_idx, res_len"
   ]
  },
  {
   "cell_type": "code",
   "execution_count": 17,
   "id": "3675bc03-d4be-4d5d-9fe2-2c096c8b7387",
   "metadata": {},
   "outputs": [
    {
     "data": {
      "text/plain": [
       "((1, 5), 4)"
      ]
     },
     "execution_count": 17,
     "metadata": {},
     "output_type": "execute_result"
    }
   ],
   "source": [
    "s = \"aabbccab\"\n",
    "shortestSubString(s)"
   ]
  },
  {
   "cell_type": "code",
   "execution_count": 18,
   "id": "30603515-e194-4b32-a0f7-faf308b639ab",
   "metadata": {},
   "outputs": [
    {
     "data": {
      "text/plain": [
       "10"
      ]
     },
     "execution_count": 18,
     "metadata": {},
     "output_type": "execute_result"
    }
   ],
   "source": [
    "1 - 0\n",
    "2 - 1\n",
    "3 - 2\n",
    "4 - 3\n",
    "\n",
    "11 - 9\n",
    "22 - 11\n",
    "33 - 22\n",
    "\n",
    "99 - 88\n",
    "101 - 99\n",
    "111 - 101"
   ]
  },
  {
   "cell_type": "code",
   "execution_count": 63,
   "id": "4e5ce782-c20c-48d5-9838-cb2007a6b800",
   "metadata": {},
   "outputs": [
    {
     "data": {
      "text/plain": [
       "'109901'"
      ]
     },
     "execution_count": 63,
     "metadata": {},
     "output_type": "execute_result"
    }
   ],
   "source": [
    "str_num = \"1001\"\n",
    "\n",
    "def nextSmallerPalindrome(s):\n",
    "    str_len = len(s)\n",
    "    num = int(s)\n",
    "    s_list = [i for i in s]\n",
    "\n",
    "    if str_len == 1:\n",
    "        return str(num - 1)\n",
    "\n",
    "\n",
    "    ''' 1001 -> 999, 101 -> 99, 10001 -> 999...'''\n",
    "    if s.startswith('1') and s.endswith('1') and sum([int(i) for i in s_list]) == 2:\n",
    "        return str(num - 2)\n",
    "    \n",
    "    else:\n",
    "        if str_len % 2 == 0:\n",
    "            ''' take middle 2 numbers'''\n",
    "            mid_right = str_len // 2\n",
    "            mid_left = (str_len // 2) - 1\n",
    "            \n",
    "            if s[mid_left]+s[mid_right] != '00':\n",
    "                \n",
    "                s_list[mid_left] = str(int(s[mid_left]) - 1)\n",
    "                s_list[mid_right] = str(int(s[mid_right]) - 1)\n",
    "                                \n",
    "                return int(''.join(s_list))\n",
    "\n",
    "            else:\n",
    "                ''' 110011 - 109901'''\n",
    "                while mid_left >= 0 and mid_right <= str_len:\n",
    "                    if s_list[mid_left] != '0':\n",
    "                        s_list[mid_left] = str(int(s[mid_left]) - 1)\n",
    "                        s_list[mid_right] = str(int(s[mid_right]) - 1)\n",
    "                        return ''.join(s_list)\n",
    "\n",
    "                    else:\n",
    "                        s_list[mid_left] = \"9\"\n",
    "                        s_list[mid_right] = \"9\"\n",
    "                        \n",
    "                        mid_left -= 1\n",
    "                        mid_right += 1\n",
    "\n",
    "\n",
    "        else:\n",
    "            ''' take middle number'''\n",
    "            mid = str_len // 2\n",
    "            if int(s_list[mid]) > 0:\n",
    "                s_list[mid] = str(int(s[mid]) - 1)\n",
    "                return ''.join(s_list)\n",
    "\n",
    "            else:\n",
    "                left = mid\n",
    "                right = mid\n",
    "                while left >= 0 and right <= str_len:\n",
    "                    if s_list[left] != '0':\n",
    "                        s_list[left] = str(int(s[left]) - 1)\n",
    "                        s_list[right] = str(int(s[right]) - 1)\n",
    "                        return ''.join(s_list)\n",
    "\n",
    "                    else:\n",
    "                        s_list[left] = \"9\"\n",
    "                        s_list[right] = \"9\"\n",
    "                        left -= 1\n",
    "                        right += 1\n",
    "                        \n",
    "    return None\n",
    "                            \n",
    "nextSmallerPalindrome('110011')"
   ]
  },
  {
   "cell_type": "code",
   "execution_count": null,
   "id": "da0d1836-b063-4d6c-8a4b-fa24d86b9e18",
   "metadata": {},
   "outputs": [],
   "source": []
  },
  {
   "cell_type": "code",
   "execution_count": 12,
   "id": "46ec5de6-87ef-436f-9ac5-026b7127b9da",
   "metadata": {},
   "outputs": [
    {
     "data": {
      "text/plain": [
       "50"
      ]
     },
     "execution_count": 12,
     "metadata": {},
     "output_type": "execute_result"
    }
   ],
   "source": [
    "# HCF of GCD\n",
    "\n",
    "# https://www.youtube.com/watch?v=fNM7nOHU0Co\n",
    "\n",
    "\n",
    "def gcd(a, b):\n",
    "    if a == 0: return b\n",
    "    \n",
    "    return gcd(b%a, a)\n",
    "\n",
    "\n",
    "\n",
    "gcd(50, 100)"
   ]
  },
  {
   "cell_type": "code",
   "execution_count": null,
   "id": "b77e156a-c4de-4315-86c2-43345b7aa02c",
   "metadata": {},
   "outputs": [],
   "source": []
  },
  {
   "cell_type": "code",
   "execution_count": 24,
   "id": "31ff76d8-c5b1-4f5f-bd71-c59a8e080620",
   "metadata": {},
   "outputs": [
    {
     "name": "stdout",
     "output_type": "stream",
     "text": [
      "{'a': 1}\n",
      "{'b': 1}\n",
      "{'a': 1}\n",
      "{'b': 1}\n",
      "{'a': 1}\n",
      "{'b': 1}\n",
      "{'a': 1}\n"
     ]
    },
    {
     "data": {
      "text/plain": [
       "[0, 2, 4, 6]"
      ]
     },
     "execution_count": 24,
     "metadata": {},
     "output_type": "execute_result"
    }
   ],
   "source": [
    "def findAnagramsIndices(n, m, st, ptr):\n",
    "    answers = []\n",
    "    ptr_dict = {}\n",
    "    for i in ptr:\n",
    "        if i in ptr_dict:\n",
    "            ptr_dict[i] += 1\n",
    "        else:\n",
    "            ptr_dict[i] = 1\n",
    "                        \n",
    "    ana_dict = {}\n",
    "    for i in range(m):\n",
    "        if st[i] in ana_dict:\n",
    "            ana_dict[st[i]] += 1\n",
    "        else:\n",
    "            ana_dict[st[i]] = 1\n",
    "            \n",
    "    for i in range(m, n+1):\n",
    "                \n",
    "        if ana_dict == ptr_dict:\n",
    "            answers.append(i - m)\n",
    "            \n",
    "        if i < n:\n",
    "            \n",
    "            '''remove first element'''\n",
    "            if ana_dict[st[i-m]] == 1:\n",
    "                ana_dict.pop(st[i-m])\n",
    "            else:\n",
    "                ana_dict[st[i-m]] -= 1\n",
    "\n",
    "            '''add current element count plus 1 if present else set 1'''\n",
    "            if st[i] in ana_dict:\n",
    "                ana_dict[st[i]] += 1\n",
    "            else:\n",
    "                ana_dict[st[i]] = 1\n",
    "            \n",
    "                \n",
    "    return answers\n",
    "\n",
    "st = 'abababa'\n",
    "ptr = 'a'\n",
    "\n",
    "n = len(st)\n",
    "m = len(ptr)\n",
    "\n",
    "findAnagramsIndices(n, m, st, ptr)"
   ]
  },
  {
   "cell_type": "code",
   "execution_count": 44,
   "id": "4801b592-cee4-4b44-8ebf-158ccf6d63ff",
   "metadata": {},
   "outputs": [
    {
     "data": {
      "text/plain": [
       "'c'"
      ]
     },
     "execution_count": 44,
     "metadata": {},
     "output_type": "execute_result"
    }
   ],
   "source": [
    "def kThCharaterOfDecryptedString(s, k):\n",
    "    i = 0\n",
    "    char, num = '', ''\n",
    "    outs = []\n",
    "    while i < len(s):\n",
    "        if s[i].isdigit():\n",
    "            while i < len(s) and s[i].isdigit():\n",
    "                num += s[i]\n",
    "                i += 1\n",
    "        else:\n",
    "            char += s[i]\n",
    "            i += 1\n",
    "            \n",
    "        if char and num:\n",
    "            outs.append((char, int(num)))\n",
    "            char = ''\n",
    "            num = ''\n",
    "            \n",
    "    d_str = ''\n",
    "    for s, n in outs:\n",
    "        d_str += s * n\n",
    "            \n",
    "    return d_str[k-1] if ((k - 1) < len(d_str) and k > 0) else ''\n",
    "\n",
    "kThCharaterOfDecryptedString('a1bb2c10d0', 7)"
   ]
  },
  {
   "cell_type": "code",
   "execution_count": 28,
   "id": "38a98465-6735-4278-86cf-4613bf29372c",
   "metadata": {},
   "outputs": [
    {
     "name": "stdout",
     "output_type": "stream",
     "text": [
      "6 5 4 3 2 1 2 3 4 5 6 \n",
      "5 5 4 3 2 1 2 3 4 5 5 \n",
      "4 4 4 3 2 1 2 3 4 4 4 \n",
      "3 3 3 3 2 1 2 3 3 3 3 \n",
      "2 2 2 2 2 1 2 2 2 2 2 \n",
      "1 1 1 1 1 1 1 1 1 1 1 \n",
      "2 2 2 2 2 1 2 2 2 2 2 \n",
      "3 3 3 3 2 1 2 3 3 3 3 \n",
      "4 4 4 3 2 1 2 3 4 4 4 \n",
      "5 5 4 3 2 1 2 3 4 5 5 \n",
      "6 5 4 3 2 1 2 3 4 5 6 \n"
     ]
    }
   ],
   "source": [
    "# magic pattern\n",
    "\n",
    "''' \n",
    "\n",
    "4 3 2 1 2 3 4\n",
    "3 3 2 1 2 3 3\n",
    "2 2 2 1 2 2 2\n",
    "1 1 1 1 1 1 1\n",
    "2 2 2 1 2 2 2\n",
    "3 3 2 1 2 3 3\n",
    "4 3 2 1 2 3 4\n",
    "\n",
    "'''\n",
    "\n",
    "n = 5\n",
    "\n",
    "def printMagicalPattern(n):\n",
    "    \n",
    "    for j in range(n):\n",
    "\n",
    "        '''runs the first repeating nums'''\n",
    "        for i in range(j):\n",
    "            print(n-j, end=' ')        \n",
    "\n",
    "        '''runs unique first half of numbers'''\n",
    "        for i in range(n-j, 1, -1):\n",
    "            print(i, end = ' ')\n",
    "\n",
    "        '''runs unique second half'''\n",
    "        for i in range(1, n-j + 1):\n",
    "            print(i, end=' ')\n",
    "\n",
    "        '''runs repeating second half'''\n",
    "        for i in range(j):\n",
    "            print(n-j, end=' ')\n",
    "\n",
    "        print()\n",
    "    \n",
    "    for j in range(n-2, -1, -1):\n",
    "\n",
    "        for i in range(j):\n",
    "            print(n-j, end=' ')        \n",
    "\n",
    "        for i in range(n-j, 1, -1):\n",
    "            print(i, end = ' ')\n",
    "\n",
    "        for i in range(1, n-j + 1):\n",
    "            print(i, end=' ')\n",
    "\n",
    "        for i in range(j):\n",
    "            print(n-j, end=' ')\n",
    "\n",
    "        print()\n",
    "        \n",
    "    \n",
    "printMagicalPattern(6)"
   ]
  },
  {
   "cell_type": "code",
   "execution_count": 2,
   "id": "4983da3f-ce16-4374-9de3-3c37342b753c",
   "metadata": {},
   "outputs": [
    {
     "name": "stdout",
     "output_type": "stream",
     "text": [
      "1\n",
      "10\n",
      "11\n",
      "100\n",
      "101\n",
      "110\n",
      "111\n"
     ]
    },
    {
     "data": {
      "text/plain": [
       "[1, 10, 11, 100, 101]"
      ]
     },
     "execution_count": 2,
     "metadata": {},
     "output_type": "execute_result"
    }
   ],
   "source": [
    "# N = 5,\n",
    "# All the binary numbers are: 1, 10, 11, 100, 101.\n",
    "\n",
    "def generateBinaryNumbers(n):\n",
    "    \n",
    "    q = ['1']\n",
    "    output = []\n",
    "    \n",
    "    while q and len(output) <= n:\n",
    "        q_len = len(q)\n",
    "        \n",
    "        for i in range(q_len):\n",
    "            num = q.pop()\n",
    "            output.append(num[:])\n",
    "            print(num)\n",
    "            \n",
    "            num += '0'\n",
    "            q.insert(0, num)\n",
    "            num = num[:-1]\n",
    "            \n",
    "            num += '1'\n",
    "            q.insert(0, num)\n",
    "            \n",
    "    return [int(i) for i in output[:n]]\n",
    "\n",
    "generateBinaryNumbers(n=5)"
   ]
  },
  {
   "cell_type": "code",
   "execution_count": 22,
   "id": "197890ea-a86b-492b-b0c5-419e79e3ade9",
   "metadata": {},
   "outputs": [
    {
     "name": "stdout",
     "output_type": "stream",
     "text": [
      "0 [3, 5, 4, 2, 2, 1]\n"
     ]
    },
    {
     "data": {
      "text/plain": [
       "[3, 1, 2, 2, 4, 5]"
      ]
     },
     "execution_count": 22,
     "metadata": {},
     "output_type": "execute_result"
    }
   ],
   "source": [
    "def nextPermutation(permutation, n):\n",
    "    '''\n",
    "    4 2 4 3 1, \n",
    "    4 3 4 2 1,\n",
    "    4 3 1 2 4\n",
    "    \n",
    "    1) find the smallest element such that arr[i] < arr[i+1]\n",
    "    2) find the immediate greater element to arr[i]\n",
    "    3) swap 1 and 2\n",
    "    4) sort resulting elements in ascending order\n",
    "    '''\n",
    "    \n",
    "    smallest_idx = -1\n",
    "    for i in range(n-1, 0, -1):\n",
    "        if permutation[i] > permutation[i-1]:\n",
    "            smallest_idx = i - 1\n",
    "            break\n",
    "            \n",
    "            \n",
    "    if smallest_idx == -1:\n",
    "        return permutation[::-1]\n",
    "    \n",
    "    max_val = float('inf')\n",
    "    immediate_greatest_idx = -1\n",
    "    \n",
    "    for i in range(n-1, smallest_idx, -1):\n",
    "        if permutation[smallest_idx] < permutation[i]:\n",
    "            if max_val > permutation[i]:\n",
    "                max_val = permutation[i]\n",
    "                immediate_greatest_idx = i\n",
    "                                \n",
    "    permutation[immediate_greatest_idx], permutation[smallest_idx] = permutation[smallest_idx], permutation[immediate_greatest_idx]\n",
    "    \n",
    "    print(0, permutation)\n",
    "    \n",
    "    for i in range(n-1, smallest_idx, -1):\n",
    "        for j in range(n-2, smallest_idx, -1):\n",
    "            \n",
    "            if permutation[j] > permutation[j+1]:\n",
    "                permutation[j], permutation[j+1] = permutation[j+1], permutation[j]\n",
    "\n",
    "    return permutation\n",
    "\n",
    "arr = [2,5,4,3,2,1]\n",
    "# 1 2 4 2 3 3 5\n",
    "nextPermutation(arr, len(arr))"
   ]
  },
  {
   "cell_type": "code",
   "execution_count": null,
   "id": "d876755c-e7df-4b1c-92a2-c59786177e4e",
   "metadata": {},
   "outputs": [],
   "source": []
  },
  {
   "cell_type": "code",
   "execution_count": 77,
   "id": "d3a8ac63-f923-4c05-ab85-34e112f879f3",
   "metadata": {},
   "outputs": [
    {
     "name": "stdout",
     "output_type": "stream",
     "text": [
      "3 4 3 5 3 1 3 "
     ]
    },
    {
     "data": {
      "text/plain": [
       "6"
      ]
     },
     "execution_count": 77,
     "metadata": {},
     "output_type": "execute_result"
    }
   ],
   "source": [
    "def LongestSubsetWithZeroSum(arr):\n",
    "    \n",
    "    n = len(arr)\n",
    "    mp = {}\n",
    "    total = 0\n",
    "    for i in range(n):\n",
    "        total += arr[i]\n",
    "        print(total, end=' ')\n",
    "        mp[total] = i\n",
    "        \n",
    "    total = 0\n",
    "    r = 0\n",
    "    for i in range(n):\n",
    "        total += arr[i]\n",
    "        \n",
    "        if total == 0:\n",
    "            r = max(r, i+1)\n",
    "        else:\n",
    "            r = max(r, mp[total] - i)\n",
    "        \n",
    "    return r\n",
    "\n",
    "LongestSubsetWithZeroSum(arr=[3, 1, -1, 2, -2, -2, 2])"
   ]
  },
  {
   "cell_type": "code",
   "execution_count": null,
   "id": "e0dee1ed-ee16-49cd-b919-854702e058ce",
   "metadata": {},
   "outputs": [],
   "source": []
  },
  {
   "cell_type": "code",
   "execution_count": 91,
   "id": "8b733c1c-a164-45ab-b237-eb045ae6f9f3",
   "metadata": {},
   "outputs": [
    {
     "data": {
      "text/plain": [
       "0"
      ]
     },
     "execution_count": 91,
     "metadata": {},
     "output_type": "execute_result"
    }
   ],
   "source": [
    "def modularExponentiation(x, n, m):\n",
    "    res = 1 # Initialize result\n",
    " \n",
    "    # Update x if it is more\n",
    "    # than or equal to m\n",
    "    x = x % m\n",
    "     \n",
    "    if (x == 0) :\n",
    "        return 0\n",
    " \n",
    "    while (n > 0) :\n",
    "         \n",
    "        # If n is odd, multiply\n",
    "        # x with result\n",
    "        if ((n % 2) == 1) :\n",
    "            res = (res * x) % m\n",
    " \n",
    "        # n must be even now\n",
    "        n = n // 2      # n = n >> 1\n",
    "        x = (x * x) % m\n",
    "         \n",
    "    return res"
   ]
  },
  {
   "cell_type": "code",
   "execution_count": 95,
   "id": "898d59c3-fc36-4320-9f70-adaf47a7241c",
   "metadata": {},
   "outputs": [
    {
     "name": "stdout",
     "output_type": "stream",
     "text": [
      "1\n"
     ]
    },
    {
     "data": {
      "text/plain": [
       "36"
      ]
     },
     "execution_count": 95,
     "metadata": {},
     "output_type": "execute_result"
    }
   ],
   "source": [
    "# LCM and HCF(GCD)\n",
    "\n",
    "def GCD(x, y):\n",
    "    \n",
    "    while y:\n",
    "        x, y = y, x%y\n",
    "        \n",
    "    return x\n",
    "\n",
    "print(GCD(12, 11))\n",
    "\n",
    "# x*y = lcm(x, y) * gcd(x, y)\n",
    "# lcm = x * y // gcd(x,y)\n",
    "\n",
    "def LCM(x, y):\n",
    "    gcd = GCD(x, y)\n",
    "    return (x*y) // gcd\n",
    "\n",
    "LCM(x=12, y=18)"
   ]
  },
  {
   "cell_type": "code",
   "execution_count": 12,
   "id": "81a41893-740c-4b1a-b1d1-4f5444f4d2ba",
   "metadata": {},
   "outputs": [
    {
     "data": {
      "text/plain": [
       "[3, 10]"
      ]
     },
     "execution_count": 12,
     "metadata": {},
     "output_type": "execute_result"
    }
   ],
   "source": [
    "def searchRange(nums, target):\n",
    "\n",
    "    n = len(nums)\n",
    "\n",
    "    def search_right_extreme():\n",
    "\n",
    "        start = 0\n",
    "        end = n - 1\n",
    "        right_range = -1\n",
    "\n",
    "        while start <= end:\n",
    "            '''1 2 2 2 2 3 4 5'''\n",
    "\n",
    "            mid = start + ((end - start)//2)  \n",
    "\n",
    "            if nums[mid] == target:\n",
    "                start = mid + 1\n",
    "                right_range = mid\n",
    "\n",
    "            elif nums[mid] > target:\n",
    "                end = mid - 1\n",
    "\n",
    "            else:\n",
    "                start = mid + 1\n",
    "\n",
    "        return right_range\n",
    "\n",
    "    def search_left_extreme():\n",
    "\n",
    "        start = 0\n",
    "        end = n - 1\n",
    "        left_range = -1\n",
    "\n",
    "        while start <= end:\n",
    "            '''1 2 2 2 2 3 4 5'''\n",
    "            \n",
    "            mid = start + ((end - start)//2)  \n",
    "\n",
    "            if nums[mid] == target:\n",
    "                end = mid - 1\n",
    "                left_range = mid\n",
    "\n",
    "            elif nums[mid] > target:\n",
    "                end = mid - 1\n",
    "            else:\n",
    "                start = mid + 1\n",
    "        \n",
    "        return left_range\n",
    "\n",
    "\n",
    "    return [search_left_extreme(), search_right_extreme()]\n",
    "\n",
    "searchRange(nums=[1,2,3,4,4,4,4,4,4,4,4, 5,6], target=4)"
   ]
  },
  {
   "cell_type": "code",
   "execution_count": 35,
   "id": "290e30e0-5693-4564-ae32-e619e5a4628f",
   "metadata": {},
   "outputs": [
    {
     "data": {
      "text/plain": [
       "39"
      ]
     },
     "execution_count": 35,
     "metadata": {},
     "output_type": "execute_result"
    }
   ],
   "source": [
    "# https://www.youtube.com/watch?v=MFkqnGiCCiU\n",
    "# https://practice.geeksforgeeks.org/problems/e47329920b4e75869ea7b0e9b7c59ea145ccc22c/1\n",
    "\n",
    "# find the max num of theives that can be caught\n",
    "\n",
    "# inps = ['P', 'T', 'P', 'T', 'T' , 'P'] , k = 1\n",
    "# out = 3\n",
    "\n",
    "# inps = ['P', 'T', 'P'] , k = 1\n",
    "# out = 1\n",
    "\n",
    "# inps = ['T', 'T', 'P', 'P', 'T' , 'P'] , k = 2\n",
    "# out = 3"
   ]
  },
  {
   "cell_type": "code",
   "execution_count": 42,
   "id": "00c2db50-0101-41f8-827e-f61216101700",
   "metadata": {},
   "outputs": [
    {
     "name": "stdout",
     "output_type": "stream",
     "text": [
      "[0, 1, 4]\n",
      "[2, 3, 5]\n"
     ]
    },
    {
     "data": {
      "text/plain": [
       "2"
      ]
     },
     "execution_count": 42,
     "metadata": {},
     "output_type": "execute_result"
    }
   ],
   "source": [
    "# https://www.youtube.com/watch?v=MFkqnGiCCiU\n",
    "# https://practice.geeksforgeeks.org/problems/e47329920b4e75869ea7b0e9b7c59ea145ccc22c/1\n",
    "\n",
    "# find the max num of theives that can be caught\n",
    "\n",
    "# inps = ['P', 'T', 'P', 'T', 'T' , 'P'] , k = 1\n",
    "# out = 3\n",
    "\n",
    "# inps = ['P', 'T', 'P'] , k = 1\n",
    "# out = 1\n",
    "\n",
    "# inps = ['T', 'T', 'P', 'P', 'T' , 'P'] , k = 2\n",
    "# out = 3\n",
    "\n",
    "def catchThieves(arr, n, k): \n",
    "    \n",
    "        count = 0\n",
    "        p_index = 0\n",
    "        t_index = 0\n",
    "        police = []\n",
    "        thieves = []\n",
    "    \n",
    "        for i in range(len(arr)):\n",
    "            if arr[i] == \"P\":\n",
    "                police.append(i)\n",
    "            else:\n",
    "                thieves.append(i)\n",
    "                \n",
    "        print(thieves)\n",
    "        print(police)\n",
    "        \n",
    "    \n",
    "        while(True):\n",
    "            if p_index >= len(police) or t_index >= len(thieves):  \n",
    "                break\n",
    "        \n",
    "            if abs(police[p_index] - thieves[t_index]) <= k:\n",
    "                p_index+=1\n",
    "                t_index+=1\n",
    "                count += 1\n",
    "       \n",
    "            elif police[p_index] < thieves[t_index]:\n",
    "                p_index += 1\n",
    "            \n",
    "            else:\n",
    "                t_index+=1\n",
    "\n",
    "        return count\n",
    "    \n",
    "arr = \"T P P P T T P T P T P P T T P T T P P P P P T T P T P T T T P P P P T T P T P T P T T P T P T T P T T T T T T T P P T P T P T P P T T P P T T T T T T T T T T P T P P P P T P T T\"\n",
    "arr = arr.split()\n",
    "catchThieves(arr=['T', 'T', 'P', 'P', 'T' , 'P'], n=6, k = 1)"
   ]
  },
  {
   "cell_type": "code",
   "execution_count": 5,
   "id": "42bdc7b1-986a-4da4-adf5-d81d79656a3a",
   "metadata": {},
   "outputs": [
    {
     "data": {
      "text/plain": [
       "3"
      ]
     },
     "execution_count": 5,
     "metadata": {},
     "output_type": "execute_result"
    }
   ],
   "source": [
    "# https://www.codingninjas.com/codestudio/problems/longest-mountain-subarray_893069?leftPanelTab=0\n",
    "\n",
    "def longestMountain(arr, n):\n",
    "    \n",
    "    if n < 3:\n",
    "        return 0\n",
    "        \n",
    "    max_len = 0\n",
    "    \n",
    "    for i in range(1, n - 1):\n",
    "        count = 0\n",
    "        \n",
    "        if arr[i] > arr[i-1] and arr[i] > arr[i + 1]:\n",
    "            count = 1\n",
    "            \n",
    "            j = i\n",
    "            while j > 0 and arr[j] > arr[j-1]:\n",
    "                j -= 1\n",
    "                count += 1\n",
    "                \n",
    "            j = i\n",
    "            while j < n-1 and arr[j] > arr[j+1]:\n",
    "                j += 1\n",
    "                count += 1\n",
    "                \n",
    "        max_len = max(max_len, count)\n",
    "                \n",
    "    return max_len\n",
    "\n",
    "arr = [2, 4, 1, 3, 10, 10]\n",
    "n = len(arr)\n",
    "\n",
    "longestMountain(arr, n)"
   ]
  },
  {
   "cell_type": "code",
   "execution_count": 15,
   "id": "4e8a813d-0967-44e8-a4a8-e397d968c06d",
   "metadata": {},
   "outputs": [],
   "source": [
    "from sys import stdin, setrecursionlimit\n",
    "setrecursionlimit(10**5)"
   ]
  },
  {
   "cell_type": "code",
   "execution_count": 27,
   "id": "0d146ac8-fb03-4fac-b58a-1b67f505c68d",
   "metadata": {},
   "outputs": [],
   "source": [
    "class Stack:\n",
    "    def __init__(self):\n",
    "        self.arr = []\n",
    "        \n",
    "    def push(self, data):\n",
    "        self.arr.insert(0, data)\n",
    "        \n",
    "    def pop(self):\n",
    "        if self.arr:\n",
    "            return self.arr.pop(0)\n",
    "        else:\n",
    "            return None\n",
    "        \n",
    "    def peek(self):\n",
    "        if self.arr:\n",
    "            return self.arr[0]\n",
    "        else:\n",
    "            return None\n",
    "        \n",
    "    def isEmpty(self):\n",
    "        return len(self.arr) == 0\n",
    "        \n",
    "        \n",
    "class Queue:\n",
    "\n",
    "    def __init__(self):\n",
    "        # Initialize your data structure here.\n",
    "        self.stack = Stack()\n",
    "\n",
    "    def enQueue(self, val):\n",
    "        # Implement the enqueue() function.\n",
    "        self.stack.push(val)\n",
    "        \n",
    "\n",
    "    def deQueue(self):\n",
    "        # Implement the dequeue() function.\n",
    "        # [1,2,3,4,5]\n",
    "        \n",
    "        if self.stack.isEmpty():\n",
    "            return -1\n",
    "        \n",
    "        temp_stack = Stack()\n",
    "        \n",
    "        while not self.stack.isEmpty():\n",
    "            p = self.stack.pop()\n",
    "            temp_stack.push(p)\n",
    "            \n",
    "        popped = temp_stack.pop()\n",
    "                    \n",
    "        while not temp_stack.isEmpty():\n",
    "            self.stack.push(temp_stack.pop())\n",
    "            \n",
    "        return popped\n",
    "\n",
    "    def peek(self):\n",
    "        # Implement the peek() function here.\n",
    "        temp_stack = Stack()\n",
    "        if self.stack.isEmpty():\n",
    "            return -1\n",
    "        \n",
    "        while not self.stack.isEmpty():\n",
    "            popped = self.stack.pop()\n",
    "            temp_stack.push(popped)\n",
    "            \n",
    "            \n",
    "        item = temp_stack.peek()\n",
    "                    \n",
    "        while not temp_stack.isEmpty():\n",
    "            self.stack.push(temp_stack.pop()) \n",
    "            \n",
    "        return item\n",
    "        \n",
    "\n",
    "    def isEmpty(self):\n",
    "        # Implement the isEmpty() function here.\n",
    "        return self.stack.isEmpty()"
   ]
  },
  {
   "cell_type": "code",
   "execution_count": 28,
   "id": "ddadfc77-0b11-4f5c-b6a9-036135728952",
   "metadata": {},
   "outputs": [],
   "source": [
    "q = Queue()\n",
    "\n",
    "q.enQueue(1)\n",
    "q.enQueue(2)\n",
    "q.enQueue(3)"
   ]
  },
  {
   "cell_type": "code",
   "execution_count": 35,
   "id": "418ca574-5523-46a9-bd5f-80dc4a93ec93",
   "metadata": {},
   "outputs": [
    {
     "data": {
      "text/plain": [
       "-1"
      ]
     },
     "execution_count": 35,
     "metadata": {},
     "output_type": "execute_result"
    }
   ],
   "source": [
    "q.peek()"
   ]
  },
  {
   "cell_type": "code",
   "execution_count": 36,
   "id": "6ec1e05a-fd85-4c77-bc1d-6aaea562f88e",
   "metadata": {},
   "outputs": [
    {
     "data": {
      "text/plain": [
       "-1"
      ]
     },
     "execution_count": 36,
     "metadata": {},
     "output_type": "execute_result"
    }
   ],
   "source": [
    "q.deQueue()"
   ]
  },
  {
   "cell_type": "code",
   "execution_count": 53,
   "id": "4e759901-9d10-42d8-b5d8-cb258989bcb8",
   "metadata": {},
   "outputs": [
    {
     "data": {
      "text/plain": [
       "['C', 'a', 'b', 'e', 'l', 'l', 'o', 'w']"
      ]
     },
     "execution_count": 53,
     "metadata": {},
     "output_type": "execute_result"
    }
   ],
   "source": [
    "a = 'ellowabC'\n",
    "sorted(a)"
   ]
  },
  {
   "cell_type": "code",
   "execution_count": 45,
   "id": "14d2d7df-d471-40ed-a949-fe4a05aea851",
   "metadata": {},
   "outputs": [
    {
     "name": "stdout",
     "output_type": "stream",
     "text": [
      "[4, 6, 6, 6] 2\n",
      "[1, 4, 6, 6] 2\n",
      "[1, 1, 4, 6] 2\n",
      "[0, 1, 1, 4] 2\n"
     ]
    },
    {
     "data": {
      "text/plain": [
       "2"
      ]
     },
     "execution_count": 45,
     "metadata": {},
     "output_type": "execute_result"
    }
   ],
   "source": [
    "def minDifference(nums):\n",
    "    \"\"\"\n",
    "    :type nums: List[int]\n",
    "    :rtype: int\n",
    "    \"\"\"\n",
    "\n",
    "    if len(nums) <= 3: return 0\n",
    "\n",
    "    nums.sort()\n",
    "    '''0 1 5 10 14'''\n",
    "\n",
    "    min_num = nums[0]\n",
    "    \n",
    "    n = list(nums)\n",
    "\n",
    "    # make first 3 smaller\n",
    "    n.pop(0)\n",
    "    n.pop(0)\n",
    "    n.pop(0)\n",
    "\n",
    "    diff = max(n) - min(n)\n",
    "    \n",
    "    n = list(nums)\n",
    "    # make first 2 and last 1 smaller\n",
    "    n.pop(0)\n",
    "    n.pop(0)\n",
    "    n.pop(-1)\n",
    "\n",
    "    diff = min(diff, max(n) - min(n))\n",
    "    \n",
    "    n = list(nums)\n",
    "\n",
    "    # make first 1 and last 2 smaller\n",
    "    n.pop(0)\n",
    "    n.pop(-1)\n",
    "    n.pop(-1)\n",
    "\n",
    "    diff = min(diff, max(n) - min(n))\n",
    "    \n",
    "    n = list(nums)\n",
    "\n",
    "     # make last 3 smaller\n",
    "    n.pop(-1)\n",
    "    n.pop(-1)\n",
    "    n.pop(-1)\n",
    "    \n",
    "    diff = min(diff, max(n) - min(n))\n",
    "\n",
    "    return diff\n",
    "\n",
    "minDifference([6,6,0,1,1,4,6])\n",
    "\n",
    "def minDifference(nums):\n",
    "    \"\"\"\n",
    "    :type nums: List[int]\n",
    "    :rtype: int\n",
    "    \"\"\"\n",
    "\n",
    "    if len(nums) <= 3: return 0\n",
    "\n",
    "    nums.sort()\n",
    "    '''0 1 5 10 14'''\n",
    "\n",
    "    arr1 = nums[:-3]\n",
    "    arr2 = nums[3:]\n",
    "    arr3 = nums[1:-2]\n",
    "    arr4 = nums[2:-1]\n",
    "    return min(arr1[-1] - arr1[0], arr2[-1] - arr2[0], arr3[-1] - arr3[0], arr4[-1] - arr4[0])"
   ]
  },
  {
   "cell_type": "code",
   "execution_count": null,
   "id": "dfe386a0-0a5e-41c9-ae5d-b367f4ba54e8",
   "metadata": {},
   "outputs": [],
   "source": []
  }
 ],
 "metadata": {
  "kernelspec": {
   "display_name": "Python 3 (ipykernel)",
   "language": "python",
   "name": "python3"
  },
  "language_info": {
   "codemirror_mode": {
    "name": "ipython",
    "version": 3
   },
   "file_extension": ".py",
   "mimetype": "text/x-python",
   "name": "python",
   "nbconvert_exporter": "python",
   "pygments_lexer": "ipython3",
   "version": "3.9.12"
  }
 },
 "nbformat": 4,
 "nbformat_minor": 5
}
