{
 "cells": [
  {
   "cell_type": "code",
   "execution_count": 4,
   "id": "1f849fc1-0a7f-4130-a14a-f73f48b6474d",
   "metadata": {},
   "outputs": [
    {
     "name": "stdout",
     "output_type": "stream",
     "text": [
      "1\n",
      "2\n",
      "3\n",
      "4\n",
      "5\n"
     ]
    }
   ],
   "source": [
    "def print_n_times(name, i, n):\n",
    "    if i == n+1: \n",
    "        return\n",
    "\n",
    "    print(i)\n",
    "    \n",
    "    print_n_times(name, i + 1, n)\n",
    "    \n",
    "print_n_times('hello', 1, 5)"
   ]
  },
  {
   "cell_type": "code",
   "execution_count": 2,
   "id": "cfa2caa1-0b05-45a4-9c9d-8397985862fd",
   "metadata": {},
   "outputs": [
    {
     "name": "stdout",
     "output_type": "stream",
     "text": [
      "5\n",
      "4\n",
      "3\n",
      "2\n",
      "1\n"
     ]
    }
   ],
   "source": [
    "def print_5_to_1_backtracking(i):\n",
    "    if i == 6: return \n",
    "    \n",
    "    print_5_to_1_backtracking(i + 1)\n",
    "    print(i)\n",
    "    \n",
    "print_5_to_1_backtracking(1)"
   ]
  },
  {
   "cell_type": "code",
   "execution_count": 28,
   "id": "7b438b54-60a3-4bc7-b655-10f4ec0b01fb",
   "metadata": {},
   "outputs": [
    {
     "data": {
      "text/plain": [
       "15"
      ]
     },
     "execution_count": 28,
     "metadata": {},
     "output_type": "execute_result"
    }
   ],
   "source": [
    "def summation_of_1st_n_nums(i, n, total):\n",
    "        \n",
    "    if i == n:\n",
    "        return total\n",
    "\n",
    "    total += i\n",
    "    \n",
    "    return summation_of_1st_n_nums(i + 1, n, total)\n",
    "\n",
    "out = summation_of_1st_n_nums(1, 5, 0)\n",
    "out\n",
    "\n",
    "def summation_of_1st_n_nums(n):\n",
    "        \n",
    "    if n == 0:\n",
    "        return 0\n",
    "        \n",
    "    return n + summation_of_1st_n_nums(n - 1)\n",
    "\n",
    "summation_of_1st_n_nums(5)"
   ]
  },
  {
   "cell_type": "code",
   "execution_count": 31,
   "id": "f0fb89fa-db4e-46ed-bdb1-661f45b81e62",
   "metadata": {},
   "outputs": [
    {
     "data": {
      "text/plain": [
       "120"
      ]
     },
     "execution_count": 31,
     "metadata": {},
     "output_type": "execute_result"
    }
   ],
   "source": [
    "def factorial(n):\n",
    "    if n == 1:\n",
    "        return 1\n",
    "    \n",
    "    return n * factorial(n-1)\n",
    "\n",
    "factorial(5)"
   ]
  },
  {
   "cell_type": "code",
   "execution_count": 13,
   "id": "32f5faa0-3c04-4b80-a91f-e334a552ba60",
   "metadata": {},
   "outputs": [
    {
     "data": {
      "text/plain": [
       "-1"
      ]
     },
     "execution_count": 13,
     "metadata": {},
     "output_type": "execute_result"
    }
   ],
   "source": [
    "def binary_search(arr, target, start, end):\n",
    "    \n",
    "    if start > end: return -1\n",
    "    \n",
    "    mid = (start + end ) // 2\n",
    "    \n",
    "    if arr[mid] == target:\n",
    "        return mid\n",
    "    \n",
    "    if arr[mid] > target:\n",
    "        ans = binary_search(arr, target, start, mid-1)\n",
    "        \n",
    "    else:\n",
    "        ans = binary_search(arr, target, mid+1, end)\n",
    "        \n",
    "    return ans\n",
    "\n",
    "arr = [1,2,3,4,5,6,7,8,9]\n",
    "num = 11\n",
    "\n",
    "binary_search(arr, num, 0, len(arr)-1)"
   ]
  },
  {
   "cell_type": "code",
   "execution_count": null,
   "id": "b700c8e5-f2a6-4b27-b8db-9af6669fe4fe",
   "metadata": {},
   "outputs": [],
   "source": []
  },
  {
   "cell_type": "code",
   "execution_count": 32,
   "id": "8af41002-2360-4fa6-bf95-9f7354319700",
   "metadata": {},
   "outputs": [
    {
     "data": {
      "text/plain": [
       "[6, 5, 4, 3, 2, 1]"
      ]
     },
     "execution_count": 32,
     "metadata": {},
     "output_type": "execute_result"
    }
   ],
   "source": [
    "def reverse_array(arr, start, end):\n",
    "    if start >= end:\n",
    "        return\n",
    "    \n",
    "    arr[start], arr[end] = arr[end], arr[start]    \n",
    "    \n",
    "    reverse_array(arr, start+1, end - 1)\n",
    "\n",
    "arr = [1,2,3,4,5,6]\n",
    "\n",
    "reverse_array(arr, 0, len(arr) - 1)\n",
    "\n",
    "arr"
   ]
  },
  {
   "cell_type": "code",
   "execution_count": 40,
   "id": "8bcc5f2c-e061-4af4-8de9-d68ad2735abd",
   "metadata": {},
   "outputs": [
    {
     "data": {
      "text/plain": [
       "True"
      ]
     },
     "execution_count": 40,
     "metadata": {},
     "output_type": "execute_result"
    }
   ],
   "source": [
    "def is_palindrome(string, start, end):\n",
    "    if start >= end:\n",
    "        return True\n",
    "    \n",
    "    if (string[start] != string[end]):\n",
    "        return False\n",
    "        \n",
    "    return is_palindrome(string, start+1, end-1)\n",
    "\n",
    "s = 'hellolleh'\n",
    "is_palindrome(s, 0, len(s) - 1)"
   ]
  },
  {
   "cell_type": "code",
   "execution_count": 45,
   "id": "73682653-4046-43e7-a7e8-2816e053fb1f",
   "metadata": {},
   "outputs": [
    {
     "data": {
      "text/plain": [
       "8"
      ]
     },
     "execution_count": 45,
     "metadata": {},
     "output_type": "execute_result"
    }
   ],
   "source": [
    "def fibonacci(n):\n",
    "    if n == 1 or n == 0: return n\n",
    "\n",
    "    return fibonacci(n-1) + fibonacci(n - 2)\n",
    "\n",
    "fibonacci(6)"
   ]
  },
  {
   "cell_type": "code",
   "execution_count": 57,
   "id": "129aa374-5489-4170-9197-8c6b31a2b85b",
   "metadata": {},
   "outputs": [
    {
     "data": {
      "text/plain": [
       "[[1, 2, 3], [1, 2], [1, 3], [1], [2, 3], [2], [3]]"
      ]
     },
     "execution_count": 57,
     "metadata": {},
     "output_type": "execute_result"
    }
   ],
   "source": [
    "def printAllSubsets(n, arr):\n",
    "    # arr = 1 2 3 4 5\n",
    "    \n",
    "    subsets = []\n",
    "    \n",
    "    def backtracking(idx, stack):\n",
    "        \n",
    "        if idx == n:\n",
    "            if stack:\n",
    "                subsets.append(list(stack))\n",
    "            return\n",
    "        \n",
    "        stack.append(arr[idx])\n",
    "        backtracking(idx+1, stack)\n",
    "        \n",
    "        stack.pop()\n",
    "        backtracking(idx+1, stack)\n",
    "        \n",
    "    backtracking(idx=0, stack=[])\n",
    "    return subsets\n",
    "\n",
    "printAllSubsets(n=3, arr=[1,2,3])"
   ]
  },
  {
   "cell_type": "code",
   "execution_count": 1,
   "id": "c75365d7-8a15-4a18-8022-7339b0b9ee87",
   "metadata": {},
   "outputs": [
    {
     "name": "stdout",
     "output_type": "stream",
     "text": [
      "[1, 2, 3]\n",
      "[1, 2]\n",
      "[1, 3]\n",
      "[1]\n",
      "[2, 3]\n",
      "[2]\n",
      "[3]\n",
      "[]\n"
     ]
    }
   ],
   "source": [
    "def sub_sequence(idx, nums, arr):\n",
    "    \n",
    "    if idx >= len(nums):\n",
    "        print(arr)\n",
    "        return\n",
    "    \n",
    "    arr.append(nums[idx])\n",
    "    sub_sequence(idx+1, nums, arr)\n",
    "    \n",
    "    arr.pop()\n",
    "    sub_sequence(idx+1, nums, arr)\n",
    "    \n",
    "    return\n",
    "    \n",
    "sub_sequence(0, [1,2,3], [])"
   ]
  },
  {
   "cell_type": "code",
   "execution_count": 17,
   "id": "42aedd22-9497-4572-ba4b-33d644a1a04b",
   "metadata": {},
   "outputs": [
    {
     "name": "stdout",
     "output_type": "stream",
     "text": [
      "[1, 2]\n",
      "[3]\n"
     ]
    }
   ],
   "source": [
    "def print_sub_sequence_of_sum_k(idx, nums, arr, k):\n",
    "    \n",
    "    if idx >= len(nums):\n",
    "        if sum(arr) == k:\n",
    "            print(arr)\n",
    "            \n",
    "        return\n",
    "    \n",
    "    arr.append(nums[idx])\n",
    "    print_sub_sequence_of_sum_k(idx+1, nums, arr, k)\n",
    "    \n",
    "    arr.pop()\n",
    "    print_sub_sequence_of_sum_k(idx+1, nums, arr, k)\n",
    "    \n",
    "    return\n",
    "\n",
    "idx = 0\n",
    "nums = [1,2,3,4]\n",
    "arr = []\n",
    "n = len(arr)\n",
    "k = 3\n",
    "\n",
    "print_sub_sequence_of_sum_k(idx, nums, arr, k)"
   ]
  },
  {
   "cell_type": "code",
   "execution_count": 27,
   "id": "00462a32-defc-4410-8a54-756fc301c333",
   "metadata": {},
   "outputs": [
    {
     "name": "stdout",
     "output_type": "stream",
     "text": [
      "[3]\n"
     ]
    },
    {
     "data": {
      "text/plain": [
       "True"
      ]
     },
     "execution_count": 27,
     "metadata": {},
     "output_type": "execute_result"
    }
   ],
   "source": [
    "def print_one_sub_sequence_of_sum_k(nums, arr, idx, k):\n",
    "    \n",
    "    if idx >= len(nums):\n",
    "        if sum(arr) == k:\n",
    "            print(arr)            \n",
    "            return True\n",
    "        else:\n",
    "            return False\n",
    "    \n",
    "    arr.append(nums[idx])\n",
    "    is_true = print_one_sub_sequence_of_sum_k(nums, arr, idx+1, k)\n",
    "    if is_true: return True\n",
    "        \n",
    "    arr.pop()\n",
    "    is_true = print_one_sub_sequence_of_sum_k(nums, arr, idx+1, k)\n",
    "    if is_true: return True\n",
    "    \n",
    "    return False\n",
    "\n",
    "idx = 0\n",
    "nums = [1,2,3,4]\n",
    "arr = []\n",
    "k = 3\n",
    "\n",
    "print_one_sub_sequence_of_sum_k(nums, arr, idx+1, k)"
   ]
  },
  {
   "cell_type": "code",
   "execution_count": 5,
   "id": "73b8a99e-5aa1-44db-8355-bbb6e4362fbc",
   "metadata": {},
   "outputs": [
    {
     "data": {
      "text/plain": [
       "2"
      ]
     },
     "execution_count": 5,
     "metadata": {},
     "output_type": "execute_result"
    }
   ],
   "source": [
    "def num_of_elements_sum_equals_k(idx, nums, k, s):\n",
    "    \n",
    "    '''only if nums contain positive numbers'''\n",
    "    if s > k: return 0\n",
    "    \n",
    "    if idx >= len(nums):\n",
    "        if s == k:\n",
    "            return 1\n",
    "        \n",
    "        return 0\n",
    "    \n",
    "    s += nums[idx]\n",
    "    l = num_of_elements_sum_equals_k(idx+1, nums, k, s)\n",
    "    \n",
    "    s -= nums[idx]\n",
    "    r = num_of_elements_sum_equals_k(idx+1, nums, k, s)\n",
    "    \n",
    "    return l + r\n",
    "\n",
    "num_of_elements_sum_equals_k(idx=0, nums=[1,2,3,4], k=3, s=0)"
   ]
  },
  {
   "cell_type": "code",
   "execution_count": null,
   "id": "8da85744-680b-41d4-bcfa-3cbeb68150de",
   "metadata": {},
   "outputs": [],
   "source": []
  },
  {
   "cell_type": "code",
   "execution_count": 61,
   "id": "bd6318ac-b092-4fc9-845b-3fafaffc8572",
   "metadata": {},
   "outputs": [
    {
     "data": {
      "text/plain": [
       "[[1, 1, 1, 1], [1, 1, 2], [1, 3], [2, 2]]"
      ]
     },
     "execution_count": 61,
     "metadata": {},
     "output_type": "execute_result"
    }
   ],
   "source": [
    "# combination sum\n",
    "\n",
    "# arr = [1,2,3]\n",
    "\n",
    "# target = 3\n",
    "\n",
    "# outputs = [[1,1,1], [1,2], [3]]\n",
    "\n",
    "\n",
    "def combination_sum(idx, nums, arr, target):\n",
    "    \n",
    "    '''base case'''\n",
    "    if idx >= len(nums):\n",
    "        if target == sum(arr):\n",
    "            print(arr)\n",
    "        \n",
    "        return\n",
    "    \n",
    "    '''Pick'''\n",
    "    arr.append(nums[idx])\n",
    "    \n",
    "    if sum(arr) <= target:\n",
    "        combination_sum(idx, nums, arr, target)\n",
    "        \n",
    "    arr.pop()\n",
    "    \n",
    "    '''Not pick'''\n",
    "    combination_sum(idx+1, nums, arr, target)\n",
    "    \n",
    "    \n",
    "def combinationSum(arr, B):\n",
    "\n",
    "    # Write your code here\n",
    "    # Return a list of sorted lists/combinations\n",
    "    res = []\n",
    "    def backtrack(i, tmp, s):\n",
    "        if s == B:\n",
    "            res.append(list(tmp))\n",
    "            return\n",
    "        if s > B:\n",
    "            return\n",
    "\n",
    "        for j in range(i, len(arr)):\n",
    "            tmp.append(arr[j])\n",
    "            backtrack(j, tmp, s+arr[j])\n",
    "            tmp.pop()\n",
    "\n",
    "    backtrack(0, [], 0)\n",
    "    return res\n",
    "    \n",
    "\n",
    "# combination_sum(idx=0, nums=[1,2, 3], arr=[], target=4)\n",
    "\n",
    "combSum(arr=[1,2,3], B=4)"
   ]
  },
  {
   "cell_type": "code",
   "execution_count": 1,
   "id": "daf3ed0a-0c5e-465b-92ba-eab390016655",
   "metadata": {},
   "outputs": [
    {
     "name": "stdout",
     "output_type": "stream",
     "text": [
      "[1, 2]\n",
      "[3]\n"
     ]
    }
   ],
   "source": [
    "# combination sum - 2\n",
    "# no repeats allowed, no duplicates allowed\n",
    "\n",
    "# arr = [1,2,3]\n",
    "\n",
    "# target = 3\n",
    "\n",
    "# outputs = [[1,2], [3]]\n",
    "\n",
    "\n",
    "def combination_sum(idx, nums, arr, target):\n",
    "    \n",
    "    if target == 0:\n",
    "        print(arr)\n",
    "        return\n",
    "        \n",
    "    for i in range(idx, len(nums)):\n",
    "                \n",
    "        if (i > idx) and (nums[i] == nums[i-1]):\n",
    "            continue\n",
    "            \n",
    "        if nums[i] > target:\n",
    "            break\n",
    "            \n",
    "        arr.append(nums[i])\n",
    "        combination_sum(i + 1, nums, arr, target-nums[i])\n",
    "        arr.pop() \n",
    "\n",
    "        \n",
    "nums = [1,1,2,2,3]\n",
    "target = 3\n",
    "\n",
    "combination_sum(idx=0, nums=nums, arr=[], target=target)"
   ]
  },
  {
   "cell_type": "code",
   "execution_count": 31,
   "id": "480e3984-9079-4469-8b7b-d30ddef1e4f6",
   "metadata": {},
   "outputs": [
    {
     "name": "stdout",
     "output_type": "stream",
     "text": [
      "6\n",
      "3\n",
      "4\n",
      "1\n",
      "5\n",
      "2\n",
      "3\n",
      "0\n"
     ]
    },
    {
     "data": {
      "text/plain": [
       "[0, 1, 2, 3, 3, 4, 5, 6]"
      ]
     },
     "execution_count": 31,
     "metadata": {},
     "output_type": "execute_result"
    }
   ],
   "source": [
    "output = []\n",
    "\n",
    "def subset_sum(idx, nums, total):\n",
    "    \n",
    "    if idx >= len(nums):\n",
    "        print(total)\n",
    "        output.append(total)\n",
    "        return\n",
    "    \n",
    "    total += nums[idx]\n",
    "    subset_sum(idx + 1, nums, total)\n",
    "    \n",
    "    total -= nums[idx]\n",
    "    \n",
    "    subset_sum(idx+1, nums, total)\n",
    "    \n",
    "    return\n",
    "\n",
    "\n",
    "nums = [1,2,3]\n",
    "subset_sum(idx=0, nums=nums, total=0)\n",
    "\n",
    "output.sort()\n",
    "output"
   ]
  },
  {
   "cell_type": "code",
   "execution_count": 4,
   "id": "ba3f7a13-e361-41fc-9812-b64f521ee64e",
   "metadata": {},
   "outputs": [
    {
     "data": {
      "text/plain": [
       "[[],\n",
       " [1],\n",
       " [1, 2],\n",
       " [1, 2, 2],\n",
       " [1, 2, 2, 3],\n",
       " [1, 2, 3],\n",
       " [1, 3],\n",
       " [2],\n",
       " [2, 2],\n",
       " [2, 2, 3],\n",
       " [2, 3],\n",
       " [3]]"
      ]
     },
     "execution_count": 4,
     "metadata": {},
     "output_type": "execute_result"
    }
   ],
   "source": [
    "def subsetsWithDup(nums):\n",
    "    \"\"\"\n",
    "    :type nums: List[int]\n",
    "    :rtype: List[List[int]]\n",
    "    \"\"\"\n",
    "\n",
    "    nums.sort()\n",
    "\n",
    "    output = []\n",
    "\n",
    "    def dfs(idx, nums, arr):\n",
    "\n",
    "        output.append(arr[:])\n",
    "\n",
    "        for i in range(idx, len(nums)):\n",
    "\n",
    "            if i > idx and nums[i] == nums[i - 1]: \n",
    "                continue\n",
    "\n",
    "            arr.append(nums[i])\n",
    "\n",
    "            dfs(i + 1, nums, arr)\n",
    "\n",
    "            arr.pop()\n",
    "\n",
    "    dfs(0, nums, [])\n",
    "\n",
    "    return output\n",
    "      \n",
    "    \n",
    "nums = [1,2,2,3]\n",
    "subsetsWithDup(nums=nums)"
   ]
  },
  {
   "cell_type": "code",
   "execution_count": 4,
   "id": "7bb3bddb-6177-46d4-a2fe-62ffe28ffb5d",
   "metadata": {},
   "outputs": [
    {
     "name": "stdout",
     "output_type": "stream",
     "text": [
      "[1, 2, 3]\n",
      "[1, 3, 2]\n",
      "[2, 1, 3]\n",
      "[2, 3, 1]\n",
      "[3, 1, 2]\n",
      "[3, 2, 1]\n"
     ]
    }
   ],
   "source": [
    "# permutations\n",
    "\n",
    "# 1, 2, 3 = 1 2 3, 1 3 2, 2 1 3, 2 3 1, 3 1 2, 3 2 1\n",
    "\n",
    "\n",
    "\n",
    "def print_all_permutations(idx, nums, arr, freq):\n",
    "    \n",
    "    if len(nums) == len(arr):\n",
    "        print(arr)\n",
    "        return\n",
    "    \n",
    "    for i in range(len(nums)):\n",
    "        \n",
    "        if not freq[i]:\n",
    "            freq[i] = True\n",
    "            arr.append(nums[i])\n",
    "            print_all_permutations(i+1, nums, arr, freq)\n",
    "            freq[i] = False\n",
    "            arr.pop()\n",
    "        \n",
    "nums = [1,2,3]\n",
    "freq = [False]*len(nums)\n",
    "\n",
    "print_all_permutations(idx=0, nums=nums, arr=[],freq=freq)"
   ]
  },
  {
   "cell_type": "code",
   "execution_count": 4,
   "id": "5999f8dd-bb01-4090-8498-5f378a6abd42",
   "metadata": {},
   "outputs": [
    {
     "name": "stdout",
     "output_type": "stream",
     "text": [
      "[1, 2, 3]\n",
      "[1, 3, 2]\n",
      "[2, 1, 3]\n",
      "[2, 3, 1]\n",
      "[3, 2, 1]\n",
      "[3, 1, 2]\n"
     ]
    }
   ],
   "source": [
    "# 1 2 3\n",
    "\n",
    "def print_all_permutations_optimal(idx, nums):\n",
    "    if idx == len(nums):\n",
    "        print(nums)\n",
    "        return\n",
    "    \n",
    "    for i in range(idx, len(nums)):\n",
    "        nums[i], nums[idx] = nums[idx], nums[i]\n",
    "        print_all_permutations_optimal(idx+1, nums)\n",
    "        nums[i], nums[idx] = nums[idx], nums[i]\n",
    "        \n",
    "    return\n",
    "\n",
    "print_all_permutations_optimal(idx=0, nums=[1,2,3])"
   ]
  },
  {
   "cell_type": "code",
   "execution_count": 2,
   "id": "76c69d6c-1561-4f8a-9e9d-75add0c8a62d",
   "metadata": {},
   "outputs": [
    {
     "name": "stdout",
     "output_type": "stream",
     "text": [
      "000\n",
      "001\n",
      "010\n",
      "100\n",
      "101\n"
     ]
    }
   ],
   "source": [
    "def binary_strings_no_consecutive_1s(idx, s, k):\n",
    "    \n",
    "    if len(s) == k:\n",
    "        print(s)\n",
    "        return\n",
    "    \n",
    "    s+='0'\n",
    "    binary_strings_no_consecutive_1s(idx+1, s, k)\n",
    "    s=s[:-1]\n",
    "    \n",
    "    if not s or (s and s[-1] != '1'):\n",
    "        s+='1'\n",
    "        binary_strings_no_consecutive_1s(idx+1, s, k)\n",
    "    \n",
    "    return\n",
    "\n",
    "binary_strings_no_consecutive_1s(idx=0, s='', k=3)"
   ]
  },
  {
   "cell_type": "code",
   "execution_count": 12,
   "id": "56c48e6c-85a6-4256-ab26-6cb499362447",
   "metadata": {},
   "outputs": [
    {
     "name": "stdout",
     "output_type": "stream",
     "text": [
      "['a', 'b', 'c']\n",
      "['a', 'c', 'b']\n",
      "['b', 'a', 'c']\n",
      "['b', 'c', 'a']\n",
      "['c', 'b', 'a']\n",
      "['c', 'a', 'b']\n"
     ]
    }
   ],
   "source": [
    "def print_all_permutations(idx, s):\n",
    "    \n",
    "    if len(s) == idx:\n",
    "        print(s)\n",
    "        return\n",
    "    \n",
    "    for i in range(idx, len(s)):\n",
    "        s[i], s[idx] = s[idx], s[i]\n",
    "        print_all_permutations(idx+1, s)\n",
    "        s[i], s[idx] = s[idx], s[i]\n",
    "        \n",
    "    return\n",
    "\n",
    "print_all_permutations(idx=0, s=['a', 'b', 'c'])"
   ]
  },
  {
   "cell_type": "code",
   "execution_count": null,
   "id": "8b62f4d1-0839-45b6-b449-44a537f63384",
   "metadata": {},
   "outputs": [],
   "source": []
  },
  {
   "cell_type": "code",
   "execution_count": null,
   "id": "fa0e637b-49a4-4dca-8cb5-5cfe1b8ab078",
   "metadata": {},
   "outputs": [],
   "source": []
  },
  {
   "cell_type": "code",
   "execution_count": null,
   "id": "cef38da1-6288-4371-a2b4-9e1bca19904c",
   "metadata": {},
   "outputs": [],
   "source": []
  },
  {
   "cell_type": "code",
   "execution_count": 2,
   "id": "cdf7eba1-ab77-4ba4-bcbd-b044ad503f4b",
   "metadata": {},
   "outputs": [
    {
     "data": {
      "text/plain": [
       "25"
      ]
     },
     "execution_count": 2,
     "metadata": {},
     "output_type": "execute_result"
    }
   ],
   "source": [
    "def fun1(x, y) :\n",
    " \n",
    "    if (x == 0) :\n",
    "        return y\n",
    "    else :\n",
    "        return fun1(x - 1, x + y)\n",
    "    \n",
    "fun1(5, 10)"
   ]
  },
  {
   "cell_type": "code",
   "execution_count": 29,
   "id": "69e8a749-2123-468c-a300-b6797359cfb6",
   "metadata": {},
   "outputs": [
    {
     "data": {
      "text/plain": [
       "[1, 2, 2, 3, 3, 4, 4, 6, 7, 7]"
      ]
     },
     "execution_count": 29,
     "metadata": {},
     "output_type": "execute_result"
    }
   ],
   "source": [
    "'''selection sort: find the min index and swap it with current'''\n",
    "\n",
    "def min_index(arr, s, e):\n",
    "    min_idx = 0\n",
    "    min_val = arr[s]\n",
    "    \n",
    "    for i in range(s, e):\n",
    "        if arr[i] <= min_val:\n",
    "            min_val = arr[i]\n",
    "            min_idx = i\n",
    "                        \n",
    "    return min_idx\n",
    "\n",
    "def selection_sort(arr, start, end):\n",
    "\n",
    "    if start == end: return\n",
    "\n",
    "    min_idx = min_index(arr, start, end)\n",
    "    \n",
    "    arr[start], arr[min_idx] = arr[min_idx], arr[start]\n",
    "    selection_sort(arr, start+1, end)\n",
    "\n",
    "arr=[2,3,4,6,4,3,2,1,7, 7]\n",
    "selection_sort(arr, 0, len(arr))\n",
    "arr"
   ]
  },
  {
   "cell_type": "code",
   "execution_count": null,
   "id": "7955204f-8883-4dba-bc51-196481899c02",
   "metadata": {},
   "outputs": [],
   "source": []
  },
  {
   "cell_type": "code",
   "execution_count": 1,
   "id": "721f8d3b-2fec-423a-9324-09be4c57246a",
   "metadata": {},
   "outputs": [
    {
     "data": {
      "text/plain": [
       "3"
      ]
     },
     "execution_count": 1,
     "metadata": {},
     "output_type": "execute_result"
    }
   ],
   "source": [
    "def findIslands(mat, n, m):\n",
    "    \n",
    "    def flood_fill(i, j):\n",
    "        if i < 0 or i > len(mat) - 1 or j < 0 or j > len(mat) - 1:\n",
    "            return\n",
    "\n",
    "        if mat[i][j] == 1:\n",
    "            mat[i][j] = 0\n",
    "            flood_fill(i-1, j-1)\n",
    "            flood_fill(i, j-1)\n",
    "            flood_fill(i-1, j)\n",
    "            flood_fill(i-1, j+1)\n",
    "            flood_fill(i, j+1)\n",
    "            flood_fill(i+1, j+1)\n",
    "            flood_fill(i+1, j)\n",
    "            flood_fill(i+1, j-1)\n",
    "    \n",
    "    \n",
    "    count = 0\n",
    "    for i in range(n):\n",
    "        for j in range(m):\n",
    "            \n",
    "            if mat[i][j] == 1:\n",
    "                count += 1\n",
    "                flood_fill(i, j)\n",
    "                \n",
    "    return count\n",
    "\n",
    "mat = [\n",
    "        [0, 1, 1, 0, 0],\n",
    "        [1, 0, 0, 1, 0],\n",
    "        [0, 0, 1, 0, 0],\n",
    "        [1, 0, 0, 0, 1]\n",
    "      ]\n",
    "\n",
    "findIslands(mat, n=4, m=5)"
   ]
  },
  {
   "cell_type": "code",
   "execution_count": 3,
   "id": "41b25c94-5062-44f9-94d4-507fd881fbf8",
   "metadata": {},
   "outputs": [
    {
     "name": "stdout",
     "output_type": "stream",
     "text": [
      "[1, 2]\n",
      "[1]\n",
      "[2]\n",
      "[]\n"
     ]
    }
   ],
   "source": [
    "# find all subsequences\n",
    "# [1,2,3] - [1,2,3], [1,2], [1,3], [1], [2,3], [2], [3]\n",
    "\n",
    "def sub_sequence(idx, nums, arr):\n",
    "    if idx == len(nums):\n",
    "        print(arr)\n",
    "        return\n",
    "    \n",
    "    arr.append(nums[idx])\n",
    "    sub_sequence(idx+1, nums, arr)\n",
    "    \n",
    "    arr.pop()\n",
    "    sub_sequence(idx+1, nums, arr)\n",
    "    \n",
    "sub_sequence(idx=0, nums=[1,2], arr=[])"
   ]
  },
  {
   "cell_type": "code",
   "execution_count": 5,
   "id": "6d46b738-9ad2-4697-a3a0-577839e12e1c",
   "metadata": {},
   "outputs": [
    {
     "name": "stdout",
     "output_type": "stream",
     "text": [
      "[-2, 3, -9, -2, -8, 5, -2, -3, 4]\n",
      "[-2, 3, -9, -2, -8, -3]\n",
      "[-2, 3, -9, -2, -8, 4]\n",
      "[-2, 3, -9, -2, 5, -2]\n",
      "[-2, 3, -9, -8, 5, -3]\n",
      "[-2, 3, -9, -8, 5, 4]\n",
      "[-2, 3, -9, -8, -2, -3]\n",
      "[-2, 3, -9, -8, -2, 4]\n",
      "[-2, 3, -9, -3, 4]\n",
      "[-2, 3, -2, -8, 5, -3]\n",
      "[-2, 3, -2, -8, 5, 4]\n",
      "[-2, 3, -2, -8, -2, -3]\n",
      "[-2, 3, -2, -8, -2, 4]\n",
      "[-2, 3, -2, -3, 4]\n",
      "[-2, 3, -8, 5, -2, -3]\n",
      "[-2, 3, -8, 5, -2, 4]\n",
      "[-2, 3, -8]\n",
      "[-2, 3, 5, -3, 4]\n",
      "[-2, 3, -2, -3, 4]\n",
      "[-2, -9, -2, -8, 5, -2, -3]\n",
      "[-2, -9, -2, -8, 5, -2, 4]\n",
      "[-2, -9, -2, -8]\n",
      "[-2, -9, -2, 5, -3, 4]\n",
      "[-2, -9, -2, -2, -3, 4]\n",
      "[-2, -9, -8, 5]\n",
      "[-2, -9, -8, -2]\n",
      "[-2, -9, 5, -2, -3, 4]\n",
      "[-2, -9, -3]\n",
      "[-2, -9, 4]\n",
      "[-2, -2, -8, 5]\n",
      "[-2, -2, -8, -2]\n",
      "[-2, -2, 5, -2, -3, 4]\n",
      "[-2, -2, -3]\n",
      "[-2, -2, 4]\n",
      "[-2, -8, 5, -2]\n",
      "[-2, 5, -3]\n",
      "[-2, 5, 4]\n",
      "[-2, -2, -3]\n",
      "[-2, -2, 4]\n",
      "[3, -9, -2, -8, 5, -3]\n",
      "[3, -9, -2, -8, 5, 4]\n",
      "[3, -9, -2, -8, -2, -3]\n",
      "[3, -9, -2, -8, -2, 4]\n",
      "[3, -9, -2, -3, 4]\n",
      "[3, -9, -8, 5, -2, -3]\n",
      "[3, -9, -8, 5, -2, 4]\n",
      "[3, -9, -8]\n",
      "[3, -9, 5, -3, 4]\n",
      "[3, -9, -2, -3, 4]\n",
      "[3, -2, -8, 5, -2, -3]\n",
      "[3, -2, -8, 5, -2, 4]\n",
      "[3, -2, -8]\n",
      "[3, -2, 5, -3, 4]\n",
      "[3, -2, -2, -3, 4]\n",
      "[3, -8, 5]\n",
      "[3, -8, -2]\n",
      "[3, 5, -2, -3, 4]\n",
      "[3, -3]\n",
      "[3, 4]\n",
      "[-9, -2, -8, 5]\n",
      "[-9, -2, -8, -2]\n",
      "[-9, -2, 5, -2, -3, 4]\n",
      "[-9, -2, -3]\n",
      "[-9, -2, 4]\n",
      "[-9, -8, 5, -2]\n",
      "[-9, 5, -3]\n",
      "[-9, 5, 4]\n",
      "[-9, -2, -3]\n",
      "[-9, -2, 4]\n",
      "[-2, -8, 5, -2]\n",
      "[-2, 5, -3]\n",
      "[-2, 5, 4]\n",
      "[-2, -2, -3]\n",
      "[-2, -2, 4]\n",
      "[-8, -3, 4]\n",
      "[5, -2, -3]\n",
      "[5, -2, 4]\n"
     ]
    },
    {
     "data": {
      "text/plain": [
       "77"
      ]
     },
     "execution_count": 5,
     "metadata": {},
     "output_type": "execute_result"
    }
   ],
   "source": [
    "# Suppose the given array is ‘ARR’ = { 5, 0, 2, 3, 1} and ‘K = 5’.\n",
    "# there are a total of 6 subarrays that have the total sum divisible by ‘K’\n",
    "# So we return the integer 6.\n",
    "\n",
    "def subArrayCount(arr, k):\n",
    "    output_arr = []\n",
    "    \n",
    "    def dfs(idx, ds):\n",
    "                \n",
    "        if idx == len(arr):\n",
    "            if ds and sum(ds) % k == 0:\n",
    "                print(ds)\n",
    "                output_arr.append(ds)\n",
    "            return\n",
    "        \n",
    "        ds.append(arr[idx])\n",
    "        dfs(idx+1, ds)\n",
    "        \n",
    "        ds.pop()\n",
    "        \n",
    "        dfs(idx+1, ds)\n",
    "        \n",
    "    dfs(idx=0, ds=[])\n",
    "    \n",
    "    return len(output_arr)\n",
    "\n",
    "subArrayCount([-2, 3, -9, -2, -8, 5, -2, -3, 4], 7)"
   ]
  },
  {
   "cell_type": "code",
   "execution_count": 41,
   "id": "3ce276b1-9bcf-4ec7-baee-9596f67a6a82",
   "metadata": {},
   "outputs": [
    {
     "name": "stdout",
     "output_type": "stream",
     "text": [
      "[[1, 0, 0, 0], [0, 0, 0, 1], [0, 1, 0, 0], [0, 0, 1, 0]]\n",
      "[[1, 0, 0, 0], [0, 0, 1, 0], [0, 0, 0, 1], [0, 1, 0, 0]]\n",
      "[[1, 0, 0, 0], [0, 0, 0, 1], [0, 0, 0, 0], [0, 1, 1, 0]]\n",
      "[[1, 0, 0, 0], [0, 0, 0, 0], [0, 0, 0, 1], [0, 1, 1, 0]]\n",
      "[[0, 1, 0, 0], [1, 0, 0, 0], [0, 0, 0, 1], [0, 0, 1, 0]]\n",
      "[[0, 0, 1, 0], [1, 1, 0, 0], [0, 0, 0, 1], [0, 0, 0, 0]]\n",
      "[[0, 0, 0, 1], [1, 1, 0, 0], [0, 0, 0, 0], [0, 0, 1, 0]]\n",
      "[[0, 0, 0, 0], [1, 1, 0, 0], [0, 0, 0, 1], [0, 0, 1, 0]]\n",
      "[[0, 0, 0, 1], [1, 0, 0, 0], [0, 1, 0, 0], [0, 0, 1, 0]]\n",
      "[[0, 0, 1, 0], [1, 0, 0, 0], [0, 0, 0, 1], [0, 1, 0, 0]]\n",
      "[[0, 0, 0, 1], [1, 0, 0, 0], [0, 0, 0, 0], [0, 1, 1, 0]]\n",
      "[[0, 0, 0, 0], [1, 0, 0, 0], [0, 0, 0, 1], [0, 1, 1, 0]]\n",
      "[[0, 1, 0, 0], [0, 0, 0, 1], [1, 0, 0, 0], [0, 0, 1, 0]]\n",
      "[[0, 0, 0, 1], [0, 1, 0, 0], [1, 0, 0, 0], [0, 0, 1, 0]]\n",
      "[[0, 0, 1, 0], [0, 0, 0, 1], [1, 1, 0, 0], [0, 0, 0, 0]]\n",
      "[[0, 0, 0, 1], [0, 0, 1, 0], [1, 1, 0, 0], [0, 0, 0, 0]]\n",
      "[[0, 0, 0, 1], [0, 0, 0, 0], [1, 1, 1, 0], [0, 0, 0, 0]]\n",
      "[[0, 0, 0, 0], [0, 0, 0, 1], [1, 1, 1, 0], [0, 0, 0, 0]]\n",
      "[[0, 0, 0, 1], [0, 0, 0, 0], [1, 1, 0, 0], [0, 0, 1, 0]]\n",
      "[[0, 0, 0, 0], [0, 0, 0, 1], [1, 1, 0, 0], [0, 0, 1, 0]]\n",
      "[[0, 0, 1, 0], [0, 0, 0, 1], [1, 0, 0, 0], [0, 1, 0, 0]]\n",
      "[[0, 0, 0, 1], [0, 0, 1, 0], [1, 0, 0, 0], [0, 1, 0, 0]]\n",
      "[[0, 0, 0, 1], [0, 0, 0, 0], [1, 0, 1, 0], [0, 1, 0, 0]]\n",
      "[[0, 0, 0, 0], [0, 0, 0, 1], [1, 0, 1, 0], [0, 1, 0, 0]]\n",
      "[[0, 0, 0, 1], [0, 0, 0, 0], [1, 0, 0, 0], [0, 1, 1, 0]]\n",
      "[[0, 0, 0, 0], [0, 0, 0, 1], [1, 0, 0, 0], [0, 1, 1, 0]]\n",
      "[[0, 1, 0, 0], [0, 0, 1, 0], [0, 0, 0, 1], [1, 0, 0, 0]]\n",
      "[[0, 1, 0, 0], [0, 0, 0, 1], [0, 0, 0, 0], [1, 0, 1, 0]]\n",
      "[[0, 1, 0, 0], [0, 0, 0, 0], [0, 0, 0, 1], [1, 0, 1, 0]]\n",
      "[[0, 0, 1, 0], [0, 1, 0, 0], [0, 0, 0, 1], [1, 0, 0, 0]]\n",
      "[[0, 0, 0, 1], [0, 1, 0, 0], [0, 0, 0, 0], [1, 0, 1, 0]]\n",
      "[[0, 0, 0, 0], [0, 1, 0, 0], [0, 0, 0, 1], [1, 0, 1, 0]]\n",
      "[[0, 0, 1, 0], [0, 0, 0, 1], [0, 1, 0, 0], [1, 0, 0, 0]]\n",
      "[[0, 0, 0, 1], [0, 0, 1, 0], [0, 1, 0, 0], [1, 0, 0, 0]]\n",
      "[[0, 0, 0, 1], [0, 0, 0, 0], [0, 1, 1, 0], [1, 0, 0, 0]]\n",
      "[[0, 0, 0, 0], [0, 0, 0, 1], [0, 1, 1, 0], [1, 0, 0, 0]]\n",
      "[[0, 0, 0, 1], [0, 0, 0, 0], [0, 1, 0, 0], [1, 0, 1, 0]]\n",
      "[[0, 0, 0, 0], [0, 0, 0, 1], [0, 1, 0, 0], [1, 0, 1, 0]]\n",
      "[[0, 0, 1, 0], [0, 0, 0, 1], [0, 0, 0, 0], [1, 1, 0, 0]]\n",
      "[[0, 0, 1, 0], [0, 0, 0, 0], [0, 0, 0, 1], [1, 1, 0, 0]]\n",
      "[[0, 0, 0, 1], [0, 0, 1, 0], [0, 0, 0, 0], [1, 1, 0, 0]]\n",
      "[[0, 0, 0, 0], [0, 0, 1, 0], [0, 0, 0, 1], [1, 1, 0, 0]]\n",
      "[[0, 0, 0, 1], [0, 0, 0, 0], [0, 0, 1, 0], [1, 1, 0, 0]]\n",
      "[[0, 0, 0, 0], [0, 0, 0, 1], [0, 0, 1, 0], [1, 1, 0, 0]]\n",
      "[[0, 0, 0, 1], [0, 0, 0, 0], [0, 0, 0, 0], [1, 1, 1, 0]]\n",
      "[[0, 0, 0, 0], [0, 0, 0, 1], [0, 0, 0, 0], [1, 1, 1, 0]]\n",
      "[[0, 0, 0, 0], [0, 0, 0, 0], [0, 0, 0, 1], [1, 1, 1, 0]]\n",
      "[[0, 0, 0, 0], [0, 0, 0, 0], [0, 0, 0, 0], [1, 1, 1, 1]]\n"
     ]
    }
   ],
   "source": [
    "# N-Queen\n",
    "# Place 1 queen in every column\n",
    "\n",
    "def is_valid(matrix, row, col, n):\n",
    "    \n",
    "    for i in range(n):\n",
    "        for j in range(n):\n",
    "            \n",
    "            if matrix[i][j] == 1:\n",
    "                if i == row and j == col: return False\n",
    "                \n",
    "                for k in range(i+1, n):\n",
    "                    \n",
    "                    if k == row and j == col:\n",
    "                        return False\n",
    "                    \n",
    "                    if i == row and k == col:\n",
    "                        return False\n",
    "                    \n",
    "                    if row == k and col == k:\n",
    "                        return False\n",
    "                    \n",
    "    return True\n",
    "    \n",
    "\n",
    "def place_queens(n):\n",
    "    row = 0\n",
    "    col = 0\n",
    "    \n",
    "    matrix = [[0 for i in range(n)] for j in range(n)]\n",
    "    \n",
    "    def place_queen(matrix, row, col):\n",
    "        \n",
    "        if col == n:\n",
    "            print(matrix)\n",
    "            return\n",
    "        \n",
    "        for r in range(n):\n",
    "                \n",
    "            if is_valid(matrix, row=r, col=col, n=n):\n",
    "\n",
    "                matrix[r][col] = 1\n",
    "                place_queen(matrix, row=r, col=col+1)\n",
    "                matrix[r][col] = 0\n",
    "                \n",
    "                \n",
    "    place_queen(matrix, row=0, col=0)\n",
    "    \n",
    "place_queens(n=4)"
   ]
  },
  {
   "cell_type": "code",
   "execution_count": 56,
   "id": "019e8580-27ae-4e41-9b7c-49f396a13780",
   "metadata": {},
   "outputs": [],
   "source": [
    "# Restore IP Addresses\n",
    "# https://www.codingninjas.com/codestudio/guided-paths/interview-guide-for-product-based-companies/content/111357/offering/1281146\n",
    "\n",
    "def is_valid(string):\n",
    "    s_arr = [i.strip() for i in string.split('.') if i.strip()]\n",
    "    \n",
    "    if len(s_arr) != 4:\n",
    "        return False\n",
    "    \n",
    "    for ch in s_arr:\n",
    "        \n",
    "        if len(ch) > 1 and s[0] == '0': return False\n",
    "        if int(ch) > 255: return False\n",
    "        \n",
    "    return True\n",
    "    \n",
    "def insert_dots(string, i, j, k):\n",
    "    return string[:i] + '.' + string[i:j] + '.' + string[j:k] + '.' + string[k:]\n",
    "\n",
    "def generateIPAddress(s):\n",
    "    '''123456'''\n",
    "    \n",
    "    n = len(s)\n",
    "    for i in range(1, n):\n",
    "        for j in range(i+1, n):\n",
    "            for k in range(j+1, n):\n",
    "                \n",
    "                s = insert_dots(s, i, j, k)\n",
    "                \n",
    "                if is_valid(s): print(s)\n",
    "                \n",
    "                s = s.replace('.', '')    "
   ]
  },
  {
   "cell_type": "code",
   "execution_count": 57,
   "id": "d440b304-0a4a-406a-b459-f9a6b48e9613",
   "metadata": {},
   "outputs": [
    {
     "name": "stdout",
     "output_type": "stream",
     "text": [
      "1.4.23.45\n",
      "1.4.234.5\n",
      "1.42.3.45\n",
      "1.42.34.5\n",
      "14.2.3.45\n",
      "14.2.34.5\n",
      "14.23.4.5\n",
      "142.3.4.5\n"
     ]
    }
   ],
   "source": [
    "generateIPAddress(s='142345')"
   ]
  },
  {
   "cell_type": "code",
   "execution_count": 87,
   "id": "707f1000-52d6-41b2-b0cd-ee1e77eed1fb",
   "metadata": {},
   "outputs": [
    {
     "name": "stdout",
     "output_type": "stream",
     "text": [
      "8 6 [[1, 5, 9, 7, 9, 6, 9, 3, 2], [2, 7, 4, 9, 9, 9, 9, 9, 9], [3, 8, 6, 2, 9, 9, 9, 9, 5], [4, 9, 2, 5, 9, 1, 9, 8, 9], [6, 3, 7, 9, 4, 9, 9, 9, 9], [5, 1, 9, 8, 2, 9, 9, 9, 9], [8, 2, 1, 9, 9, 9, 9, 9, 9], [7, 6, 9, 1, 9, 9, 4, 2, 9], [9, 4, 3, 9, 7, 2, 5, 6, 1]]\n",
      "8 5 [[1, 5, 9, 7, 9, 6, 9, 3, 2], [2, 7, 4, 9, 9, 9, 9, 9, 9], [3, 8, 6, 2, 9, 9, 9, 9, 5], [4, 9, 2, 5, 9, 1, 9, 8, 9], [6, 3, 7, 9, 4, 9, 9, 9, 9], [5, 1, 9, 8, 2, 9, 9, 9, 9], [8, 2, 1, 9, 9, 9, 9, 9, 9], [7, 6, 9, 1, 9, 9, 4, 2, 9], [9, 4, 3, 9, 7, 2, 5, 6, 1]]\n",
      "0 3 [[1, 5, 9, 7, 9, 6, 9, 3, 2], [2, 7, 4, 9, 9, 9, 9, 9, 9], [3, 8, 6, 2, 9, 9, 9, 9, 5], [4, 9, 2, 5, 9, 1, 9, 8, 9], [6, 3, 7, 9, 4, 9, 9, 9, 9], [5, 1, 9, 8, 2, 9, 9, 9, 9], [8, 2, 1, 9, 9, 9, 9, 9, 9], [7, 6, 9, 1, 9, 9, 4, 2, 9], [9, 4, 3, 9, 7, 2, 5, 6, 1]]\n"
     ]
    },
    {
     "data": {
      "text/plain": [
       "True"
      ]
     },
     "execution_count": 87,
     "metadata": {},
     "output_type": "execute_result"
    }
   ],
   "source": [
    "def isNumValid(matrix, row, col):\n",
    "    n = len(matrix)\n",
    "    \n",
    "    for i in range(n):\n",
    "        \n",
    "        if i != col and matrix[row][col] == matrix[row][i]:\n",
    "            return False\n",
    "        \n",
    "        if i != row and matrix[row][col] == matrix[i][col]:\n",
    "            return False\n",
    "        \n",
    "    r = row//3\n",
    "    c = col//3\n",
    "\n",
    "    for i in range(r*3, 3*(r + 1)):\n",
    "        for j in range(c*3, 3*(c + 1)):\n",
    "            if col != j and row != i and matrix[i][j] == matrix[row][col]:\n",
    "                return False\n",
    "    \n",
    "    \n",
    "    return True\n",
    "\n",
    "\n",
    "def isItSudoku(matrix):\n",
    "    n = len(matrix)\n",
    "    \n",
    "    def solve():\n",
    "        \n",
    "        for i in range(n):\n",
    "            for j in range(n):\n",
    "                \n",
    "                if matrix[i][j] == 0:\n",
    "                    \n",
    "                    for num in range(1, n+1):\n",
    "                        matrix[i][j] = num\n",
    "                        \n",
    "                        if isNumValid(matrix, i, j):\n",
    "                            \n",
    "                            if solve():\n",
    "                                print(i, j, matrix)\n",
    "                                return True\n",
    "                            else:\n",
    "                                matrix[i][j] = 0\n",
    "                        \n",
    "                    return False\n",
    "                        \n",
    "        return True\n",
    "    \n",
    "    return solve()\n",
    "\n",
    "    \n",
    "    \n",
    "matrix_str = \"\"\"1 5 9 0 0 6 0 3 2\n",
    "2 7 4 0 0 0 0 0 0\n",
    "3 8 6 2 0 0 0 0 5\n",
    "4 9 2 5 0 1 0 8 0\n",
    "6 3 7 0 4 0 0 0 0\n",
    "5 1 0 8 2 0 0 0 0\n",
    "8 2 1 0 0 0 0 0 0\n",
    "7 6 0 1 0 0 4 2 0\n",
    "9 4 3 0 7 0 0 6 1\"\"\"\n",
    "matrix = [[int(j) for j in m.split()] for m in matrix_str.split('\\n')]\n",
    "\n",
    "isItSudoku(matrix)"
   ]
  },
  {
   "cell_type": "code",
   "execution_count": 88,
   "id": "baa2dd25-f3d8-4256-8f1f-c6a27f9ca107",
   "metadata": {},
   "outputs": [],
   "source": [
    "mat = [\n",
    "    [1, 5, 9, 7, 9, 6, 9, 3, 2], \n",
    "    [2, 7, 4, 9, 9, 9, 9, 9, 9], \n",
    "    [3, 8, 6, 2, 9, 9, 9, 9, 5], \n",
    "    [4, 9, 2, 5, 9, 1, 9, 8, 9], \n",
    "    [6, 3, 7, 9, 4, 9, 9, 9, 9], \n",
    "    [5, 1, 9, 8, 2, 9, 9, 9, 9], \n",
    "    [8, 2, 1, 9, 9, 9, 9, 9, 9], \n",
    "    [7, 6, 9, 1, 9, 9, 4, 2, 9], \n",
    "    [9, 4, 3, 9, 7, 2, 5, 6, 1]\n",
    "]"
   ]
  },
  {
   "cell_type": "code",
   "execution_count": 89,
   "id": "b6dc7570-fcb6-4a39-8f1c-6316f6895624",
   "metadata": {},
   "outputs": [
    {
     "data": {
      "text/plain": [
       "True"
      ]
     },
     "execution_count": 89,
     "metadata": {},
     "output_type": "execute_result"
    }
   ],
   "source": [
    "isNumValid(mat, 8, 6)"
   ]
  },
  {
   "cell_type": "code",
   "execution_count": 41,
   "id": "ba2c89e3-1f90-4393-9b27-e74aa2826a46",
   "metadata": {},
   "outputs": [
    {
     "data": {
      "text/plain": [
       "[['a', 'a', 'b', 'a', 'a'],\n",
       " ['a', 'a', 'b', 'aa'],\n",
       " ['a', 'aba', 'a'],\n",
       " ['aa', 'b', 'a', 'a'],\n",
       " ['aa', 'b', 'aa'],\n",
       " ['aabaa']]"
      ]
     },
     "execution_count": 41,
     "metadata": {},
     "output_type": "execute_result"
    }
   ],
   "source": [
    "# Palinrome partitioining\n",
    "# https://leetcode.com/problems/palindrome-partitioning/\n",
    "\n",
    "# Input: s = \"aab\"\n",
    "# Output: [[\"a\",\"a\",\"b\"],[\"aa\",\"b\"]]\n",
    "\n",
    "def is_palindrome(s):\n",
    "    n = len(s)\n",
    "    if not len(s): return False\n",
    "    \n",
    "    start = 0\n",
    "    end = n - 1\n",
    "    \n",
    "    while start < end:\n",
    "        if s[start] != s[end]:\n",
    "            return False\n",
    "        else:\n",
    "            start += 1\n",
    "            end -= 1\n",
    "            \n",
    "    return True\n",
    "\n",
    "def partition(s):\n",
    "    res = []\n",
    "    n = len(s)\n",
    "\n",
    "    def dfs(index, temp):            \n",
    "        if index > n:\n",
    "            return\n",
    "\n",
    "        if index == n:\n",
    "            res.append(temp)\n",
    "            return\n",
    "\n",
    "        for i in range(index, n):\n",
    "            \n",
    "            if is_palindrome(s[index:i+1]):\n",
    "                dfs(i+1, temp + [s[index:i+1]])\n",
    "\n",
    "    dfs(0, [])\n",
    "    return res \n",
    "        \n",
    "        \n",
    "partition(s='aabaa')"
   ]
  },
  {
   "cell_type": "code",
   "execution_count": 45,
   "id": "cee985fa-d366-4bf2-8a0f-0a7bb7a1fe43",
   "metadata": {},
   "outputs": [
    {
     "data": {
      "text/plain": [
       "['(())', '()()']"
      ]
     },
     "execution_count": 45,
     "metadata": {},
     "output_type": "execute_result"
    }
   ],
   "source": [
    "# https://leetcode.com/problems/generate-parentheses/\n",
    "\n",
    "def generateParenthesis(n):\n",
    "\n",
    "    stack = []\n",
    "    res = []\n",
    "\n",
    "    def backtracking(openN, closeN):\n",
    "\n",
    "        if openN == closeN == n:\n",
    "            res.append(\"\".join(stack))\n",
    "            return\n",
    "\n",
    "\n",
    "        if openN < n:\n",
    "            stack.append('(')\n",
    "            backtracking(openN+1, closeN)\n",
    "            stack.pop()\n",
    "\n",
    "        if openN > closeN:\n",
    "            stack.append(')')\n",
    "            backtracking(openN, closeN+1)\n",
    "            stack.pop()\n",
    "\n",
    "\n",
    "    backtracking(0, 0)\n",
    "    return res\n",
    "\n",
    "generateParenthesis(2)"
   ]
  },
  {
   "cell_type": "code",
   "execution_count": 48,
   "id": "84496f42-3ea9-4a05-8210-5e6f589d251e",
   "metadata": {},
   "outputs": [
    {
     "data": {
      "text/plain": [
       "['ad', 'ae', 'af', 'bd', 'be', 'bf', 'cd', 'ce', 'cf']"
      ]
     },
     "execution_count": 48,
     "metadata": {},
     "output_type": "execute_result"
    }
   ],
   "source": [
    "def letterCombinations(digits):\n",
    "    \n",
    "    digit_map = {'2': 'abc', '3': 'def', '4': 'ghi', '5': 'jkl', '6': 'mno', '7': 'pqrs', '8': 'tuv', '9': 'wxyz'}\n",
    "\n",
    "    n = len(digits)\n",
    "\n",
    "    res = []\n",
    "    if n == 0: return res\n",
    "\n",
    "    def backtracking(idx, currChar):\n",
    "\n",
    "        if idx == n:\n",
    "            res.append(currChar)\n",
    "            return\n",
    "\n",
    "        for c in digit_map[digits[idx]]:\n",
    "            backtracking(idx+1, currChar+c)\n",
    "\n",
    "\n",
    "    backtracking(0, '')\n",
    "    return res\n",
    "\n",
    "letterCombinations(digits='23')"
   ]
  },
  {
   "cell_type": "code",
   "execution_count": 15,
   "id": "af9005c7-61ae-4f91-bf4a-312efd130a8e",
   "metadata": {},
   "outputs": [
    {
     "data": {
      "text/plain": [
       "['DDRDRR', 'RRDRDD']"
      ]
     },
     "execution_count": 15,
     "metadata": {},
     "output_type": "execute_result"
    }
   ],
   "source": [
    "# Rat in a maze\n",
    "\n",
    "def findAllPaths(arr):\n",
    "    \n",
    "    n = len(arr)  \n",
    "    \n",
    "    output = []\n",
    "    visited = [[False for i in range(n)] for j in range(n)]\n",
    "    visited[0][0] = True\n",
    "    \n",
    "    def backtracking(row, col, path):\n",
    "        \n",
    "        if (row, col) == (n-1, n-1):\n",
    "            output.append(str(path))\n",
    "            return\n",
    "        \n",
    "        for i, j, ch in [(row+1, col, 'D'), (row, col-1, 'L'), (row, col+1, 'R'), (row-1, col, 'U')]:\n",
    "            \n",
    "            if (i < 0 or j < 0 or j >= n or i >= n) or arr[i][j] == 0 or visited[i][j]:\n",
    "                continue\n",
    "                \n",
    "            visited[i][j] = True\n",
    "            backtracking(i, j, path + ch)\n",
    "            visited[i][j] = False\n",
    "            \n",
    "    \n",
    "    backtracking(0, 0, '')\n",
    "    return output\n",
    "\n",
    "matrix = [\n",
    "    [1, 1, 1, 0], \n",
    "    [1, 0, 1, 1], \n",
    "    [1, 1, 0, 1], \n",
    "    [0, 1, 1, 1]\n",
    "]\n",
    "\n",
    "findAllPaths(arr=matrix)"
   ]
  },
  {
   "cell_type": "code",
   "execution_count": 29,
   "id": "6c67c248-ce16-43dc-a0b1-a07d4f2dc448",
   "metadata": {},
   "outputs": [
    {
     "data": {
      "text/plain": [
       "True"
      ]
     },
     "execution_count": 29,
     "metadata": {},
     "output_type": "execute_result"
    }
   ],
   "source": [
    "from sys import stdin, setrecursionlimit\n",
    "setrecursionlimit(10**7)\n",
    "\n",
    "\n",
    "def mazeWithNDoorsAnd1Key(maze, n):\n",
    "    if n == 1:\n",
    "        return True\n",
    "        \n",
    "    def backtracking(row, col):\n",
    "        \n",
    "        if (row, col) == (n-1, n-1) and maze[0][0] == 0:\n",
    "            print(maze)\n",
    "            return True\n",
    "        \n",
    "        for i, j in [(row + 1, col), (row, col+1)]:\n",
    "            \n",
    "            if i < 0 or i >= n or j < 0 or j >= n or maze[i][j] == 1:\n",
    "                continue\n",
    "            \n",
    "            if backtracking(i, j): return True\n",
    "        \n",
    "        return False\n",
    "    \n",
    "    for x in range(n):\n",
    "        for y in range(n):\n",
    "            if maze[x][y] == 1:\n",
    "                maze[x][y] = 0\n",
    "                if backtracking(0, 0):\n",
    "                    return True\n",
    "                maze[x][y] = 1\n",
    "                \n",
    "    return False\n",
    "          \n",
    "maze = [\n",
    "    [0, 0, 0, 0], \n",
    "    [1, 0, 1, 1], \n",
    "    [0, 0, 1, 1], \n",
    "    [0, 1, 0, 0]\n",
    "]\n",
    "\n",
    "maze = [[0]]\n",
    "\n",
    "mazeWithNDoorsAnd1Key(maze,len(maze))"
   ]
  },
  {
   "cell_type": "code",
   "execution_count": 15,
   "id": "274aec1a-b72b-428d-98ef-f3f907d8e83c",
   "metadata": {},
   "outputs": [
    {
     "name": "stdout",
     "output_type": "stream",
     "text": [
      "[1]\n",
      "[1, 1]\n",
      "[1, 1, 1]\n",
      "[1, 1, 1, 2]\n",
      "[1, 1, 1, 2, 2]\n",
      "[1, 1, 1, 2, 2, 3]\n",
      "[1, 1, 1, 2, 2, 3, 3]\n",
      "[1, 1, 1, 2, 3]\n",
      "[1, 1, 1, 2, 3, 2]\n",
      "[1, 1, 1, 2, 3, 2, 3]\n",
      "[1, 1, 1, 2, 3, 3]\n",
      "[1, 1, 1, 3]\n",
      "[1, 1, 1, 3, 2]\n",
      "[1, 1, 1, 3, 2, 2]\n",
      "[1, 1, 1, 3, 2, 2, 3]\n",
      "[1, 1, 1, 3, 2, 3]\n",
      "[1, 1, 1, 3, 3]\n",
      "[1, 1, 1, 3, 3, 2]\n",
      "[1, 1, 2]\n",
      "[1, 1, 2, 1]\n",
      "[1, 1, 2, 1, 2]\n",
      "[1, 1, 2, 1, 2, 3]\n",
      "[1, 1, 2, 1, 2, 3, 3]\n",
      "[1, 1, 2, 1, 3]\n",
      "[1, 1, 2, 1, 3, 2]\n",
      "[1, 1, 2, 1, 3, 2, 3]\n",
      "[1, 1, 2, 1, 3, 3]\n",
      "[1, 1, 2, 2]\n",
      "[1, 1, 2, 2, 1]\n",
      "[1, 1, 2, 2, 1, 3]\n",
      "[1, 1, 2, 2, 1, 3, 3]\n",
      "[1, 1, 2, 2, 3]\n",
      "[1, 1, 2, 2, 3, 1]\n",
      "[1, 1, 2, 2, 3, 1, 3]\n",
      "[1, 1, 2, 2, 3, 3]\n",
      "[1, 1, 2, 3]\n",
      "[1, 1, 2, 3, 1]\n",
      "[1, 1, 2, 3, 1, 2]\n",
      "[1, 1, 2, 3, 1, 2, 3]\n",
      "[1, 1, 2, 3, 1, 3]\n",
      "[1, 1, 2, 3, 2]\n",
      "[1, 1, 2, 3, 2, 1]\n",
      "[1, 1, 2, 3, 2, 1, 3]\n",
      "[1, 1, 2, 3, 2, 3]\n",
      "[1, 1, 2, 3, 3]\n",
      "[1, 1, 2, 3, 3, 1]\n",
      "[1, 1, 2, 3, 3, 2]\n",
      "[1, 1, 3]\n",
      "[1, 1, 3, 1]\n",
      "[1, 1, 3, 1, 2]\n",
      "[1, 1, 3, 1, 2, 2]\n",
      "[1, 1, 3, 1, 2, 2, 3]\n",
      "[1, 1, 3, 1, 2, 3]\n",
      "[1, 1, 3, 1, 3]\n",
      "[1, 1, 3, 1, 3, 2]\n",
      "[1, 1, 3, 2]\n",
      "[1, 1, 3, 2, 1]\n",
      "[1, 1, 3, 2, 1, 2]\n",
      "[1, 1, 3, 2, 1, 2, 3]\n",
      "[1, 1, 3, 2, 1, 3]\n",
      "[1, 1, 3, 2, 2]\n",
      "[1, 1, 3, 2, 2, 1]\n",
      "[1, 1, 3, 2, 2, 1, 3]\n",
      "[1, 1, 3, 2, 2, 3]\n",
      "[1, 1, 3, 2, 3]\n",
      "[1, 1, 3, 2, 3, 1]\n",
      "[1, 1, 3, 2, 3, 2]\n",
      "[1, 1, 3, 3]\n",
      "[1, 1, 3, 3, 1]\n",
      "[1, 1, 3, 3, 1, 2]\n",
      "[1, 1, 3, 3, 2]\n",
      "[1, 1, 3, 3, 2, 1]\n",
      "[1, 1, 3, 3, 2, 2]\n",
      "[1, 2]\n",
      "[1, 2, 1]\n",
      "[1, 2, 1, 1]\n",
      "[1, 2, 1, 1, 2]\n",
      "[1, 2, 1, 1, 2, 3]\n",
      "[1, 2, 1, 1, 2, 3, 3]\n",
      "[1, 2, 1, 1, 3]\n",
      "[1, 2, 1, 1, 3, 2]\n",
      "[1, 2, 1, 1, 3, 2, 3]\n",
      "[1, 2, 1, 1, 3, 3]\n",
      "[1, 2, 1, 2]\n",
      "[1, 2, 1, 2, 1]\n",
      "[1, 2, 1, 2, 1, 3]\n",
      "[1, 2, 1, 2, 1, 3, 3]\n",
      "[1, 2, 1, 2, 3]\n",
      "[1, 2, 1, 2, 3, 1]\n",
      "[1, 2, 1, 2, 3, 1, 3]\n",
      "[1, 2, 1, 2, 3, 3]\n",
      "[1, 2, 1, 3]\n",
      "[1, 2, 1, 3, 1]\n",
      "[1, 2, 1, 3, 1, 2]\n",
      "[1, 2, 1, 3, 1, 2, 3]\n",
      "[1, 2, 1, 3, 1, 3]\n",
      "[1, 2, 1, 3, 2]\n",
      "[1, 2, 1, 3, 2, 1]\n",
      "[1, 2, 1, 3, 2, 1, 3]\n",
      "[1, 2, 1, 3, 2, 3]\n",
      "[1, 2, 1, 3, 3]\n",
      "[1, 2, 1, 3, 3, 1]\n",
      "[1, 2, 1, 3, 3, 2]\n",
      "[1, 2, 2]\n",
      "[1, 2, 2, 1]\n",
      "[1, 2, 2, 1, 1]\n",
      "[1, 2, 2, 1, 1, 3]\n",
      "[1, 2, 2, 1, 1, 3, 3]\n",
      "[1, 2, 2, 1, 3]\n",
      "[1, 2, 2, 1, 3, 1]\n",
      "[1, 2, 2, 1, 3, 1, 3]\n",
      "[1, 2, 2, 1, 3, 3]\n",
      "[1, 2, 2, 3]\n",
      "[1, 2, 2, 3, 1]\n",
      "[1, 2, 2, 3, 1, 1]\n",
      "[1, 2, 2, 3, 1, 1, 3]\n",
      "[1, 2, 2, 3, 1, 3]\n",
      "[1, 2, 2, 3, 3]\n",
      "[1, 2, 3]\n",
      "[1, 2, 3, 1]\n",
      "[1, 2, 3, 1, 1]\n",
      "[1, 2, 3, 1, 1, 2]\n",
      "[1, 2, 3, 1, 1, 2, 3]\n",
      "[1, 2, 3, 1, 1, 3]\n",
      "[1, 2, 3, 1, 2]\n",
      "[1, 2, 3, 1, 2, 1]\n",
      "[1, 2, 3, 1, 2, 1, 3]\n",
      "[1, 2, 3, 1, 2, 3]\n",
      "[1, 2, 3, 1, 3]\n",
      "[1, 2, 3, 1, 3, 1]\n",
      "[1, 2, 3, 1, 3, 2]\n",
      "[1, 2, 3, 2]\n",
      "[1, 2, 3, 2, 1]\n",
      "[1, 2, 3, 2, 1, 1]\n",
      "[1, 2, 3, 2, 1, 1, 3]\n",
      "[1, 2, 3, 2, 1, 3]\n",
      "[1, 2, 3, 2, 3]\n",
      "[1, 2, 3, 3]\n",
      "[1, 2, 3, 3, 1]\n",
      "[1, 2, 3, 3, 1, 1]\n",
      "[1, 2, 3, 3, 1, 2]\n",
      "[1, 2, 3, 3, 2]\n",
      "[1, 3]\n",
      "[1, 3, 1]\n",
      "[1, 3, 1, 1]\n",
      "[1, 3, 1, 1, 2]\n",
      "[1, 3, 1, 1, 2, 2]\n",
      "[1, 3, 1, 1, 2, 2, 3]\n",
      "[1, 3, 1, 1, 2, 3]\n",
      "[1, 3, 1, 1, 3]\n",
      "[1, 3, 1, 1, 3, 2]\n",
      "[1, 3, 1, 2]\n",
      "[1, 3, 1, 2, 1]\n",
      "[1, 3, 1, 2, 1, 2]\n",
      "[1, 3, 1, 2, 1, 2, 3]\n",
      "[1, 3, 1, 2, 1, 3]\n",
      "[1, 3, 1, 2, 2]\n",
      "[1, 3, 1, 2, 2, 1]\n",
      "[1, 3, 1, 2, 2, 1, 3]\n",
      "[1, 3, 1, 2, 2, 3]\n",
      "[1, 3, 1, 2, 3]\n",
      "[1, 3, 1, 2, 3, 1]\n",
      "[1, 3, 1, 2, 3, 2]\n",
      "[1, 3, 1, 3]\n",
      "[1, 3, 1, 3, 1]\n",
      "[1, 3, 1, 3, 1, 2]\n",
      "[1, 3, 1, 3, 2]\n",
      "[1, 3, 1, 3, 2, 1]\n",
      "[1, 3, 1, 3, 2, 2]\n",
      "[1, 3, 2]\n",
      "[1, 3, 2, 1]\n",
      "[1, 3, 2, 1, 1]\n",
      "[1, 3, 2, 1, 1, 2]\n",
      "[1, 3, 2, 1, 1, 2, 3]\n",
      "[1, 3, 2, 1, 1, 3]\n",
      "[1, 3, 2, 1, 2]\n",
      "[1, 3, 2, 1, 2, 1]\n",
      "[1, 3, 2, 1, 2, 1, 3]\n",
      "[1, 3, 2, 1, 2, 3]\n",
      "[1, 3, 2, 1, 3]\n",
      "[1, 3, 2, 1, 3, 1]\n",
      "[1, 3, 2, 1, 3, 2]\n",
      "[1, 3, 2, 2]\n",
      "[1, 3, 2, 2, 1]\n",
      "[1, 3, 2, 2, 1, 1]\n",
      "[1, 3, 2, 2, 1, 1, 3]\n",
      "[1, 3, 2, 2, 1, 3]\n",
      "[1, 3, 2, 2, 3]\n",
      "[1, 3, 2, 3]\n",
      "[1, 3, 2, 3, 1]\n",
      "[1, 3, 2, 3, 1, 1]\n",
      "[1, 3, 2, 3, 1, 2]\n",
      "[1, 3, 2, 3, 2]\n",
      "[1, 3, 3]\n",
      "[1, 3, 3, 1]\n",
      "[1, 3, 3, 1, 1]\n",
      "[1, 3, 3, 1, 1, 2]\n",
      "[1, 3, 3, 1, 2]\n",
      "[1, 3, 3, 1, 2, 1]\n",
      "[1, 3, 3, 1, 2, 2]\n",
      "[1, 3, 3, 2]\n",
      "[1, 3, 3, 2, 1]\n",
      "[1, 3, 3, 2, 1, 1]\n",
      "[1, 3, 3, 2, 1, 2]\n",
      "[1, 3, 3, 2, 2]\n",
      "[7]\n",
      "[7, 1]\n",
      "[7, 1, 1]\n",
      "[7, 1, 1, 2]\n",
      "[7, 1, 1, 3]\n",
      "[7, 1, 2]\n",
      "[7, 1, 2, 1]\n",
      "[7, 1, 2, 2]\n",
      "[7, 1, 2, 3]\n",
      "[7, 1, 3]\n",
      "[7, 2]\n",
      "[7, 2, 1]\n",
      "[7, 2, 1, 1]\n",
      "[7, 2, 1, 2]\n",
      "[7, 2, 1, 3]\n",
      "[7, 2, 2]\n",
      "[7, 2, 3]\n",
      "[7, 3]\n",
      "[7, 3, 1]\n",
      "[7, 3, 2]\n",
      "[7, 3, 3]\n"
     ]
    },
    {
     "data": {
      "text/plain": [
       "11"
      ]
     },
     "execution_count": 15,
     "metadata": {},
     "output_type": "execute_result"
    }
   ],
   "source": [
    "# https://www.codingninjas.com/codestudio/problems/ninja-and-his-dessert_1404495\n",
    "\n",
    "from sys import stdin, setrecursionlimit\n",
    "setrecursionlimit(10**7)\n",
    "\n",
    "def closestCost(n, m, baseCosts, toppingsCost, target):    \n",
    "    # Write your code here\n",
    "    \n",
    "    toppings_used = [0 for i in range(m)]\n",
    "    closest_cost = [baseCosts[0]]\n",
    "    found_answer = [False]\n",
    "    \n",
    "    def get_closest_range(val1, val2):\n",
    "        v1 = abs(target - val1)\n",
    "        v2 = abs(target - val2)\n",
    "        if v1 == v2:\n",
    "            return min(val1, val2)\n",
    "        \n",
    "        if v1 < v2:\n",
    "            return val1\n",
    "        else:\n",
    "            return val2\n",
    "            \n",
    "    def backtracking(remaining_cost, stack):\n",
    "        print(stack)\n",
    "        if remaining_cost < 0:\n",
    "            if remaining_cost == 0:\n",
    "                closest_cost[0] = target\n",
    "                found_answer[0] == True\n",
    "            else:\n",
    "                if closest_cost[0] != target:\n",
    "                    closest_cost[0] = get_closest_range(closest_cost[0], sum(stack))\n",
    "            \n",
    "            return\n",
    "        \n",
    "        for i, t_cost in enumerate(toppingsCost):\n",
    "            if toppings_used[i] >= 2 or found_answer[0]:\n",
    "                continue\n",
    "                \n",
    "            toppings_used[i] += 1\n",
    "            stack.append(t_cost)\n",
    "            \n",
    "            backtracking(remaining_cost - t_cost, stack)\n",
    "            \n",
    "            toppings_used[i] -= 1\n",
    "            stack.pop()\n",
    "            \n",
    "    for base in baseCosts:\n",
    "        closest_cost[0] = get_closest_range(base, closest_cost[0])\n",
    "        backtracking(remaining_cost=target-base, stack=[base])\n",
    "        \n",
    "    return closest_cost[0]\n",
    "\n",
    "baseCosts=[1,7]\n",
    "toppingsCost=[1,2,3]\n",
    "target=10\n",
    "\n",
    "closestCost(len(baseCosts), len(toppingsCost), baseCosts, toppingsCost, target)"
   ]
  },
  {
   "cell_type": "code",
   "execution_count": null,
   "id": "921aaccf-c56c-41d5-adb1-f1c2f22d5270",
   "metadata": {},
   "outputs": [],
   "source": []
  },
  {
   "cell_type": "code",
   "execution_count": 12,
   "id": "28db86e8-8a58-4c80-800c-3f1d6850cfac",
   "metadata": {},
   "outputs": [],
   "source": [
    "# \"ab\" can be written as {1b,  2,  a1,  ab}\n",
    "# \"xyz\" can be written as {1y1, 1yz,  2z,  3,  x1z,   x2,   xy1,   xyz}\n",
    "\n",
    "def replace_by_index(s, sub, idx):\n",
    "    return s[:idx] + sub + s[idx+1:]\n",
    "\n",
    "def undo_replace(orig, modified, idx):\n",
    "    return modified[:idx] + orig[idx] + modified[idx+1:]\n",
    "\n",
    "\n",
    "def findAbbr(string):\n",
    "    \n",
    "    n = len(string)\n",
    "    outputs = []\n",
    "    \n",
    "    def backtracking(idx, s):\n",
    "        \n",
    "        if idx == n:\n",
    "            outputs.append(str(s))\n",
    "            return\n",
    "        \n",
    "    replace_by_index(s, str(idx+1), idx)\n",
    "        \n",
    "        \n",
    "            \n",
    "    backtracking(0, '')\n",
    "    return outputs\n",
    "\n",
    "# findAbbr('ab')"
   ]
  },
  {
   "cell_type": "code",
   "execution_count": null,
   "id": "39b70370-2995-4ec5-ba9b-e370ab3ce157",
   "metadata": {},
   "outputs": [],
   "source": []
  },
  {
   "cell_type": "code",
   "execution_count": null,
   "id": "0ff420f7-3ef9-4dfc-80b0-1bcadf83e1cf",
   "metadata": {},
   "outputs": [],
   "source": []
  },
  {
   "cell_type": "code",
   "execution_count": null,
   "id": "91a34ae2-9b6f-4ec4-ab91-cd35166c2296",
   "metadata": {},
   "outputs": [],
   "source": []
  }
 ],
 "metadata": {
  "kernelspec": {
   "display_name": "Python 3 (ipykernel)",
   "language": "python",
   "name": "python3"
  },
  "language_info": {
   "codemirror_mode": {
    "name": "ipython",
    "version": 3
   },
   "file_extension": ".py",
   "mimetype": "text/x-python",
   "name": "python",
   "nbconvert_exporter": "python",
   "pygments_lexer": "ipython3",
   "version": "3.9.12"
  }
 },
 "nbformat": 4,
 "nbformat_minor": 5
}
