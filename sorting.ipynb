{
 "cells": [
  {
   "cell_type": "code",
   "execution_count": 8,
   "id": "d88c7177-0c6e-4dad-9fec-70721bdf7746",
   "metadata": {},
   "outputs": [],
   "source": [
    "# Bubble sort\n",
    "# [swap items from start to end] n times\n",
    "\n",
    "\n",
    "array = [1, 2, 3, 4, 6, 5]\n",
    "\n",
    "def bubble_sort(array):\n",
    "\n",
    "    for i in range(len(array)):\n",
    "        for j in range(len(array) - 1):\n",
    "\n",
    "            if array[j] > array[j+1]:\n",
    "                array[j], array[j+1] = array[j+1], array[j]\n",
    "            \n",
    "    return array\n",
    "       \n",
    "\n",
    "def bubble_sort_optimized(array):\n",
    "\n",
    "    for i in range(len(array)):\n",
    "        flag = 0\n",
    "\n",
    "        for j in range(len(array) - 1):\n",
    "\n",
    "            if array[j] > array[j+1]:\n",
    "                array[j], array[j+1] = array[j+1], array[j]\n",
    "                flag = 1\n",
    "                print(\"{} > {} = {}, {}\".format(array[j], array[j+1], \"SWAP\", array))\n",
    "\n",
    "            else:\n",
    "                print(\"{} > {} = {}\".format(array[j], array[j+1], \"NO SWAP\"))\n",
    "\n",
    "            print()\n",
    "            \n",
    "        '''if swaps do not happen, means the array is already sorted!'''\n",
    "        if flag == 0:\n",
    "            break\n",
    "            \n",
    "    return array\n",
    "       \n",
    "    \n",
    "# bubble_sort(array)\n",
    "# bubble_sort_optimized(array)"
   ]
  },
  {
   "cell_type": "code",
   "execution_count": null,
   "id": "c2a6727c-3bda-416e-9be2-2d1ab507743e",
   "metadata": {},
   "outputs": [],
   "source": []
  },
  {
   "cell_type": "code",
   "execution_count": 1,
   "id": "1e2f3e5c-cbf8-4ebb-932f-8e1502857391",
   "metadata": {},
   "outputs": [
    {
     "data": {
      "text/plain": [
       "[2, 2, 2, 3, 3, 4, 5, 8]"
      ]
     },
     "execution_count": 1,
     "metadata": {},
     "output_type": "execute_result"
    }
   ],
   "source": [
    "# Insertion sort\n",
    "# Start from 1st element and compare with 0th. if current i is 5, check all 4 back and insert at right place\n",
    "\n",
    "arr = [8,2,2,3,2,4,3,5]    \n",
    "\n",
    "def insertion_sort(arr):\n",
    "    \n",
    "    for i in range(1, len(arr)):\n",
    "        j = i - 1\n",
    "        \n",
    "        while j >= 0:\n",
    "            \n",
    "            if arr[j + 1] < arr[j]:\n",
    "                arr[j + 1], arr[j] = arr[j], arr[j + 1]\n",
    "                j -= 1\n",
    "            else:\n",
    "                break            \n",
    "            \n",
    "    return arr\n",
    "                \n",
    "insertion_sort(arr)   "
   ]
  },
  {
   "cell_type": "code",
   "execution_count": null,
   "id": "ae653ecb-44aa-4ece-985e-07e10eb6c306",
   "metadata": {},
   "outputs": [],
   "source": []
  },
  {
   "cell_type": "code",
   "execution_count": null,
   "id": "76bd3b37-a5b7-48a9-a4af-f64775254d11",
   "metadata": {},
   "outputs": [],
   "source": []
  },
  {
   "cell_type": "code",
   "execution_count": 7,
   "id": "f6001130-fe14-4e95-95a9-4fa0807856b4",
   "metadata": {},
   "outputs": [
    {
     "data": {
      "text/plain": [
       "[1, 1, 1, 1, 2, 2, 2, 2, 3, 3, 3, 3, 8, 9, 9]"
      ]
     },
     "execution_count": 7,
     "metadata": {},
     "output_type": "execute_result"
    }
   ],
   "source": [
    "# Selection sort\n",
    "\n",
    "# 1) iterate i through every item one by one\n",
    "# 2) find the smallest element and swap it with i\n",
    "\n",
    "def get_min_with_index(array):\n",
    "    index = 0\n",
    "    min_val = array[0]\n",
    "    \n",
    "    for i, val in enumerate(array):\n",
    "        if min_val > val:\n",
    "            min_val = val\n",
    "            index = i\n",
    "                        \n",
    "    return index, min_val\n",
    "\n",
    "def selection_sort(arr):\n",
    "    \n",
    "    for i in range(len(arr)):\n",
    "        \n",
    "        array = arr[i:]\n",
    "        index, min_val = get_min_with_index(array=array)        \n",
    "        arr[i], arr[index + i] = arr[index + i], arr[i]\n",
    "                        \n",
    "    return arr\n",
    "\n",
    "arr = [1,1,1,1,3,3,3,3,2,2,2,2,9,8,9]\n",
    "selection_sort(arr) "
   ]
  },
  {
   "cell_type": "code",
   "execution_count": null,
   "id": "179ae733-733a-44d0-b1fe-56d9b21c0fcb",
   "metadata": {},
   "outputs": [],
   "source": []
  },
  {
   "cell_type": "code",
   "execution_count": 2,
   "id": "1f7b023a-aa1a-4e10-8214-565c5a359acc",
   "metadata": {},
   "outputs": [],
   "source": [
    "# Merge Sort\n",
    "\n",
    "# 1) Split all the arrays by mid until single elements\n",
    "# 2) merge split arrays\n",
    "# 3) add remaining leftor right arrays\n",
    "\n",
    "\n",
    "arr = [5, 6, 3, 1, 8, 4, 9, 2, 7]\n",
    "\n",
    "def merge_sort(arr):\n",
    "    \n",
    "    if len(arr) > 1:\n",
    "        \n",
    "        mid = len(arr)//2\n",
    "        \n",
    "        left_array = arr[:mid]\n",
    "        right_array = arr[mid:]\n",
    "        \n",
    "        merge_sort(left_array)\n",
    "        merge_sort(right_array)\n",
    "        \n",
    "        i = 0\n",
    "        j = 0\n",
    "        k = 0\n",
    "                \n",
    "        while i < len(left_array) and j < len(right_array):\n",
    "            \n",
    "            if left_array[i] < right_array[j]:\n",
    "                arr[k] = left_array[i]\n",
    "                i += 1\n",
    "            else:\n",
    "                arr[k] = right_array[j]\n",
    "                j += 1\n",
    "            \n",
    "            k += 1\n",
    "                \n",
    "        while i < len(left_array):\n",
    "            arr[k] = left_array[i]\n",
    "            i += 1\n",
    "            k += 1\n",
    "            \n",
    "            \n",
    "        while j < len(right_array):\n",
    "            arr[k] = right_array[j]\n",
    "            j += 1\n",
    "            k += 1\n",
    "            \n",
    "merge_sort(arr)"
   ]
  },
  {
   "cell_type": "code",
   "execution_count": 3,
   "id": "33a3f628-d17a-43c4-a1ae-685178406a16",
   "metadata": {},
   "outputs": [
    {
     "data": {
      "text/plain": [
       "[1, 2, 3, 4, 5, 6, 7, 8, 9]"
      ]
     },
     "execution_count": 3,
     "metadata": {},
     "output_type": "execute_result"
    }
   ],
   "source": [
    "arr"
   ]
  },
  {
   "cell_type": "code",
   "execution_count": null,
   "id": "3b41841f-5a82-4913-bb9c-5baf73fb749b",
   "metadata": {},
   "outputs": [],
   "source": []
  },
  {
   "cell_type": "code",
   "execution_count": 20,
   "id": "62d8bef3-c99f-48ed-84f5-7ca002cc5e5d",
   "metadata": {},
   "outputs": [
    {
     "data": {
      "text/plain": [
       "[0, 0, 0, 0, 0, 1, 1, 1, 1, 2, 2, 2, 2]"
      ]
     },
     "execution_count": 20,
     "metadata": {},
     "output_type": "execute_result"
    }
   ],
   "source": [
    "# Sort an array of 0s, 1s and 2s\n",
    "\n",
    "arr = [2,0,1,0,0,0,2,1,2,1,0,1,2]\n",
    "\n",
    "def three_sort(arr):\n",
    "    low, mid, high = 0, 0, len(arr) - 1\n",
    "    \n",
    "    while mid <= high:\n",
    "        \n",
    "        if arr[mid] == 2:\n",
    "            \n",
    "            arr[mid], arr[high] = arr[high], arr[mid]\n",
    "            high -= 1\n",
    "            \n",
    "        elif arr[mid] == 1:\n",
    "            mid += 1\n",
    "            \n",
    "        else:\n",
    "            arr[mid], arr[low] = arr[low], arr[mid]\n",
    "            mid += 1\n",
    "            low += 1\n",
    "            \n",
    "    return arr\n",
    "        \n",
    "            \n",
    "three_sort(arr)"
   ]
  },
  {
   "cell_type": "code",
   "execution_count": 21,
   "id": "86820984-4ce0-4db5-8723-3caaaed5c167",
   "metadata": {},
   "outputs": [
    {
     "data": {
      "text/plain": [
       "[36, 8, 38, 22, 30, 59, 96, 75, 76]"
      ]
     },
     "execution_count": 21,
     "metadata": {},
     "output_type": "execute_result"
    }
   ],
   "source": [
    "def threeWayPartition(array, a, b):\n",
    "    # code here \n",
    "    low, mid, high = 0, 0, len(array) - 1\n",
    "\n",
    "    while high>=mid:\n",
    "        \n",
    "        if array[mid] < a:\n",
    "            array[mid],array[low]=array[low],array[mid]\n",
    "            low+=1\n",
    "            mid+=1\n",
    "            \n",
    "        elif array[mid] > b:\n",
    "            array[mid], array[high] = array[high], array[mid]\n",
    "            high-=1\n",
    "            \n",
    "        else:\n",
    "            mid+=1\n",
    "            \n",
    "    return array\n",
    "\n",
    "arr = [76, 8, 75, 22, 59, 96, 30, 38, 36]\n",
    "a , b = 44, 62\n",
    "\n",
    "threeWayPartition(arr, a, b)"
   ]
  },
  {
   "cell_type": "code",
   "execution_count": null,
   "id": "39168d7d-7851-4b3e-9e59-c1a1f5ec2b5f",
   "metadata": {},
   "outputs": [],
   "source": []
  },
  {
   "cell_type": "code",
   "execution_count": null,
   "id": "27bd3525-d8d6-444a-bf3d-2c5c1bf743e7",
   "metadata": {},
   "outputs": [],
   "source": []
  },
  {
   "cell_type": "code",
   "execution_count": 48,
   "id": "d1daf381-c967-4a5e-a862-5c727803ca80",
   "metadata": {},
   "outputs": [
    {
     "data": {
      "text/plain": [
       "[2, 3, 4, 5, 6, 7, 8, 9]"
      ]
     },
     "execution_count": 48,
     "metadata": {},
     "output_type": "execute_result"
    }
   ],
   "source": [
    "# QuickSort\n",
    "\n",
    "def partition(left, right, nums):\n",
    "    pivot = nums[right]\n",
    "    \n",
    "    for i in range(left, right):\n",
    "        if nums[i] <= pivot:\n",
    "            nums[i], nums[left] = nums[left], nums[i]\n",
    "            left += 1\n",
    "            \n",
    "    nums[right], nums[left] = nums[left], nums[right]\n",
    "        \n",
    "    return left\n",
    "\n",
    "def quickSort(l, r, arr):\n",
    "    \n",
    "    if len(arr) == 1: return arr\n",
    "\n",
    "    if l < r:\n",
    "        part = partition(l, r, arr)\n",
    "        quickSort(l, part-1, arr)\n",
    "        quickSort(part+1,r, arr)\n",
    "        \n",
    "    return arr\n",
    "        \n",
    "    \n",
    "\n",
    "arr = [6, 7, 8, 3, 4, 2, 9, 5]\n",
    "\n",
    "quickSort(0, len(arr)-1, arr)"
   ]
  },
  {
   "cell_type": "code",
   "execution_count": null,
   "id": "69d3891a-6cae-47ad-b6a3-d141bc961bbd",
   "metadata": {},
   "outputs": [],
   "source": []
  },
  {
   "cell_type": "code",
   "execution_count": 37,
   "id": "0e8754aa-e2c6-4bf3-b330-a48e5faa1b46",
   "metadata": {},
   "outputs": [
    {
     "data": {
      "text/plain": [
       "9"
      ]
     },
     "execution_count": 37,
     "metadata": {},
     "output_type": "execute_result"
    }
   ],
   "source": [
    "def get_min_with_index(arr):\n",
    "    \n",
    "    min_element = arr[0]\n",
    "    index = 0\n",
    "    \n",
    "    for i, val in enumerate(arr):\n",
    "        if val < min_element:\n",
    "            min_element = val\n",
    "            index = i\n",
    "            \n",
    "    return min_element, index\n",
    "        \n",
    "\n",
    "def kth_smallest(arr, k):\n",
    "    \"\"\"\n",
    "    with selection sort: \n",
    "    1) find the min element in array\n",
    "    2) swap it with sorted pointer increment sorted pointer by one\n",
    "    \n",
    "    \"\"\"\n",
    "    \n",
    "    for i in range(len(arr)):\n",
    "        min_element, index = get_min_with_index(arr[i:])\n",
    "        \n",
    "        arr[i], arr[i + index] = arr[i + index], arr[i]\n",
    "\n",
    "        if (i+1) == k:\n",
    "            return min_element\n",
    "            \n",
    "    return -1\n",
    "\n",
    "arr = [3, 1, 3, 5, 2, 8, 9, 7]\n",
    "\n",
    "kth_smallest(arr, 3)"
   ]
  },
  {
   "cell_type": "code",
   "execution_count": 90,
   "id": "ad7620aa-2e17-449c-a2ee-9a69ea507314",
   "metadata": {},
   "outputs": [
    {
     "data": {
      "text/plain": [
       "2"
      ]
     },
     "execution_count": 90,
     "metadata": {},
     "output_type": "execute_result"
    }
   ],
   "source": [
    "def patition(left, right, arr):    \n",
    "    pivot = arr[right]\n",
    "    \n",
    "    for i in range(left, right):\n",
    "        if arr[i] <= pivot:\n",
    "            arr[left], arr[i] = arr[i], arr[left]\n",
    "            left += 1\n",
    "            \n",
    "    arr[left], arr[right] = arr[right], arr[left]\n",
    "            \n",
    "    return left\n",
    "\n",
    "def kth_smallest(arr, k):\n",
    "    \"\"\" kth smallest element with Quick Sort\"\"\"\n",
    "    \n",
    "    left = 0\n",
    "    right = len(arr) - 1\n",
    "    pivot = patition(left, right, arr)\n",
    "    \n",
    "    for i in range(len(arr)):\n",
    "        \n",
    "        if pivot == k: return arr[pivot]\n",
    "        \n",
    "        if k < pivot:\n",
    "            right = pivot - 1\n",
    "            pivot = patition(left, right, arr)\n",
    "            \n",
    "        else:\n",
    "            left = pivot\n",
    "            pivot = patition(left, right, arr)\n",
    "            \n",
    "    return -1\n",
    "            \n",
    "arr = [3, 1, 10, 3, 5, 2, 8, 9, 7]\n",
    "k = 1\n",
    "\n",
    "kth_smallest(arr, k=k)"
   ]
  },
  {
   "cell_type": "code",
   "execution_count": 122,
   "id": "44ab8337-1267-4f5a-95a4-e4c10a10078c",
   "metadata": {},
   "outputs": [
    {
     "name": "stdout",
     "output_type": "stream",
     "text": [
      "3 4 [3, 5, 4, 2, 1]\n",
      "4 4 [3, 5, 4, 2, 1]\n"
     ]
    },
    {
     "data": {
      "text/plain": [
       "1"
      ]
     },
     "execution_count": 122,
     "metadata": {},
     "output_type": "execute_result"
    }
   ],
   "source": [
    "def patition(left, right, arr):    \n",
    "    pivot = arr[right]\n",
    "    \n",
    "    for i in range(left, right):\n",
    "        if arr[i] >= pivot:\n",
    "            arr[left], arr[i] = arr[i], arr[left]\n",
    "            left += 1\n",
    "            \n",
    "    arr[left], arr[right] = arr[right], arr[left]\n",
    "            \n",
    "    return left\n",
    "\n",
    "def kth_largest(arr, k):\n",
    "    \"\"\" kth smallest element with Quick Sort\"\"\"\n",
    "    \n",
    "    k -= 1\n",
    "    \n",
    "    left = 0\n",
    "    right = len(arr) - 1\n",
    "    pivot = patition(left, right, arr)\n",
    "    \n",
    "    for i in range(len(arr)):\n",
    "        print(pivot, k, arr)\n",
    "        \n",
    "        if pivot == k: return arr[pivot]\n",
    "        \n",
    "        if k < pivot:\n",
    "            right = pivot - 1\n",
    "            pivot = patition(left, right, arr)\n",
    "            \n",
    "        else:\n",
    "            left = pivot\n",
    "            pivot = patition(left, right, arr)\n",
    "            \n",
    "    return -1\n",
    "\n",
    "# [1,2,3,5,4]\n",
    "# [1,2,3,4,5]\n",
    "            \n",
    "arr = [1,3,5,4,2]\n",
    "k = 5\n",
    "\n",
    "kth_largest(arr, k=k)"
   ]
  },
  {
   "cell_type": "code",
   "execution_count": 45,
   "id": "66cfc329-5a46-4961-96b0-b060578fb315",
   "metadata": {},
   "outputs": [
    {
     "data": {
      "text/plain": [
       "[1, 2, 3, 4, 5, 6, 7, 8]"
      ]
     },
     "execution_count": 45,
     "metadata": {},
     "output_type": "execute_result"
    }
   ],
   "source": [
    "def ninjaAndSortedArrays(arr1,arr2,m,n):\n",
    "    # Write your code here.\n",
    "    i = 0\n",
    "    j = 0\n",
    "    ptr = 0\n",
    "    \n",
    "    while i < m and j < n:\n",
    "        \n",
    "        if arr1[i] > arr2[j]:\n",
    "            \n",
    "            for x in range(m-1, i, -1):\n",
    "                arr1[x] = arr1[x - 1]\n",
    "                            \n",
    "            arr1[i] = arr2[j]\n",
    "            i += 1\n",
    "            j += 1\n",
    "                    \n",
    "        else:\n",
    "            i += 1\n",
    "            \n",
    "    for x in range((m - (n - j)), m):\n",
    "        arr1[x] = arr2[j]\n",
    "        j += 1\n",
    "    \n",
    "    return arr1\n",
    "\n",
    "arr1 = [1,3,5,7, 0,0,0,0]\n",
    "arr2 = [2,4,6,8]\n",
    "\n",
    "ninjaAndSortedArrays(arr1,arr2,len(arr1),len(arr2))"
   ]
  },
  {
   "cell_type": "code",
   "execution_count": null,
   "id": "0359d99b-9d71-479b-bb41-aac47a56d654",
   "metadata": {},
   "outputs": [],
   "source": []
  },
  {
   "cell_type": "code",
   "execution_count": 1,
   "id": "9b8f499b-8196-4931-bd17-197149ca9448",
   "metadata": {},
   "outputs": [],
   "source": [
    "def sorted_array(arr, val):\n",
    "    # 1,2,3,5,6\n",
    "    \n",
    "    start = 0\n",
    "    end = len(arr) - 1\n",
    "    \n",
    "    while start <= end:\n",
    "        mid = (start + end)//2\n",
    "        \n",
    "        if arr[mid] == val:\n",
    "            arr.insert(mid, val)\n",
    "            return\n",
    "        else:\n",
    "            if arr[mid] < val:\n",
    "                start = mid + 1\n",
    "            else:\n",
    "                end = mid - 1\n",
    "                \n",
    "    arr.insert(end+1, val)"
   ]
  },
  {
   "cell_type": "code",
   "execution_count": 2,
   "id": "40bbeb4a-cd5f-42ae-95d3-aa9f8c431930",
   "metadata": {},
   "outputs": [
    {
     "data": {
      "text/plain": [
       "[1, 2, 3, 4, 4, 9, 20]"
      ]
     },
     "execution_count": 2,
     "metadata": {},
     "output_type": "execute_result"
    }
   ],
   "source": [
    "arr = []\n",
    "sorted_array(arr, 1)\n",
    "sorted_array(arr, 3)\n",
    "sorted_array(arr, 2)\n",
    "sorted_array(arr, 4)\n",
    "sorted_array(arr, 20)\n",
    "sorted_array(arr, 9)\n",
    "sorted_array(arr, 4)\n",
    "arr"
   ]
  },
  {
   "cell_type": "code",
   "execution_count": 6,
   "id": "676de60e-a438-432e-a270-e809a27def51",
   "metadata": {},
   "outputs": [
    {
     "data": {
      "text/plain": [
       "[1, 2, 3, 4, 4, 9, 20]"
      ]
     },
     "execution_count": 6,
     "metadata": {},
     "output_type": "execute_result"
    }
   ],
   "source": [
    "def sort_insert(arr, val):\n",
    "    if not arr: \n",
    "        arr.append(val)\n",
    "        return arr\n",
    "\n",
    "    '''assumption: already sorted 5, 6'''\n",
    "    start = 0\n",
    "    end = len(arr)-1\n",
    "    \n",
    "    while start <= end:\n",
    "        mid = (start + end) // 2\n",
    "        \n",
    "        if arr[mid] == val:\n",
    "            arr.insert(mid, val)\n",
    "            return arr\n",
    "        \n",
    "        if arr[mid] <= val:\n",
    "            start = mid + 1\n",
    "        else:\n",
    "            end = mid - 1\n",
    "            \n",
    "    arr.insert(end + 1, val)\n",
    "    return arr\n",
    "\n",
    "arr = []\n",
    "sort_insert(arr, 1)\n",
    "sort_insert(arr, 3)\n",
    "sort_insert(arr, 2)\n",
    "sort_insert(arr, 4)\n",
    "sort_insert(arr, 20)\n",
    "sort_insert(arr, 9)\n",
    "sort_insert(arr, 4)\n",
    "arr"
   ]
  },
  {
   "cell_type": "code",
   "execution_count": null,
   "id": "b880aad0-b137-4084-8998-349850d5e09f",
   "metadata": {},
   "outputs": [],
   "source": []
  }
 ],
 "metadata": {
  "kernelspec": {
   "display_name": "Python 3 (ipykernel)",
   "language": "python",
   "name": "python3"
  },
  "language_info": {
   "codemirror_mode": {
    "name": "ipython",
    "version": 3
   },
   "file_extension": ".py",
   "mimetype": "text/x-python",
   "name": "python",
   "nbconvert_exporter": "python",
   "pygments_lexer": "ipython3",
   "version": "3.9.12"
  }
 },
 "nbformat": 4,
 "nbformat_minor": 5
}
