{
 "cells": [
  {
   "cell_type": "code",
   "execution_count": 125,
   "id": "4459c87a-7300-4a41-99e1-50c8495e4cfd",
   "metadata": {},
   "outputs": [],
   "source": [
    "class LinkedList():\n",
    "    def __init__(self, data):\n",
    "        self.data = data\n",
    "        self.next = None\n",
    "        \n",
    "linked_list = LinkedList(1)\n",
    "linked_list.next = LinkedList(2)\n",
    "linked_list.next.next = LinkedList(3)\n",
    "linked_list.next.next.next = LinkedList(4)\n",
    "linked_list.next.next.next.next = LinkedList(5)\n",
    "linked_list.next.next.next.next.next = LinkedList(6)\n",
    "linked_list.next.next.next.next.next.next = LinkedList(7)"
   ]
  },
  {
   "cell_type": "code",
   "execution_count": 120,
   "id": "87bfa0d0-3124-4d3d-89bd-a02cd3891c11",
   "metadata": {},
   "outputs": [],
   "source": [
    "def find_middle(head):\n",
    "    slow = head\n",
    "    fast = head\n",
    "    \n",
    "    curr = head\n",
    "    \n",
    "    while fast and fast.next:\n",
    "        slow = slow.next\n",
    "        fast = fast.next.next\n",
    "        \n",
    "    while curr != slow:\n",
    "        curr = curr.next \n",
    "        \n",
    "    if curr:\n",
    "        curr.next = None\n",
    "        \n",
    "    return head, slow\n",
    "\n",
    "head, slow = find_middle(linked_list)"
   ]
  },
  {
   "cell_type": "code",
   "execution_count": 126,
   "id": "5106cd9a-7221-4dea-8e8b-ddd09ff1a0f5",
   "metadata": {},
   "outputs": [
    {
     "data": {
      "text/plain": [
       "4"
      ]
     },
     "execution_count": 126,
     "metadata": {},
     "output_type": "execute_result"
    }
   ],
   "source": [
    "def find_middle(head):\n",
    "    fast = head\n",
    "    slow = head\n",
    "    \n",
    "    while fast and fast.next:\n",
    "        slow = slow.next\n",
    "        fast = fast.next.next\n",
    "        \n",
    "    return slow\n",
    "\n",
    "middle = find_middle(linked_list)\n",
    "middle.data"
   ]
  },
  {
   "cell_type": "code",
   "execution_count": 122,
   "id": "e0819021-85e8-4b5d-9b96-e02c7604ed1f",
   "metadata": {},
   "outputs": [],
   "source": [
    "def print_ll(head):\n",
    "    curr = head\n",
    "    while curr:\n",
    "        print(curr.data)\n",
    "        curr = curr.next"
   ]
  },
  {
   "cell_type": "code",
   "execution_count": 123,
   "id": "0087d2be-b7b5-42cd-8737-9ff83ef68353",
   "metadata": {},
   "outputs": [
    {
     "name": "stdout",
     "output_type": "stream",
     "text": [
      "1\n",
      "2\n",
      "3\n",
      "4\n"
     ]
    }
   ],
   "source": [
    "print_ll(head)"
   ]
  },
  {
   "cell_type": "code",
   "execution_count": 124,
   "id": "07a388fe-1402-4a00-9af8-7c062b34934d",
   "metadata": {},
   "outputs": [
    {
     "name": "stdout",
     "output_type": "stream",
     "text": [
      "4\n"
     ]
    }
   ],
   "source": [
    "print_ll(slow)"
   ]
  },
  {
   "cell_type": "code",
   "execution_count": null,
   "id": "36786157-977d-4141-8e6a-d6a1cb104389",
   "metadata": {},
   "outputs": [],
   "source": []
  },
  {
   "cell_type": "code",
   "execution_count": 86,
   "id": "4f84679b-fa8c-4890-8225-91685c236250",
   "metadata": {},
   "outputs": [
    {
     "name": "stdout",
     "output_type": "stream",
     "text": [
      "1\n"
     ]
    }
   ],
   "source": [
    "def reverse(head):\n",
    "    curr = head\n",
    "    prev = None\n",
    "    \n",
    "    while curr:\n",
    "        nxt = curr.next\n",
    "        curr.next = prev\n",
    "        prev = curr\n",
    "        curr = nxt\n",
    "        \n",
    "    head = prev\n",
    "    return head\n",
    "\n",
    "reversed_linkedlist = reverse(linked_list)\n",
    "\n",
    "print_ll(reversed_linkedlist)"
   ]
  },
  {
   "cell_type": "code",
   "execution_count": 97,
   "id": "6d76c0d3-3f5c-4cc8-b0c3-0f8443eac832",
   "metadata": {},
   "outputs": [
    {
     "name": "stdout",
     "output_type": "stream",
     "text": [
      "1\n",
      "7\n",
      "2\n",
      "6\n",
      "3\n",
      "5\n",
      "4\n"
     ]
    }
   ],
   "source": [
    "# If the given linked list is 1 -> 2 -> 3 -> 4 -> 5 -> NULL.\n",
    "# Then rearrange it into 1 -> 5 -> 2 -> 4 -> 3 -> NULL.\n",
    " \n",
    "def rearrange(node):\n",
    "   \n",
    "    # 1) Find the middle point using tortoise and hare\n",
    "    # method\n",
    "    slow = node\n",
    "    fast = slow.next\n",
    "    while (fast != None and fast.next != None):\n",
    "        slow = slow.next\n",
    "        fast = fast.next.next\n",
    "     \n",
    "    # 2) Split the linked list in two halves\n",
    "    # node1, head of first half    1 -> 2 -> 3\n",
    "    # node2, head of second half   4 -> 5   \n",
    "    node1 = node\n",
    "    node2 = slow.next\n",
    "    slow.next = None\n",
    "     \n",
    "    # 3) Reverse the second half, i.e., 5 -> 4\n",
    "    node2 = reverse(node2)\n",
    "     \n",
    "    # 4) Merge alternate nodes\n",
    "    node = LinkedList(0)  #Assign dummy Node\n",
    "     \n",
    "    # curr is the pointer to this dummy Node, which\n",
    "    # will be used to form the new list\n",
    "    curr = node\n",
    "     \n",
    "    while (node1 != None or node2 != None):\n",
    "         \n",
    "        # First add the element from first list\n",
    "        if (node1 != None):\n",
    "            curr.next = node1\n",
    "            curr = curr.next\n",
    "            node1 = node1.next\n",
    "         \n",
    "        # Then add the element from second list\n",
    "        if(node2 != None):\n",
    "            curr.next = node2\n",
    "            curr = curr.next\n",
    "            node2 = node2.next\n",
    "     \n",
    "    # Assign the head of the new list to head pointer\n",
    "    node = node.next\n",
    "\n",
    "rearrange(linked_list)\n",
    "\n",
    "print_ll(linked_list)"
   ]
  },
  {
   "cell_type": "code",
   "execution_count": 100,
   "id": "1ac6a1c7-3e99-493f-9829-0d3c76b936b9",
   "metadata": {},
   "outputs": [],
   "source": [
    "def sortTwoLists(first, second):\n",
    "    \n",
    "    if not first: return second\n",
    "    if not second: return first\n",
    "\n",
    "    if first.data < second.data:\n",
    "            head = Node(first.data)\n",
    "            first = first.next\n",
    "    else:\n",
    "        head = Node(second.data)\n",
    "        second = second.next\n",
    "\n",
    "    curr = head\n",
    "\n",
    "    while first and second:\n",
    "        if first.data < second.data:\n",
    "            curr.next = Node(first.data)\n",
    "            curr = curr.next\n",
    "            first = first.next\n",
    "        else:\n",
    "            curr.next = Node(second.data)\n",
    "            curr = curr.next\n",
    "            second = second.next\n",
    "\n",
    "    while first:\n",
    "        curr.next = Node(first.data)\n",
    "        curr = curr.next\n",
    "        first = first.next\n",
    "\n",
    "    while second:\n",
    "        curr.next = Node(second.data)\n",
    "        curr = curr.next\n",
    "        second = second.next\n",
    "\n",
    "    return head"
   ]
  },
  {
   "cell_type": "code",
   "execution_count": null,
   "id": "65012c3d-d4d4-48af-b214-691cb9917b66",
   "metadata": {},
   "outputs": [],
   "source": []
  },
  {
   "cell_type": "code",
   "execution_count": 36,
   "id": "9f17bc36-f8da-4bd6-b260-8967983cf63b",
   "metadata": {},
   "outputs": [
    {
     "data": {
      "text/plain": [
       "1"
      ]
     },
     "execution_count": 36,
     "metadata": {},
     "output_type": "execute_result"
    }
   ],
   "source": [
    "class DLL():\n",
    "    def __init__(self, key, value):\n",
    "        self.prev = None\n",
    "        self.next = None\n",
    "        self.key = key\n",
    "        self.value = value\n",
    "\n",
    "class LRUCache:\n",
    "    # Initialize the LRU Cache\n",
    "    def __init__(self, capacity):\n",
    "        self.size = capacity\n",
    "        self.head = DLL(key=0, value=0)\n",
    "        self.tail = DLL(key=0, value=0)\n",
    "        self.key_index_map = {}\n",
    "        \n",
    "        self.head.next = self.tail\n",
    "        self.tail.prev = self.head\n",
    "        \n",
    "    def delete_node(self, node):\n",
    "        node.prev.next = node.next\n",
    "        node.next.prev = node.prev\n",
    "        node.prev = None\n",
    "        node.next = None\n",
    "        return node\n",
    "\n",
    "    def insert_node_after_head(self, node):\n",
    "        node.prev = self.head\n",
    "        node.next = self.head.next\n",
    "        self.head.next.prev = node\n",
    "        self.head.next = node\n",
    "        \n",
    "    def remove_node_before_tail(self):\n",
    "        self.tail.prev.prev.next = self.tail\n",
    "        self.tail.prev = self.tail.prev.prev\n",
    "        \n",
    "\n",
    "    def get(self, key):\n",
    "        if key in self.key_index_map:\n",
    "            node = self.key_index_map[key]\n",
    "            val = node.value\n",
    "            \n",
    "            new_node = self.delete_node(node)\n",
    "            self.insert_node_after_head(new_node)\n",
    "            self.key_index_map[key] = new_node\n",
    "            return val\n",
    "        else:\n",
    "            return -1\n",
    "            \n",
    "\n",
    "    def put(self, key, value):\n",
    "        node = DLL(key=key, value=value)\n",
    "        \n",
    "        if key in self.key_index_map:\n",
    "            \n",
    "            old_node = self.key_index_map[key]            \n",
    "            self.delete_node(old_node)\n",
    "            \n",
    "            self.insert_node_after_head(node)\n",
    "            \n",
    "        else:\n",
    "            if len(self.key_index_map) >= self.size:\n",
    "                old_node = self.tail.prev\n",
    "                self.key_index_map.pop(old_node.key)\n",
    "                self.delete_node(old_node)\n",
    "                self.insert_node_after_head(node)\n",
    "            else:\n",
    "                self.insert_node_after_head(node)\n",
    "                    \n",
    "        self.key_index_map[key] = node\n",
    "        return\n",
    "\n",
    "cache = LRUCache(3)\n",
    "cache.put(1,1)\n",
    "cache.put(2,2)\n",
    "cache.put(3,3)\n",
    "\n",
    "cache.get(1)\n",
    "\n",
    "cache.put(4,4)\n",
    "cache.put(5,5)\n",
    "\n",
    "cache.get(1)"
   ]
  },
  {
   "cell_type": "code",
   "execution_count": null,
   "id": "e166072e-d144-41f5-bf31-470413756fe8",
   "metadata": {},
   "outputs": [],
   "source": []
  },
  {
   "cell_type": "code",
   "execution_count": 42,
   "id": "bef9b95e-02ea-44a0-b8c1-86ad83a102e2",
   "metadata": {},
   "outputs": [
    {
     "name": "stdout",
     "output_type": "stream",
     "text": [
      "0 3\n",
      "0 4\n",
      "0 5\n",
      "1 3\n",
      "1 4\n",
      "1 5\n",
      "2 3\n",
      "2 4\n",
      "2 5\n"
     ]
    }
   ],
   "source": [
    "'''\n",
    "1 2 3  4 5 6  7 8 9\n",
    "1 2 3  4 5 6  7 8 9\n",
    "1 2 3  4 5 6  7 8 9\n",
    "\n",
    "1 2 3  4 5 6  7 8 9\n",
    "1 2 3  4 5 6  7 8 9\n",
    "1 2 3  4 5 6  7 8 9\n",
    "\n",
    "1 2 3  4 5 6  7 8 9\n",
    "1 2 3  4 5 6  7 8 9\n",
    "1 2 3  4 5 6  7 8 9\n",
    "'''\n",
    "\n",
    "row = 1\n",
    "col = 4\n",
    "three_three_row, three_three_col = row//3, col//3\n",
    "\n",
    "for i in range(three_three_row*3, three_three_row*3 + 3):\n",
    "    for j in range(three_three_col*3, three_three_col*3 + 3):\n",
    "        print(i, j)\n",
    "    "
   ]
  },
  {
   "cell_type": "code",
   "execution_count": null,
   "id": "ed4b7021-273c-4556-9b05-dddda6e7cff3",
   "metadata": {},
   "outputs": [],
   "source": []
  }
 ],
 "metadata": {
  "kernelspec": {
   "display_name": "Python 3 (ipykernel)",
   "language": "python",
   "name": "python3"
  },
  "language_info": {
   "codemirror_mode": {
    "name": "ipython",
    "version": 3
   },
   "file_extension": ".py",
   "mimetype": "text/x-python",
   "name": "python",
   "nbconvert_exporter": "python",
   "pygments_lexer": "ipython3",
   "version": "3.9.12"
  }
 },
 "nbformat": 4,
 "nbformat_minor": 5
}
